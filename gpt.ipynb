{
  "nbformat": 4,
  "nbformat_minor": 0,
  "metadata": {
    "colab": {
      "provenance": [],
      "authorship_tag": "ABX9TyNg8S6fQWmHVGRAyfprbpPI",
      "include_colab_link": true
    },
    "kernelspec": {
      "name": "python3",
      "display_name": "Python 3"
    },
    "language_info": {
      "name": "python"
    }
  },
  "cells": [
    {
      "cell_type": "markdown",
      "metadata": {
        "id": "view-in-github",
        "colab_type": "text"
      },
      "source": [
        "<a href=\"https://colab.research.google.com/github/heerboi/AI-from-scratch/blob/main/gpt.ipynb\" target=\"_parent\"><img src=\"https://colab.research.google.com/assets/colab-badge.svg\" alt=\"Open In Colab\"/></a>"
      ]
    },
    {
      "cell_type": "markdown",
      "source": [
        "Following Andrej's video: https://www.youtube.com/watch?v=kCc8FmEb1nY"
      ],
      "metadata": {
        "id": "NytWV_Vpyx2s"
      }
    },
    {
      "cell_type": "code",
      "execution_count": 1,
      "metadata": {
        "colab": {
          "base_uri": "https://localhost:8080/"
        },
        "id": "rkpGHe1_yuQ4",
        "outputId": "c5961813-7130-4a30-80c8-8246a9d80a1e"
      },
      "outputs": [
        {
          "output_type": "stream",
          "name": "stdout",
          "text": [
            "--2025-08-13 10:14:36--  https://raw.githubusercontent.com/karpathy/char-rnn/refs/heads/master/data/tinyshakespeare/input.txt\n",
            "Resolving raw.githubusercontent.com (raw.githubusercontent.com)... 185.199.109.133, 185.199.111.133, 185.199.108.133, ...\n",
            "Connecting to raw.githubusercontent.com (raw.githubusercontent.com)|185.199.109.133|:443... connected.\n",
            "HTTP request sent, awaiting response... 200 OK\n",
            "Length: 1115394 (1.1M) [text/plain]\n",
            "Saving to: ‘input.txt’\n",
            "\n",
            "input.txt           100%[===================>]   1.06M  --.-KB/s    in 0.08s   \n",
            "\n",
            "2025-08-13 10:14:36 (12.9 MB/s) - ‘input.txt’ saved [1115394/1115394]\n",
            "\n"
          ]
        }
      ],
      "source": [
        "!wget https://raw.githubusercontent.com/karpathy/char-rnn/refs/heads/master/data/tinyshakespeare/input.txt"
      ]
    },
    {
      "cell_type": "code",
      "source": [
        "with open('input.txt', 'r', encoding=\"utf-8\") as f:\n",
        "    text = f.read()"
      ],
      "metadata": {
        "id": "qbTGZmhxzsE4"
      },
      "execution_count": 2,
      "outputs": []
    },
    {
      "cell_type": "code",
      "source": [
        "text[:100]"
      ],
      "metadata": {
        "colab": {
          "base_uri": "https://localhost:8080/",
          "height": 36
        },
        "id": "N43VhIWwzy7q",
        "outputId": "a9d90e42-674e-41bd-d938-448aa76bef63"
      },
      "execution_count": 3,
      "outputs": [
        {
          "output_type": "execute_result",
          "data": {
            "text/plain": [
              "'First Citizen:\\nBefore we proceed any further, hear me speak.\\n\\nAll:\\nSpeak, speak.\\n\\nFirst Citizen:\\nYou'"
            ],
            "application/vnd.google.colaboratory.intrinsic+json": {
              "type": "string"
            }
          },
          "metadata": {},
          "execution_count": 3
        }
      ]
    },
    {
      "cell_type": "code",
      "source": [
        "chars = sorted(list(set(text)))\n",
        "vocab_size = len(chars)\n",
        "print(''.join(chars))\n",
        "print(vocab_size)"
      ],
      "metadata": {
        "colab": {
          "base_uri": "https://localhost:8080/"
        },
        "id": "-dwInOXkzzs5",
        "outputId": "c17f702c-4bf8-40cf-dd40-b4055d91ec74"
      },
      "execution_count": 4,
      "outputs": [
        {
          "output_type": "stream",
          "name": "stdout",
          "text": [
            "\n",
            " !$&',-.3:;?ABCDEFGHIJKLMNOPQRSTUVWXYZabcdefghijklmnopqrstuvwxyz\n",
            "65\n"
          ]
        }
      ]
    },
    {
      "cell_type": "code",
      "source": [
        "stoi = {s:i for i,s in enumerate(chars)}\n",
        "itos = {i:s for s, i in stoi.items()}\n",
        "encode = lambda s: [stoi[c] for c in s]\n",
        "decode = lambda l: \"\".join([itos[i] for i in l])\n",
        "\n",
        "print(encode(\"Hii\"))\n",
        "print(decode(encode(\"Hii\")))"
      ],
      "metadata": {
        "colab": {
          "base_uri": "https://localhost:8080/"
        },
        "id": "00b0b11Oz7Ck",
        "outputId": "f8149b88-c451-4dde-b587-3ad4c919596f"
      },
      "execution_count": 5,
      "outputs": [
        {
          "output_type": "stream",
          "name": "stdout",
          "text": [
            "[20, 47, 47]\n",
            "Hii\n"
          ]
        }
      ]
    },
    {
      "cell_type": "code",
      "source": [
        "import torch\n",
        "data = torch.tensor(encode(text), dtype=torch.long)\n",
        "print(data.shape, data.dtype)\n",
        "print(data[:100])"
      ],
      "metadata": {
        "colab": {
          "base_uri": "https://localhost:8080/"
        },
        "id": "8aZlOpG90XO8",
        "outputId": "91895ad1-927c-424b-c302-78f42459a858"
      },
      "execution_count": 6,
      "outputs": [
        {
          "output_type": "stream",
          "name": "stdout",
          "text": [
            "torch.Size([1115394]) torch.int64\n",
            "tensor([18, 47, 56, 57, 58,  1, 15, 47, 58, 47, 64, 43, 52, 10,  0, 14, 43, 44,\n",
            "        53, 56, 43,  1, 61, 43,  1, 54, 56, 53, 41, 43, 43, 42,  1, 39, 52, 63,\n",
            "         1, 44, 59, 56, 58, 46, 43, 56,  6,  1, 46, 43, 39, 56,  1, 51, 43,  1,\n",
            "        57, 54, 43, 39, 49,  8,  0,  0, 13, 50, 50, 10,  0, 31, 54, 43, 39, 49,\n",
            "         6,  1, 57, 54, 43, 39, 49,  8,  0,  0, 18, 47, 56, 57, 58,  1, 15, 47,\n",
            "        58, 47, 64, 43, 52, 10,  0, 37, 53, 59])\n"
          ]
        }
      ]
    },
    {
      "cell_type": "code",
      "source": [
        "split = int(0.9*len(data))\n",
        "train_data = data[:split]\n",
        "val_data = data[split:]\n",
        "print(len(train_data))\n",
        "print(len(val_data))"
      ],
      "metadata": {
        "colab": {
          "base_uri": "https://localhost:8080/"
        },
        "id": "NoNIpIhf04Lu",
        "outputId": "8006a0f0-0e54-4a93-ba64-10413f7f9024"
      },
      "execution_count": 7,
      "outputs": [
        {
          "output_type": "stream",
          "name": "stdout",
          "text": [
            "1003854\n",
            "111540\n"
          ]
        }
      ]
    },
    {
      "cell_type": "code",
      "source": [
        "#context length\n",
        "\n",
        "block_size = 8\n",
        "train_data[:block_size+1]"
      ],
      "metadata": {
        "colab": {
          "base_uri": "https://localhost:8080/"
        },
        "id": "FiXWgSi01F8t",
        "outputId": "ffd86cac-8831-45a4-da90-71d84daede52"
      },
      "execution_count": 8,
      "outputs": [
        {
          "output_type": "execute_result",
          "data": {
            "text/plain": [
              "tensor([18, 47, 56, 57, 58,  1, 15, 47, 58])"
            ]
          },
          "metadata": {},
          "execution_count": 8
        }
      ]
    },
    {
      "cell_type": "code",
      "source": [
        "x = train_data[:block_size]\n",
        "y = train_data[1:block_size+1]\n",
        "\n",
        "for t in range(block_size):\n",
        "    context = x[:t+1]\n",
        "    target = y[t]\n",
        "    print(context, target)"
      ],
      "metadata": {
        "colab": {
          "base_uri": "https://localhost:8080/"
        },
        "id": "KOj5UHbN1Y9v",
        "outputId": "2cfd94bc-7cac-43a2-b132-1493885d341a"
      },
      "execution_count": 9,
      "outputs": [
        {
          "output_type": "stream",
          "name": "stdout",
          "text": [
            "tensor([18]) tensor(47)\n",
            "tensor([18, 47]) tensor(56)\n",
            "tensor([18, 47, 56]) tensor(57)\n",
            "tensor([18, 47, 56, 57]) tensor(58)\n",
            "tensor([18, 47, 56, 57, 58]) tensor(1)\n",
            "tensor([18, 47, 56, 57, 58,  1]) tensor(15)\n",
            "tensor([18, 47, 56, 57, 58,  1, 15]) tensor(47)\n",
            "tensor([18, 47, 56, 57, 58,  1, 15, 47]) tensor(58)\n"
          ]
        }
      ]
    },
    {
      "cell_type": "code",
      "source": [
        "torch.manual_seed(1337)\n",
        "batch_size = 4\n",
        "block_size = 8\n",
        "\n",
        "def get_batch(split):\n",
        "\n",
        "    data = train_data if split == \"train\" else val_data\n",
        "    ix = torch.randint(len(data) - block_size, (batch_size,))\n",
        "    x = torch.stack([data[i:i+block_size] for i in ix])\n",
        "    y = torch.stack([data[i+1:i+1+block_size] for i in ix])\n",
        "\n",
        "    return x, y\n",
        "\n",
        "x, y = get_batch(\"train\")\n",
        "print(x)\n",
        "print(y)"
      ],
      "metadata": {
        "id": "tM64g1Zr1vpo",
        "colab": {
          "base_uri": "https://localhost:8080/"
        },
        "outputId": "06712e6f-5f90-49c7-e2cd-14c75435dd03"
      },
      "execution_count": 10,
      "outputs": [
        {
          "output_type": "stream",
          "name": "stdout",
          "text": [
            "tensor([[24, 43, 58,  5, 57,  1, 46, 43],\n",
            "        [44, 53, 56,  1, 58, 46, 39, 58],\n",
            "        [52, 58,  1, 58, 46, 39, 58,  1],\n",
            "        [25, 17, 27, 10,  0, 21,  1, 54]])\n",
            "tensor([[43, 58,  5, 57,  1, 46, 43, 39],\n",
            "        [53, 56,  1, 58, 46, 39, 58,  1],\n",
            "        [58,  1, 58, 46, 39, 58,  1, 46],\n",
            "        [17, 27, 10,  0, 21,  1, 54, 39]])\n"
          ]
        }
      ]
    },
    {
      "cell_type": "code",
      "source": [
        "import torch\n",
        "import torch.nn as nn\n",
        "import torch.nn.functional as F\n",
        "\n",
        "class BigramLanguageModel(nn.Module):\n",
        "\n",
        "    def __init__(self, vocab_size):\n",
        "        super().__init__()\n",
        "\n",
        "        self.token_embedding_table = nn.Embedding(num_embeddings = vocab_size, embedding_dim = vocab_size)\n",
        "\n",
        "    def forward(self, idx, targets=None):\n",
        "        logits = self.token_embedding_table(idx)\n",
        "\n",
        "        if targets == None:\n",
        "            loss = None\n",
        "        else:\n",
        "            B, T, C = logits.shape\n",
        "\n",
        "            logits = logits.view(B*T, C)\n",
        "            targets = targets.view(-1)\n",
        "            loss = F.cross_entropy(logits, targets)\n",
        "        return logits, loss\n",
        "\n",
        "    def generate(self, idx, max_new_tokens):\n",
        "        for _ in range(max_new_tokens):\n",
        "            logits, loss = self(idx)\n",
        "            # last time step for each batch and include all embeddings\n",
        "            logits = logits[:, -1, :]\n",
        "\n",
        "            probabilities = F.softmax(logits, dim=1)\n",
        "            # (B, 1)\n",
        "            next_idx = torch.multinomial(probabilities, num_samples=1)\n",
        "            # (B, T+1)\n",
        "            idx = torch.cat((idx, next_idx), dim=1)\n",
        "        return idx\n",
        "\n",
        "m = BigramLanguageModel(vocab_size)\n",
        "out, loss = m(x, y)\n",
        "print(out.shape)\n",
        "print(out)\n",
        "\n",
        "print(decode(m.generate(torch.zeros((1,1), dtype=torch.long), max_new_tokens=100)[0].tolist()))"
      ],
      "metadata": {
        "colab": {
          "base_uri": "https://localhost:8080/"
        },
        "id": "u4M6EPHBoMlu",
        "outputId": "42891118-dbc1-4267-fff3-5573a3586d9c"
      },
      "execution_count": 11,
      "outputs": [
        {
          "output_type": "stream",
          "name": "stdout",
          "text": [
            "torch.Size([32, 65])\n",
            "tensor([[ 1.6347, -0.0518,  0.4996,  ...,  0.2432,  1.1519,  0.9950],\n",
            "        [ 0.3418, -0.9276,  1.2381,  ...,  1.5018, -0.5266,  0.2354],\n",
            "        [ 0.1479, -0.4333,  0.5203,  ...,  0.3302,  1.5454,  1.3778],\n",
            "        ...,\n",
            "        [-0.5693, -0.0735,  0.7743,  ..., -0.0815, -1.1445, -0.0623],\n",
            "        [ 0.4658, -0.2573, -1.0673,  ...,  1.2439,  1.3471,  1.6910],\n",
            "        [-0.4553,  0.0139,  0.9309,  ...,  0.0290, -0.7568,  0.8701]],\n",
            "       grad_fn=<ViewBackward0>)\n",
            "\n",
            "l-QYjt'CL?jLDuQcLzy'RIo;'KdhpV\n",
            "vLixa,nswYZwLEPS'ptIZqOZJ$CA$zy-QTkeMk x.gQSFCLg!iW3fO!3DGXAqTsq3pdgq\n"
          ]
        }
      ]
    },
    {
      "cell_type": "code",
      "source": [
        "optimizer = torch.optim.AdamW(m.parameters(), lr=1e-3)"
      ],
      "metadata": {
        "id": "3qsOfqfxo86l"
      },
      "execution_count": 12,
      "outputs": []
    },
    {
      "cell_type": "code",
      "source": [
        "batch_size = 32\n",
        "\n",
        "for steps in range(5000):\n",
        "    xb,yb = get_batch('train')\n",
        "\n",
        "    logits, loss = m(xb,yb)\n",
        "\n",
        "    optimizer.zero_grad(set_to_none=True)\n",
        "    loss.backward()\n",
        "    optimizer.step()\n",
        "\n",
        "print(loss.item())"
      ],
      "metadata": {
        "colab": {
          "base_uri": "https://localhost:8080/"
        },
        "id": "2K2DOnUlrDg0",
        "outputId": "5de910c4-4427-4ec4-f6fc-c481840a0256"
      },
      "execution_count": 13,
      "outputs": [
        {
          "output_type": "stream",
          "name": "stdout",
          "text": [
            "2.5904765129089355\n"
          ]
        }
      ]
    },
    {
      "cell_type": "code",
      "source": [
        "print(decode(m.generate(torch.zeros((1,1), dtype=torch.long), max_new_tokens=1000)[0].tolist()))"
      ],
      "metadata": {
        "colab": {
          "base_uri": "https://localhost:8080/"
        },
        "id": "qMxS4jlAuH80",
        "outputId": "9c61c68c-72ae-4f91-96d0-291f0eb6375d"
      },
      "execution_count": 14,
      "outputs": [
        {
          "output_type": "stream",
          "name": "stdout",
          "text": [
            "\n",
            "AnzLLOjad ws amangano s nd TINTI zXave anlfedo cor be:ghere\n",
            "D:\n",
            "IO, n!qXDYd inks cerVis benes'sowr wnof pre, hairal.\n",
            "Tir W:\n",
            "Ano u\n",
            "Bue;BOgfatho rend thich,\n",
            "The tTorak,\n",
            "\n",
            "D:\n",
            "GHisok R.\n",
            "Jeveauee! ce,\n",
            "OMA::'\n",
            "t.\n",
            "HELEThRird maseestindovive wat boue nodgh flle, mOf \n",
            "\n",
            "SCarXto An twl;thind d me sesete gksow'DX'llaronte\n",
            "\n",
            "HEThecarmoar, file to he bis wllagGr O g.oamacl off nrop'twindg,\n",
            "WS trnen t mllel $Lupzy iBOFL$KENor-fo ed dONus s are th, al ent I s l:\n",
            "E-HEThond\n",
            "Tge henJe long bo ave ttheKar f : t\n",
            "Y;-fe m blqxp;t;the.Ren illd b.'t Qght tthpe,\n",
            "CEN:\n",
            "FLOfaind Rl, An, WS:OUk,e m?\n",
            "\n",
            "OLy iow yous\n",
            "Youtiveas t fye tea;\n",
            "Fgs kGPMllort'Y:\n",
            "Bexan t ber is e tle?Ty osWDothou d a atororetheang nS:\n",
            "ARCAses inowifowe\n",
            "'thin ICA,\n",
            "CCFlformymsas twhatl fo the y wey youe.\n",
            "O:urmerzio, or m, stlly il, illled tthereSAnce cesed me n.\n",
            "TfaRGLO:\n",
            "Son tyJee garavensty d .\n",
            "K:um&zXENTESers ip'le,Of s mave, pl as feARS:HENINC pes:\n",
            "S:\n",
            "GI tearor-aks de\n",
            "FRO, woCIs Yeaitst h lldok h g br t 'thenaroled.Bo'-ce pt, ve!\n",
            "Rak theto ty ond \n"
          ]
        }
      ]
    },
    {
      "cell_type": "code",
      "source": [
        "eval_iters = 200\n",
        "@torch.no_grad()\n",
        "def estimate_loss():\n",
        "    out = {}\n",
        "    m.eval()\n",
        "    for split in [\"train\", \"val\"]:\n",
        "        losses = torch.zeros(eval_iters)\n",
        "        for k in range(eval_iters):\n",
        "            xb, yb = get_batch(split)\n",
        "            logits, loss = m(xb, yb)\n",
        "            losses[k] = loss.item()\n",
        "        out[split] = losses.mean()\n",
        "    m.train()\n",
        "    return out\n",
        "estimate_loss()"
      ],
      "metadata": {
        "colab": {
          "base_uri": "https://localhost:8080/"
        },
        "id": "JWurTw1mujpA",
        "outputId": "9b4ae696-f709-4b9f-8207-2f69dd619502"
      },
      "execution_count": 15,
      "outputs": [
        {
          "output_type": "execute_result",
          "data": {
            "text/plain": [
              "{'train': tensor(2.5633), 'val': tensor(2.5757)}"
            ]
          },
          "metadata": {},
          "execution_count": 15
        }
      ]
    },
    {
      "cell_type": "markdown",
      "source": [
        "## Mathematical trick in self-attention!\n",
        "\n",
        "- have to average the logits in the time dim 0..t for logit t\n"
      ],
      "metadata": {
        "id": "ON796oN7wS5g"
      }
    },
    {
      "cell_type": "code",
      "source": [
        "B, T, C = 4, 8, 2\n",
        "x = torch.randn(B,T,C)"
      ],
      "metadata": {
        "id": "_dUS8nJvvWiK"
      },
      "execution_count": 16,
      "outputs": []
    },
    {
      "cell_type": "code",
      "source": [
        "div = torch.tril(torch.ones(T,T))\n",
        "div /= div.sum(dim=1, keepdim=True)\n",
        "xbow = div @ x"
      ],
      "metadata": {
        "id": "qPtTXEaowgzX"
      },
      "execution_count": 17,
      "outputs": []
    },
    {
      "cell_type": "code",
      "source": [
        "div"
      ],
      "metadata": {
        "id": "w_xjzMN0wyTa",
        "colab": {
          "base_uri": "https://localhost:8080/"
        },
        "outputId": "ffee0302-c988-4334-aa20-d624ed6ffe7c"
      },
      "execution_count": 18,
      "outputs": [
        {
          "output_type": "execute_result",
          "data": {
            "text/plain": [
              "tensor([[1.0000, 0.0000, 0.0000, 0.0000, 0.0000, 0.0000, 0.0000, 0.0000],\n",
              "        [0.5000, 0.5000, 0.0000, 0.0000, 0.0000, 0.0000, 0.0000, 0.0000],\n",
              "        [0.3333, 0.3333, 0.3333, 0.0000, 0.0000, 0.0000, 0.0000, 0.0000],\n",
              "        [0.2500, 0.2500, 0.2500, 0.2500, 0.0000, 0.0000, 0.0000, 0.0000],\n",
              "        [0.2000, 0.2000, 0.2000, 0.2000, 0.2000, 0.0000, 0.0000, 0.0000],\n",
              "        [0.1667, 0.1667, 0.1667, 0.1667, 0.1667, 0.1667, 0.0000, 0.0000],\n",
              "        [0.1429, 0.1429, 0.1429, 0.1429, 0.1429, 0.1429, 0.1429, 0.0000],\n",
              "        [0.1250, 0.1250, 0.1250, 0.1250, 0.1250, 0.1250, 0.1250, 0.1250]])"
            ]
          },
          "metadata": {},
          "execution_count": 18
        }
      ]
    },
    {
      "cell_type": "code",
      "source": [
        "x[0], xbow[0]"
      ],
      "metadata": {
        "id": "tPV5L8ePxMF4",
        "colab": {
          "base_uri": "https://localhost:8080/"
        },
        "outputId": "7bafa310-f3b2-49e6-a646-4d326b1aaf3e"
      },
      "execution_count": 19,
      "outputs": [
        {
          "output_type": "execute_result",
          "data": {
            "text/plain": [
              "(tensor([[ 0.5438,  0.8303],\n",
              "         [ 0.2363,  0.3804],\n",
              "         [ 0.2687,  1.9010],\n",
              "         [ 2.5304, -0.8176],\n",
              "         [-0.8352, -0.0982],\n",
              "         [-0.3931, -0.8298],\n",
              "         [-0.8375,  0.8008],\n",
              "         [-0.2700,  0.7297]]),\n",
              " tensor([[0.5438, 0.8303],\n",
              "         [0.3901, 0.6053],\n",
              "         [0.3496, 1.0372],\n",
              "         [0.8948, 0.5735],\n",
              "         [0.5488, 0.4392],\n",
              "         [0.3918, 0.2277],\n",
              "         [0.2162, 0.3096],\n",
              "         [0.1554, 0.3621]]))"
            ]
          },
          "metadata": {},
          "execution_count": 19
        }
      ]
    },
    {
      "cell_type": "markdown",
      "source": [
        "### using softmax(infinity)\n",
        "\n",
        "hint: e^-infinity = 0, and e^0 = 1"
      ],
      "metadata": {
        "id": "YXm70ToFyUmR"
      }
    },
    {
      "cell_type": "code",
      "source": [
        "tril = torch.tril(torch.ones(T, T))\n",
        "wei = torch.zeros((T, T))\n",
        "wei = wei.masked_fill(tril==0, float('-inf'))\n",
        "wei = F.softmax(wei,dim=1)\n",
        "xbow3 = wei @ x\n",
        "wei"
      ],
      "metadata": {
        "id": "35Sr49cCx0zp",
        "colab": {
          "base_uri": "https://localhost:8080/"
        },
        "outputId": "a9ecc029-9798-457d-826c-d22678379b92"
      },
      "execution_count": 20,
      "outputs": [
        {
          "output_type": "execute_result",
          "data": {
            "text/plain": [
              "tensor([[1.0000, 0.0000, 0.0000, 0.0000, 0.0000, 0.0000, 0.0000, 0.0000],\n",
              "        [0.5000, 0.5000, 0.0000, 0.0000, 0.0000, 0.0000, 0.0000, 0.0000],\n",
              "        [0.3333, 0.3333, 0.3333, 0.0000, 0.0000, 0.0000, 0.0000, 0.0000],\n",
              "        [0.2500, 0.2500, 0.2500, 0.2500, 0.0000, 0.0000, 0.0000, 0.0000],\n",
              "        [0.2000, 0.2000, 0.2000, 0.2000, 0.2000, 0.0000, 0.0000, 0.0000],\n",
              "        [0.1667, 0.1667, 0.1667, 0.1667, 0.1667, 0.1667, 0.0000, 0.0000],\n",
              "        [0.1429, 0.1429, 0.1429, 0.1429, 0.1429, 0.1429, 0.1429, 0.0000],\n",
              "        [0.1250, 0.1250, 0.1250, 0.1250, 0.1250, 0.1250, 0.1250, 0.1250]])"
            ]
          },
          "metadata": {},
          "execution_count": 20
        }
      ]
    },
    {
      "cell_type": "markdown",
      "source": [
        "## A bit about attention\n",
        "\n",
        "- Attention is just a mechanism that adds a set of values with a set of weights. The approach above takes the weights to be equally distributed for the node itself and the nodes before, and zero for all nodes after.\n",
        "\n",
        "- But, the current node might find more of what it needs from some nodes rather than others; it won't necessarily be equally distributed.\n",
        "\n",
        "- Paper proposes an attention function where each node (token) at time T emits a query vector that contains the information that the current node is looking for, and a key vector that contains the information that the current node has within itself.\n",
        "\n",
        "- This query vector and key vector get multiplied together to get the \"affinities\" between what the nodes are looking for and what the nodes have (T, T dimension, so each combination)\n",
        "\n",
        "- Instead of taking the average of each node, we perform softmax on this new matrix. Now, instead of multiplying the \"original\" values $x$, we multiply it with the \"value\" matrix, which is different for each attention \"head\"\n",
        "\n",
        "- As each head has a different purpose, it will have a different value to emit in each head, a different value that it posesses that makes more sense for that particular head!"
      ],
      "metadata": {
        "id": "S8MVAHSu5MES"
      }
    },
    {
      "cell_type": "code",
      "source": [
        "head_size = 16\n",
        "Q = nn.Linear(C, head_size, bias=False)\n",
        "K = nn.Linear(C, head_size, bias=False)\n",
        "V = nn.Linear(C, head_size, bias=False)\n",
        "\n",
        "queries = Q(x)\n",
        "keys = K(x)\n",
        "\n",
        "print(queries.shape)\n",
        "print(keys.shape)"
      ],
      "metadata": {
        "id": "Eq5w5Pgyyxr9",
        "colab": {
          "base_uri": "https://localhost:8080/"
        },
        "outputId": "be135243-3a89-474e-847d-bd0475e956a9"
      },
      "execution_count": 21,
      "outputs": [
        {
          "output_type": "stream",
          "name": "stdout",
          "text": [
            "torch.Size([4, 8, 16])\n",
            "torch.Size([4, 8, 16])\n"
          ]
        }
      ]
    },
    {
      "cell_type": "code",
      "source": [
        "T"
      ],
      "metadata": {
        "colab": {
          "base_uri": "https://localhost:8080/"
        },
        "id": "yxyAnG2zEI5B",
        "outputId": "cdf239f0-4178-45e3-8938-5dff622f4c54"
      },
      "execution_count": 22,
      "outputs": [
        {
          "output_type": "execute_result",
          "data": {
            "text/plain": [
              "8"
            ]
          },
          "metadata": {},
          "execution_count": 22
        }
      ]
    },
    {
      "cell_type": "code",
      "source": [
        "tril = torch.tril(torch.ones(T, T))\n",
        "wei = keys @ queries.transpose(-2, -1) # (4, 8, 8)\n",
        "# wei = torch.zeros((T, T))\n",
        "wei1 = wei.masked_fill(tril==0, float('-inf'))\n",
        "wei1 = F.softmax(wei1, dim=1)\n",
        "wei = F.softmax(wei,dim=1)\n",
        "\n",
        "values = V(x)\n",
        "\n",
        "xbow4 = wei @ values\n",
        "xbow5 = wei1 @ values\n",
        "print(wei.shape)\n",
        "print(xbow4.shape)"
      ],
      "metadata": {
        "colab": {
          "base_uri": "https://localhost:8080/"
        },
        "id": "ud8SI2HI8lXm",
        "outputId": "6dad418f-539d-47c1-a74e-8706f44052c7"
      },
      "execution_count": 23,
      "outputs": [
        {
          "output_type": "stream",
          "name": "stdout",
          "text": [
            "torch.Size([4, 8, 8])\n",
            "torch.Size([4, 8, 16])\n"
          ]
        }
      ]
    },
    {
      "cell_type": "code",
      "source": [
        "wei[0], xbow4[0]"
      ],
      "metadata": {
        "colab": {
          "base_uri": "https://localhost:8080/"
        },
        "id": "g2GSL_Z684KG",
        "outputId": "f0a4b662-2996-4d9f-829e-5b987a95e6a1"
      },
      "execution_count": 24,
      "outputs": [
        {
          "output_type": "execute_result",
          "data": {
            "text/plain": [
              "(tensor([[1.5395e-01, 1.4421e-01, 1.1343e-01, 9.5902e-02, 4.4569e-02, 8.0656e-02,\n",
              "          4.1523e-02, 9.1523e-02],\n",
              "         [1.0330e-01, 1.2122e-01, 9.1733e-02, 1.5713e-02, 8.1273e-02, 1.0787e-01,\n",
              "          7.5153e-02, 1.1028e-01],\n",
              "         [3.4110e-01, 2.0520e-01, 2.8693e-01, 7.2422e-01, 2.0038e-02, 4.1794e-02,\n",
              "          2.5723e-02, 9.2891e-02],\n",
              "         [5.7472e-02, 9.2028e-02, 1.4103e-02, 1.4784e-01, 5.7326e-02, 2.1030e-01,\n",
              "          2.0382e-02, 4.3891e-02],\n",
              "         [6.0308e-02, 9.6383e-02, 1.0005e-01, 4.2413e-04, 2.4542e-01, 1.5076e-01,\n",
              "          2.8161e-01, 1.8877e-01],\n",
              "         [3.6409e-02, 7.6905e-02, 4.7700e-02, 1.8961e-04, 3.6141e-01, 2.3420e-01,\n",
              "          3.0864e-01, 1.6644e-01],\n",
              "         [1.2180e-01, 1.3140e-01, 1.9813e-01, 3.8900e-03, 1.0870e-01, 8.6129e-02,\n",
              "          1.5240e-01, 1.7223e-01],\n",
              "         [1.2566e-01, 1.3266e-01, 1.4792e-01, 1.1817e-02, 8.1271e-02, 8.8295e-02,\n",
              "          9.4568e-02, 1.3398e-01]], grad_fn=<SelectBackward0>),\n",
              " tensor([[-1.2461e-01, -2.5957e-01,  2.9516e-01, -9.7900e-02,  1.9607e-02,\n",
              "          -8.1483e-03,  2.2593e-01,  2.2016e-01,  1.1155e-01, -1.2771e-01,\n",
              "           1.0363e-01,  1.0154e-01,  2.3157e-01,  1.7557e-01,  4.7820e-02,\n",
              "          -4.2774e-02],\n",
              "         [-1.7781e-01, -6.3552e-02,  2.2270e-01,  1.1476e-01,  5.5556e-02,\n",
              "          -3.2504e-03,  1.0953e-01,  2.6355e-02,  1.9003e-01,  9.2233e-02,\n",
              "           1.3843e-01,  1.3350e-01,  9.0027e-02,  2.8737e-02,  2.4307e-01,\n",
              "          -4.7459e-02],\n",
              "         [ 2.0371e-01, -1.3613e+00,  6.7251e-01, -1.3208e+00, -1.9256e-01,\n",
              "          -3.5428e-02,  8.6942e-01,  1.3150e+00, -3.6194e-01, -1.3885e+00,\n",
              "          -1.1453e-01, -9.9772e-02,  1.0205e+00,  1.0037e+00, -1.0957e+00,\n",
              "          -9.0761e-03],\n",
              "         [ 1.2213e-01, -1.2431e-01, -4.4317e-02, -2.1811e-01, -5.3256e-02,\n",
              "          -2.3528e-03,  4.1290e-02,  1.3944e-01, -1.4741e-01, -2.1360e-01,\n",
              "          -8.9922e-02, -8.5468e-02,  6.9765e-02,  1.0167e-01, -2.6266e-01,\n",
              "           2.5167e-02],\n",
              "         [-3.3202e-01,  1.4427e-01,  2.4576e-01,  4.3235e-01,  1.2738e-01,\n",
              "           1.1090e-03,  2.2108e-02, -1.9743e-01,  3.8129e-01,  4.0745e-01,\n",
              "           2.5042e-01,  2.3954e-01, -3.7917e-02, -1.3641e-01,  6.0373e-01,\n",
              "          -7.6988e-02],\n",
              "         [-2.6484e-01,  3.1072e-01,  6.9489e-02,  5.0712e-01,  1.1919e-01,\n",
              "           6.2256e-03, -1.1809e-01, -3.4099e-01,  3.2382e-01,  5.0001e-01,\n",
              "           1.9374e-01,  1.8382e-01, -1.8353e-01, -2.5022e-01,  5.9306e-01,\n",
              "          -5.2755e-02],\n",
              "         [-3.6985e-01, -1.1316e-01,  4.5091e-01,  2.5449e-01,  1.1727e-01,\n",
              "          -6.2414e-03,  2.1462e-01,  3.6967e-02,  3.9719e-01,  2.0888e-01,\n",
              "           2.8737e-01,  2.7699e-01,  1.7235e-01,  4.6017e-02,  5.1645e-01,\n",
              "          -9.7876e-02],\n",
              "         [-2.6754e-01, -1.1873e-01,  3.5003e-01,  1.5350e-01,  8.1515e-02,\n",
              "          -5.5216e-03,  1.8083e-01,  6.1333e-02,  2.8360e-01,  1.1811e-01,\n",
              "           2.0900e-01,  2.0173e-01,  1.5357e-01,  5.9945e-02,  3.5257e-01,\n",
              "          -7.2432e-02]], grad_fn=<SelectBackward0>))"
            ]
          },
          "metadata": {},
          "execution_count": 24
        }
      ]
    },
    {
      "cell_type": "code",
      "source": [
        "wei1[0], xbow5[0]"
      ],
      "metadata": {
        "colab": {
          "base_uri": "https://localhost:8080/"
        },
        "id": "dRfXBtexz4NI",
        "outputId": "e42736bb-5c8b-474d-a1f1-b86fbd75022c"
      },
      "execution_count": 25,
      "outputs": [
        {
          "output_type": "execute_result",
          "data": {
            "text/plain": [
              "(tensor([[0.1540, 0.0000, 0.0000, 0.0000, 0.0000, 0.0000, 0.0000, 0.0000],\n",
              "         [0.1033, 0.1417, 0.0000, 0.0000, 0.0000, 0.0000, 0.0000, 0.0000],\n",
              "         [0.3411, 0.2398, 0.3610, 0.0000, 0.0000, 0.0000, 0.0000, 0.0000],\n",
              "         [0.0575, 0.1075, 0.0177, 0.9006, 0.0000, 0.0000, 0.0000, 0.0000],\n",
              "         [0.0603, 0.1126, 0.1259, 0.0026, 0.3080, 0.0000, 0.0000, 0.0000],\n",
              "         [0.0364, 0.0899, 0.0600, 0.0012, 0.4536, 0.5731, 0.0000, 0.0000],\n",
              "         [0.1218, 0.1535, 0.2493, 0.0237, 0.1364, 0.2108, 0.6171, 0.0000],\n",
              "         [0.1257, 0.1550, 0.1861, 0.0720, 0.1020, 0.2161, 0.3829, 1.0000]],\n",
              "        grad_fn=<SelectBackward0>),\n",
              " tensor([[-4.8035e-02, -8.7536e-02,  1.0568e-01, -2.7354e-02,  8.6838e-03,\n",
              "          -2.7992e-03,  7.8406e-02,  7.3124e-02,  4.4261e-02, -3.8028e-02,\n",
              "           3.9561e-02,  3.8676e-02,  7.9456e-02,  5.8628e-02,  2.5569e-02,\n",
              "          -1.5935e-02],\n",
              "         [-5.2818e-02, -9.4532e-02,  1.1509e-01, -2.8652e-02,  9.7027e-03,\n",
              "          -3.0309e-03,  8.5020e-02,  7.8792e-02,  4.8841e-02, -4.0278e-02,\n",
              "           4.3447e-02,  4.2462e-02,  8.6020e-02,  6.3223e-02,  2.9094e-02,\n",
              "          -1.7445e-02],\n",
              "         [-4.6512e-01, -5.0990e-01,  8.0484e-01,  1.5198e-02,  1.1444e-01,\n",
              "          -1.7885e-02,  5.2492e-01,  3.9128e-01,  4.6254e-01, -6.6135e-02,\n",
              "           3.7269e-01,  3.6197e-01,  5.0476e-01,  3.2358e-01,  4.4002e-01,\n",
              "          -1.3935e-01],\n",
              "         [ 7.4398e-01, -1.2492e+00,  4.8198e-02, -1.7366e+00, -3.6865e-01,\n",
              "          -2.7762e-02,  5.9278e-01,  1.3109e+00, -9.4750e-01, -1.7412e+00,\n",
              "          -5.3268e-01, -5.0242e-01,  8.1041e-01,  9.7493e-01, -1.8804e+00,\n",
              "           1.3155e-01],\n",
              "         [-1.7890e-01,  1.0095e-02,  1.7618e-01,  1.7687e-01,  6.2554e-02,\n",
              "          -1.2491e-03,  5.8839e-02, -4.2931e-02,  1.9865e-01,  1.5903e-01,\n",
              "           1.3701e-01,  1.3158e-01,  3.2570e-02, -2.4605e-02,  2.8676e-01,\n",
              "          -4.4476e-02],\n",
              "         [ 6.8900e-02,  4.2921e-01, -3.4800e-01,  2.9106e-01,  1.4839e-02,\n",
              "           1.2305e-02, -3.2312e-01, -3.8971e-01, -3.2949e-02,  3.2618e-01,\n",
              "          -6.6076e-02, -6.6734e-02, -3.5189e-01, -3.0359e-01,  1.3636e-01,\n",
              "           3.6290e-02],\n",
              "         [-5.4904e-01,  3.1606e-02,  5.4028e-01,  5.4331e-01,  1.9203e-01,\n",
              "          -3.8165e-03,  1.8014e-01, -1.3234e-01,  6.0970e-01,  4.8862e-01,\n",
              "           4.2046e-01,  4.0379e-01,  9.9467e-02, -7.5963e-02,  8.8041e-01,\n",
              "          -1.3647e-01],\n",
              "         [-7.2979e-01, -1.1542e-01,  8.1998e-01,  5.9161e-01,  2.4110e-01,\n",
              "          -9.3709e-03,  3.4866e-01, -2.8234e-02,  7.9459e-01,  5.0865e-01,\n",
              "           5.6372e-01,  5.4256e-01,  2.5557e-01,  1.2831e-02,  1.0805e+00,\n",
              "          -1.8836e-01]], grad_fn=<SelectBackward0>))"
            ]
          },
          "metadata": {},
          "execution_count": 25
        }
      ]
    },
    {
      "cell_type": "markdown",
      "source": [
        "there's a little problem tho"
      ],
      "metadata": {
        "id": "dKahmYxO9LWI"
      }
    },
    {
      "cell_type": "code",
      "source": [
        "query = torch.randn((4, 8, 16))\n",
        "key = torch.randn((4, 8, 16))\n",
        "\n",
        "print(query.var())\n",
        "print(key.var())"
      ],
      "metadata": {
        "colab": {
          "base_uri": "https://localhost:8080/"
        },
        "id": "7MviIC_B85ZP",
        "outputId": "0c714d8a-0071-40c2-8846-ed401660e57f"
      },
      "execution_count": 26,
      "outputs": [
        {
          "output_type": "stream",
          "name": "stdout",
          "text": [
            "tensor(0.9244)\n",
            "tensor(0.8984)\n"
          ]
        }
      ]
    },
    {
      "cell_type": "code",
      "source": [
        "qk = key @ query.transpose(-2, -1)\n",
        "print(qk.var())"
      ],
      "metadata": {
        "colab": {
          "base_uri": "https://localhost:8080/"
        },
        "id": "By5GzZm79Vob",
        "outputId": "964d47e0-d872-4dc1-e680-a3e14e02ca8f"
      },
      "execution_count": 27,
      "outputs": [
        {
          "output_type": "stream",
          "name": "stdout",
          "text": [
            "tensor(12.8625)\n"
          ]
        }
      ]
    },
    {
      "cell_type": "markdown",
      "source": [
        "HUGE difference in variance, and when variance is high, means the difference between the values is huge. Since we'll apply softmax on this, if the values are very imbalanced, there'll be a huge imbalance in the weight assigned to other nodes, esp when the network is still untrained.\n",
        "\n",
        "The paper proposes dividing the multiplication by the square root of head size, let's try it."
      ],
      "metadata": {
        "id": "G4-T_jSe9cfm"
      }
    },
    {
      "cell_type": "code",
      "source": [
        "qk = key @ query.transpose(-2, -1) * head_size**-0.5\n",
        "print(qk.var())"
      ],
      "metadata": {
        "colab": {
          "base_uri": "https://localhost:8080/"
        },
        "id": "_abuJIVD9b2-",
        "outputId": "ab8689c2-fd31-4059-dae7-c48289fbe21f"
      },
      "execution_count": 28,
      "outputs": [
        {
          "output_type": "stream",
          "name": "stdout",
          "text": [
            "tensor(0.8039)\n"
          ]
        }
      ]
    },
    {
      "cell_type": "markdown",
      "source": [
        "looks good"
      ],
      "metadata": {
        "id": "R1-WGUgd-B8J"
      }
    },
    {
      "cell_type": "code",
      "source": [
        "n_heads = 8\n",
        "n_embd = 256\n",
        "head_size = n_embd // n_heads\n",
        "hidden_size = 512"
      ],
      "metadata": {
        "id": "5MKXYQYFDYN0"
      },
      "execution_count": 74,
      "outputs": []
    },
    {
      "cell_type": "code",
      "source": [
        "class SingleAttentionHead(nn.Module):\n",
        "\n",
        "    def __init__(self):\n",
        "        super().__init__()\n",
        "        self.Q = nn.Linear(n_embd, head_size, bias=False)\n",
        "        self.K = nn.Linear(n_embd, head_size, bias=False)\n",
        "        self.V = nn.Linear(n_embd, head_size, bias=False)\n",
        "        self.register_buffer('tril', torch.tril(torch.ones(block_size, block_size)))\n",
        "\n",
        "    def forward(self, x):\n",
        "        B, T, C = x.shape\n",
        "        # (B, T, head_size)\n",
        "        queries = self.Q(x)\n",
        "        keys = self.K(x)\n",
        "        values = self.V(x)\n",
        "\n",
        "        wei = keys @ queries.transpose(-2, -1) * head_size ** -0.5\n",
        "        wei = wei.masked_fill(self.tril == 0, float('-inf'))\n",
        "        wei = F.softmax(wei, dim=-1)\n",
        "\n",
        "        x = wei @ values\n",
        "        return x\n",
        "\n",
        "class FFN(nn.Module):\n",
        "\n",
        "    def __init__(self, in_features, out_features, bias=True):\n",
        "        super().__init__()\n",
        "        self.layers = nn.Sequential(\n",
        "            # op: (B, T, hidden_size)\n",
        "            nn.Linear(in_features, hidden_size, bias=bias),\n",
        "            nn.ReLU(),\n",
        "            # op: (B, T, n_embd)\n",
        "            nn.Linear(hidden_size, out_features, bias=bias),\n",
        "            nn.LayerNorm(out_features)\n",
        "        )\n",
        "\n",
        "    def forward(self, x):\n",
        "\n",
        "        out = self.layers(x)\n",
        "        return out"
      ],
      "metadata": {
        "id": "s2jpLZClDhIw"
      },
      "execution_count": 75,
      "outputs": []
    },
    {
      "cell_type": "code",
      "source": [
        "class MultiAttentionBlock(nn.Module):\n",
        "\n",
        "    def __init__(self):\n",
        "        super().__init__()\n",
        "\n",
        "        self.heads = [SingleAttentionHead() for _ in range(n_heads)]\n",
        "\n",
        "        self.linear = nn.Linear(n_embd, n_embd)\n",
        "\n",
        "        self.layer_norm = nn.LayerNorm(n_embd)\n",
        "\n",
        "    def forward(self, x):\n",
        "        # each op: (B, T, head_size)\n",
        "        act = [head(x) for head in self.heads]\n",
        "        # op: (B, T, n_embd)\n",
        "        x = self.linear(torch.concat(act, dim=-1))\n",
        "        x = self.layer_norm(x)\n",
        "\n",
        "        return x"
      ],
      "metadata": {
        "id": "ple-0ccT-t8z"
      },
      "execution_count": 76,
      "outputs": []
    },
    {
      "cell_type": "code",
      "source": [
        "class Decoder(nn.Module):\n",
        "\n",
        "    def __init__(self):\n",
        "        super().__init__()\n",
        "\n",
        "        self.token_embedding_table = nn.Embedding(num_embeddings=vocab_size, embedding_dim=n_embd)\n",
        "        self.position_embedding_table = nn.Embedding(num_embeddings=block_size, embedding_dim=n_embd)\n",
        "        # self.lm_head = SingleAttentionHead(head_size)\n",
        "        # self.ffn = FFN(head_size, hidden_size)\n",
        "        # self.attention_block = SingleAttentionBlock(head_size, hidden_size)\n",
        "\n",
        "        # inp: (B, T, n_embd)\n",
        "        # op:  (B, T, n_embd)\n",
        "        self.multi_head_attn = MultiAttentionBlock()\n",
        "\n",
        "        self.ffn = FFN(n_embd, n_embd)\n",
        "\n",
        "        self.nn = nn.Linear(n_embd, vocab_size)\n",
        "\n",
        "    def forward(self, idx, targets=None):\n",
        "        B, T = idx.shape\n",
        "\n",
        "        tok_embd = self.token_embedding_table(idx)\n",
        "        pos_embd = self.position_embedding_table(torch.arange(T))\n",
        "\n",
        "        x = tok_embd + pos_embd\n",
        "        # x = self.lm_head(x)\n",
        "        # x = self.ffn(x)\n",
        "        # x = self.attention_block(x)\n",
        "\n",
        "        x = x + self.multi_head_attn(x)\n",
        "\n",
        "        x = x + self.ffn(x)\n",
        "\n",
        "        logits = self.nn(x)\n",
        "\n",
        "        if targets == None:\n",
        "            loss = None\n",
        "        else:\n",
        "            B, T, C = logits.shape\n",
        "\n",
        "            logits = logits.view(B*T, C)\n",
        "            targets = targets.view(-1)\n",
        "            loss = F.cross_entropy(logits, targets)\n",
        "\n",
        "        return logits, loss\n",
        "\n",
        "    def generate(self, idx, max_new_tokens):\n",
        "        for _ in range(max_new_tokens):\n",
        "            # pick only last 8 tokens for next token\n",
        "            idx_next = idx[:, -block_size:]\n",
        "            logits, loss = self(idx_next)\n",
        "            # last time step for each batch and include all embeddings\n",
        "            logits = logits[:, -1, :]\n",
        "\n",
        "            probabilities = F.softmax(logits, dim=1)\n",
        "            # (B, 1)\n",
        "            next_idx = torch.multinomial(probabilities, num_samples=1)\n",
        "            # (B, T+1)\n",
        "            idx = torch.cat((idx, next_idx), dim=1)\n",
        "        return idx"
      ],
      "metadata": {
        "id": "TzP0BSfl-BN4"
      },
      "execution_count": 78,
      "outputs": []
    },
    {
      "cell_type": "code",
      "source": [
        "xb, yb = get_batch('train')"
      ],
      "metadata": {
        "id": "knFr2i4bGBzh"
      },
      "execution_count": 79,
      "outputs": []
    },
    {
      "cell_type": "code",
      "source": [
        "m = Decoder()\n",
        "out, loss = m(xb, yb)\n",
        "print(out.shape)\n",
        "print(out)\n",
        "\n",
        "print(decode(m.generate(torch.zeros((1,8), dtype=torch.long), max_new_tokens=100)[0].tolist()))"
      ],
      "metadata": {
        "colab": {
          "base_uri": "https://localhost:8080/"
        },
        "id": "Iv5MNj94E109",
        "outputId": "7d120cc6-c167-40a9-c1bc-6cf856343a58"
      },
      "execution_count": 80,
      "outputs": [
        {
          "output_type": "stream",
          "name": "stdout",
          "text": [
            "torch.Size([4096, 65])\n",
            "tensor([[-1.7023, -0.4535, -0.2409,  ...,  0.0368,  0.2178, -0.4582],\n",
            "        [-2.4551, -0.6530, -2.4535,  ...,  1.7624,  0.3113,  0.4489],\n",
            "        [-1.1066,  2.2567, -1.5929,  ..., -0.0261, -0.9144, -0.0372],\n",
            "        ...,\n",
            "        [-1.3542,  2.7865,  0.0894,  ..., -0.2312, -0.0553,  0.4704],\n",
            "        [-1.2031,  1.4136, -0.8378,  ...,  0.8564,  0.6669, -2.4041],\n",
            "        [-2.3617, -0.8319, -0.7504,  ...,  0.3583,  0.7814, -0.1528]],\n",
            "       grad_fn=<ViewBackward0>)\n",
            "\n",
            "\n",
            "\n",
            "\n",
            "\n",
            "\n",
            "\n",
            "\n",
            "H-WrWDK$DBa'I$j3catIJS3OIZNkDU;QjjOLFzsFOscIOL:S$DdakW$DjAL-vsBTrvUcr$.$$$t.FnuzB$OTnh3pY$OOVISLV$DK\n"
          ]
        }
      ]
    },
    {
      "cell_type": "code",
      "source": [
        "optimizer = torch.optim.AdamW(m.parameters(), lr=1e-3)"
      ],
      "metadata": {
        "id": "xOJ34uahHkTa"
      },
      "execution_count": 81,
      "outputs": []
    },
    {
      "cell_type": "code",
      "source": [
        "batch_size = 512\n",
        "\n",
        "for steps in range(10000):\n",
        "    xb,yb = get_batch('train')\n",
        "\n",
        "    logits, loss = m(xb,yb)\n",
        "\n",
        "    optimizer.zero_grad(set_to_none=True)\n",
        "    loss.backward()\n",
        "    optimizer.step()\n",
        "    if steps % 100 == 0:\n",
        "        print(f\"Loss at {steps}: {loss.item()}\")"
      ],
      "metadata": {
        "colab": {
          "base_uri": "https://localhost:8080/",
          "height": 721
        },
        "id": "T69G9XLvFNuy",
        "outputId": "37cf1d26-0627-4276-cbfa-0e583823712d"
      },
      "execution_count": 82,
      "outputs": [
        {
          "output_type": "stream",
          "name": "stdout",
          "text": [
            "Loss at 0: 4.67092752456665\n",
            "Loss at 100: 2.3043296337127686\n",
            "Loss at 200: 2.147336721420288\n",
            "Loss at 300: 2.054170846939087\n",
            "Loss at 400: 1.991184949874878\n",
            "Loss at 500: 2.014923572540283\n",
            "Loss at 600: 1.9513003826141357\n",
            "Loss at 700: 1.92502760887146\n",
            "Loss at 800: 1.8872630596160889\n",
            "Loss at 900: 1.8552652597427368\n",
            "Loss at 1000: 1.860404372215271\n",
            "Loss at 1100: 1.8393619060516357\n",
            "Loss at 1200: 1.8350437879562378\n",
            "Loss at 1300: 1.8147451877593994\n",
            "Loss at 1400: 1.7899190187454224\n",
            "Loss at 1500: 1.7723454236984253\n",
            "Loss at 1600: 1.778454065322876\n",
            "Loss at 1700: 1.7781962156295776\n",
            "Loss at 1800: 1.7617133855819702\n",
            "Loss at 1900: 1.768822193145752\n",
            "Loss at 2000: 1.780487060546875\n"
          ]
        },
        {
          "output_type": "error",
          "ename": "KeyboardInterrupt",
          "evalue": "",
          "traceback": [
            "\u001b[0;31m---------------------------------------------------------------------------\u001b[0m",
            "\u001b[0;31mKeyboardInterrupt\u001b[0m                         Traceback (most recent call last)",
            "\u001b[0;32m/tmp/ipython-input-2396670598.py\u001b[0m in \u001b[0;36m<cell line: 0>\u001b[0;34m()\u001b[0m\n\u001b[1;32m      7\u001b[0m \u001b[0;34m\u001b[0m\u001b[0m\n\u001b[1;32m      8\u001b[0m     \u001b[0moptimizer\u001b[0m\u001b[0;34m.\u001b[0m\u001b[0mzero_grad\u001b[0m\u001b[0;34m(\u001b[0m\u001b[0mset_to_none\u001b[0m\u001b[0;34m=\u001b[0m\u001b[0;32mTrue\u001b[0m\u001b[0;34m)\u001b[0m\u001b[0;34m\u001b[0m\u001b[0;34m\u001b[0m\u001b[0m\n\u001b[0;32m----> 9\u001b[0;31m     \u001b[0mloss\u001b[0m\u001b[0;34m.\u001b[0m\u001b[0mbackward\u001b[0m\u001b[0;34m(\u001b[0m\u001b[0;34m)\u001b[0m\u001b[0;34m\u001b[0m\u001b[0;34m\u001b[0m\u001b[0m\n\u001b[0m\u001b[1;32m     10\u001b[0m     \u001b[0moptimizer\u001b[0m\u001b[0;34m.\u001b[0m\u001b[0mstep\u001b[0m\u001b[0;34m(\u001b[0m\u001b[0;34m)\u001b[0m\u001b[0;34m\u001b[0m\u001b[0;34m\u001b[0m\u001b[0m\n\u001b[1;32m     11\u001b[0m     \u001b[0;32mif\u001b[0m \u001b[0msteps\u001b[0m \u001b[0;34m%\u001b[0m \u001b[0;36m100\u001b[0m \u001b[0;34m==\u001b[0m \u001b[0;36m0\u001b[0m\u001b[0;34m:\u001b[0m\u001b[0;34m\u001b[0m\u001b[0;34m\u001b[0m\u001b[0m\n",
            "\u001b[0;32m/usr/local/lib/python3.11/dist-packages/torch/_tensor.py\u001b[0m in \u001b[0;36mbackward\u001b[0;34m(self, gradient, retain_graph, create_graph, inputs)\u001b[0m\n\u001b[1;32m    624\u001b[0m                 \u001b[0minputs\u001b[0m\u001b[0;34m=\u001b[0m\u001b[0minputs\u001b[0m\u001b[0;34m,\u001b[0m\u001b[0;34m\u001b[0m\u001b[0;34m\u001b[0m\u001b[0m\n\u001b[1;32m    625\u001b[0m             )\n\u001b[0;32m--> 626\u001b[0;31m         torch.autograd.backward(\n\u001b[0m\u001b[1;32m    627\u001b[0m             \u001b[0mself\u001b[0m\u001b[0;34m,\u001b[0m \u001b[0mgradient\u001b[0m\u001b[0;34m,\u001b[0m \u001b[0mretain_graph\u001b[0m\u001b[0;34m,\u001b[0m \u001b[0mcreate_graph\u001b[0m\u001b[0;34m,\u001b[0m \u001b[0minputs\u001b[0m\u001b[0;34m=\u001b[0m\u001b[0minputs\u001b[0m\u001b[0;34m\u001b[0m\u001b[0;34m\u001b[0m\u001b[0m\n\u001b[1;32m    628\u001b[0m         )\n",
            "\u001b[0;32m/usr/local/lib/python3.11/dist-packages/torch/autograd/__init__.py\u001b[0m in \u001b[0;36mbackward\u001b[0;34m(tensors, grad_tensors, retain_graph, create_graph, grad_variables, inputs)\u001b[0m\n\u001b[1;32m    345\u001b[0m     \u001b[0;31m# some Python versions print out the first line of a multi-line function\u001b[0m\u001b[0;34m\u001b[0m\u001b[0;34m\u001b[0m\u001b[0m\n\u001b[1;32m    346\u001b[0m     \u001b[0;31m# calls in the traceback and some print out the last line\u001b[0m\u001b[0;34m\u001b[0m\u001b[0;34m\u001b[0m\u001b[0m\n\u001b[0;32m--> 347\u001b[0;31m     _engine_run_backward(\n\u001b[0m\u001b[1;32m    348\u001b[0m         \u001b[0mtensors\u001b[0m\u001b[0;34m,\u001b[0m\u001b[0;34m\u001b[0m\u001b[0;34m\u001b[0m\u001b[0m\n\u001b[1;32m    349\u001b[0m         \u001b[0mgrad_tensors_\u001b[0m\u001b[0;34m,\u001b[0m\u001b[0;34m\u001b[0m\u001b[0;34m\u001b[0m\u001b[0m\n",
            "\u001b[0;32m/usr/local/lib/python3.11/dist-packages/torch/autograd/graph.py\u001b[0m in \u001b[0;36m_engine_run_backward\u001b[0;34m(t_outputs, *args, **kwargs)\u001b[0m\n\u001b[1;32m    821\u001b[0m         \u001b[0munregister_hooks\u001b[0m \u001b[0;34m=\u001b[0m \u001b[0m_register_logging_hooks_on_whole_graph\u001b[0m\u001b[0;34m(\u001b[0m\u001b[0mt_outputs\u001b[0m\u001b[0;34m)\u001b[0m\u001b[0;34m\u001b[0m\u001b[0;34m\u001b[0m\u001b[0m\n\u001b[1;32m    822\u001b[0m     \u001b[0;32mtry\u001b[0m\u001b[0;34m:\u001b[0m\u001b[0;34m\u001b[0m\u001b[0;34m\u001b[0m\u001b[0m\n\u001b[0;32m--> 823\u001b[0;31m         return Variable._execution_engine.run_backward(  # Calls into the C++ engine to run the backward pass\n\u001b[0m\u001b[1;32m    824\u001b[0m             \u001b[0mt_outputs\u001b[0m\u001b[0;34m,\u001b[0m \u001b[0;34m*\u001b[0m\u001b[0margs\u001b[0m\u001b[0;34m,\u001b[0m \u001b[0;34m**\u001b[0m\u001b[0mkwargs\u001b[0m\u001b[0;34m\u001b[0m\u001b[0;34m\u001b[0m\u001b[0m\n\u001b[1;32m    825\u001b[0m         )  # Calls into the C++ engine to run the backward pass\n",
            "\u001b[0;31mKeyboardInterrupt\u001b[0m: "
          ]
        }
      ]
    },
    {
      "cell_type": "code",
      "source": [
        "estimate_loss()"
      ],
      "metadata": {
        "colab": {
          "base_uri": "https://localhost:8080/"
        },
        "id": "gD7tiX0kHhLF",
        "outputId": "bcf5943d-b385-4886-c4f5-fe378b8c3863"
      },
      "execution_count": 83,
      "outputs": [
        {
          "output_type": "execute_result",
          "data": {
            "text/plain": [
              "{'train': tensor(1.7584), 'val': tensor(1.9072)}"
            ]
          },
          "metadata": {},
          "execution_count": 83
        }
      ]
    },
    {
      "cell_type": "markdown",
      "source": [
        "* transformer with single attention block, no layer norm, and no ffn: train 2.3442 val: 2.3719\n",
        "* transformer with single attn, layer norm and ffn, no residual connection: train 2.2628 val 2.3023\n",
        "\n",
        "* transformer with multi head attn + linear, layer norm, ffn and residual connection in after multihead attn: train 1.7584 val 1.9072"
      ],
      "metadata": {
        "id": "fmZZs4jN7cAg"
      }
    },
    {
      "cell_type": "code",
      "source": [
        "print(decode(m.generate(torch.zeros((1,8), dtype=torch.long), max_new_tokens=1000)[0].tolist()))"
      ],
      "metadata": {
        "colab": {
          "base_uri": "https://localhost:8080/"
        },
        "id": "Wfje3woBKECj",
        "outputId": "b6db0347-97e6-4e3b-e9b8-d05eb77b1952"
      },
      "execution_count": 84,
      "outputs": [
        {
          "output_type": "stream",
          "name": "stdout",
          "text": [
            "\n",
            "\n",
            "\n",
            "\n",
            "\n",
            "\n",
            "\n",
            "\n",
            "BESON:\n",
            "So, whence,\n",
            "For I am shipn. That our prain by mostrant talk fal;\n",
            "Thirst Munches, like done maleft, in they tarign him chan alse have lund have brieford me at will I pleady not the hook'd conds intellast France for not Come, sir, another hair king, girle\n",
            "Dorseither as frue I vely fairst thummb wine shough;\n",
            "But spent.\n",
            "\n",
            "QUEEN MARGARET:\n",
            "Good, I king pinginnel himbout lighasty friends\n",
            "to my leaster, there, hover traight.\n",
            "\n",
            "CAGles from his completty be so, under thing thy fazen:\n",
            "I he words peaces it toke plost;\n",
            "Our poine;\n",
            "For thin,\n",
            "Deaple,\n",
            "I charlike for in tine wing,\n",
            "That wantle harge,\n",
            "Will fendst himself\n",
            "He of perisoc,\n",
            "I reven'd ath love.\n",
            "\n",
            "And kirst nad by\n",
            "The rates the with flow to she paggently on of not minight, and tring'd alrieve the itsender,\n",
            "As let fo,\n",
            "Where bear,\n",
            "Thirdoubting in Godfen a cated\n",
            "To issing galood me, a not for: I am night, would I tark spit astize me kingratience.\n",
            "\n",
            "CORIOLANUS:\n",
            "And offer-blands of you, fearce,\n",
            "I cursentress,\n",
            "Kingracle: my parther, my surZe,\n",
            "Of gr\n"
          ]
        }
      ]
    },
    {
      "cell_type": "markdown",
      "source": [
        "need to add layernorm"
      ],
      "metadata": {
        "id": "QQn1IO_aLV7x"
      }
    },
    {
      "cell_type": "code",
      "source": [],
      "metadata": {
        "id": "QPBYFT6jKKcY"
      },
      "execution_count": 79,
      "outputs": []
    }
  ]
}