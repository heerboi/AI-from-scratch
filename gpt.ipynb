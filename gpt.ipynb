{
  "nbformat": 4,
  "nbformat_minor": 0,
  "metadata": {
    "colab": {
      "provenance": [],
      "authorship_tag": "ABX9TyOxP4mj470XJOJk1XLeC8Qe",
      "include_colab_link": true
    },
    "kernelspec": {
      "name": "python3",
      "display_name": "Python 3"
    },
    "language_info": {
      "name": "python"
    }
  },
  "cells": [
    {
      "cell_type": "markdown",
      "metadata": {
        "id": "view-in-github",
        "colab_type": "text"
      },
      "source": [
        "<a href=\"https://colab.research.google.com/github/heerboi/AI-from-scratch/blob/main/gpt.ipynb\" target=\"_parent\"><img src=\"https://colab.research.google.com/assets/colab-badge.svg\" alt=\"Open In Colab\"/></a>"
      ]
    },
    {
      "cell_type": "markdown",
      "source": [
        "Following Andrej's video: https://www.youtube.com/watch?v=kCc8FmEb1nY"
      ],
      "metadata": {
        "id": "NytWV_Vpyx2s"
      }
    },
    {
      "cell_type": "code",
      "execution_count": 1,
      "metadata": {
        "colab": {
          "base_uri": "https://localhost:8080/"
        },
        "id": "rkpGHe1_yuQ4",
        "outputId": "69045c1d-00a3-40ee-cbd7-6d7e515f005d"
      },
      "outputs": [
        {
          "output_type": "stream",
          "name": "stdout",
          "text": [
            "--2025-07-30 10:33:05--  https://raw.githubusercontent.com/karpathy/char-rnn/refs/heads/master/data/tinyshakespeare/input.txt\n",
            "Resolving raw.githubusercontent.com (raw.githubusercontent.com)... 185.199.108.133, 185.199.109.133, 185.199.110.133, ...\n",
            "Connecting to raw.githubusercontent.com (raw.githubusercontent.com)|185.199.108.133|:443... connected.\n",
            "HTTP request sent, awaiting response... 200 OK\n",
            "Length: 1115394 (1.1M) [text/plain]\n",
            "Saving to: ‘input.txt’\n",
            "\n",
            "input.txt           100%[===================>]   1.06M  --.-KB/s    in 0.05s   \n",
            "\n",
            "2025-07-30 10:33:05 (22.0 MB/s) - ‘input.txt’ saved [1115394/1115394]\n",
            "\n"
          ]
        }
      ],
      "source": [
        "!wget https://raw.githubusercontent.com/karpathy/char-rnn/refs/heads/master/data/tinyshakespeare/input.txt"
      ]
    },
    {
      "cell_type": "code",
      "source": [
        "with open('input.txt', 'r', encoding=\"utf-8\") as f:\n",
        "    text = f.read()"
      ],
      "metadata": {
        "id": "qbTGZmhxzsE4"
      },
      "execution_count": 2,
      "outputs": []
    },
    {
      "cell_type": "code",
      "source": [
        "text[:100]"
      ],
      "metadata": {
        "colab": {
          "base_uri": "https://localhost:8080/",
          "height": 36
        },
        "id": "N43VhIWwzy7q",
        "outputId": "80d2e2c0-f038-459d-bde2-3338db136386"
      },
      "execution_count": 3,
      "outputs": [
        {
          "output_type": "execute_result",
          "data": {
            "text/plain": [
              "'First Citizen:\\nBefore we proceed any further, hear me speak.\\n\\nAll:\\nSpeak, speak.\\n\\nFirst Citizen:\\nYou'"
            ],
            "application/vnd.google.colaboratory.intrinsic+json": {
              "type": "string"
            }
          },
          "metadata": {},
          "execution_count": 3
        }
      ]
    },
    {
      "cell_type": "code",
      "source": [
        "chars = sorted(list(set(text)))\n",
        "vocab_size = len(chars)\n",
        "print(''.join(chars))\n",
        "print(vocab_size)"
      ],
      "metadata": {
        "colab": {
          "base_uri": "https://localhost:8080/"
        },
        "id": "-dwInOXkzzs5",
        "outputId": "8233b79a-912a-49b9-c575-62aa67eb044f"
      },
      "execution_count": 4,
      "outputs": [
        {
          "output_type": "stream",
          "name": "stdout",
          "text": [
            "\n",
            " !$&',-.3:;?ABCDEFGHIJKLMNOPQRSTUVWXYZabcdefghijklmnopqrstuvwxyz\n",
            "65\n"
          ]
        }
      ]
    },
    {
      "cell_type": "code",
      "source": [
        "stoi = {s:i for i,s in enumerate(chars)}\n",
        "itos = {i:s for s, i in stoi.items()}\n",
        "encode = lambda s: [stoi[c] for c in s]\n",
        "decode = lambda l: \"\".join([itos[i] for i in l])\n",
        "\n",
        "print(encode(\"Hii\"))\n",
        "print(decode(encode(\"Hii\")))"
      ],
      "metadata": {
        "colab": {
          "base_uri": "https://localhost:8080/"
        },
        "id": "00b0b11Oz7Ck",
        "outputId": "6896d877-5641-458a-8052-b4596e0483e9"
      },
      "execution_count": 5,
      "outputs": [
        {
          "output_type": "stream",
          "name": "stdout",
          "text": [
            "[20, 47, 47]\n",
            "Hii\n"
          ]
        }
      ]
    },
    {
      "cell_type": "code",
      "source": [
        "import torch\n",
        "data = torch.tensor(encode(text), dtype=torch.long)\n",
        "print(data.shape, data.dtype)\n",
        "print(data[:100])"
      ],
      "metadata": {
        "colab": {
          "base_uri": "https://localhost:8080/"
        },
        "id": "8aZlOpG90XO8",
        "outputId": "cdd277a4-3cd0-434e-9493-f9cae9ca5f7c"
      },
      "execution_count": 6,
      "outputs": [
        {
          "output_type": "stream",
          "name": "stdout",
          "text": [
            "torch.Size([1115394]) torch.int64\n",
            "tensor([18, 47, 56, 57, 58,  1, 15, 47, 58, 47, 64, 43, 52, 10,  0, 14, 43, 44,\n",
            "        53, 56, 43,  1, 61, 43,  1, 54, 56, 53, 41, 43, 43, 42,  1, 39, 52, 63,\n",
            "         1, 44, 59, 56, 58, 46, 43, 56,  6,  1, 46, 43, 39, 56,  1, 51, 43,  1,\n",
            "        57, 54, 43, 39, 49,  8,  0,  0, 13, 50, 50, 10,  0, 31, 54, 43, 39, 49,\n",
            "         6,  1, 57, 54, 43, 39, 49,  8,  0,  0, 18, 47, 56, 57, 58,  1, 15, 47,\n",
            "        58, 47, 64, 43, 52, 10,  0, 37, 53, 59])\n"
          ]
        }
      ]
    },
    {
      "cell_type": "code",
      "source": [
        "split = int(0.9*len(data))\n",
        "train_data = data[:split]\n",
        "val_data = data[split:]\n",
        "print(len(train_data))\n",
        "print(len(val_data))"
      ],
      "metadata": {
        "colab": {
          "base_uri": "https://localhost:8080/"
        },
        "id": "NoNIpIhf04Lu",
        "outputId": "670c498e-f06f-42c0-9ef2-4cef1764ea53"
      },
      "execution_count": 7,
      "outputs": [
        {
          "output_type": "stream",
          "name": "stdout",
          "text": [
            "1003854\n",
            "111540\n"
          ]
        }
      ]
    },
    {
      "cell_type": "code",
      "source": [
        "#context length\n",
        "\n",
        "block_size = 8\n",
        "train_data[:block_size+1]"
      ],
      "metadata": {
        "colab": {
          "base_uri": "https://localhost:8080/"
        },
        "id": "FiXWgSi01F8t",
        "outputId": "1c970477-46b9-421a-d569-259a356394e5"
      },
      "execution_count": 8,
      "outputs": [
        {
          "output_type": "execute_result",
          "data": {
            "text/plain": [
              "tensor([18, 47, 56, 57, 58,  1, 15, 47, 58])"
            ]
          },
          "metadata": {},
          "execution_count": 8
        }
      ]
    },
    {
      "cell_type": "code",
      "source": [
        "x = train_data[:block_size]\n",
        "y = train_data[1:block_size+1]\n",
        "\n",
        "for t in range(block_size):\n",
        "    context = x[:t+1]\n",
        "    target = y[t]\n",
        "    print(context, target)"
      ],
      "metadata": {
        "colab": {
          "base_uri": "https://localhost:8080/"
        },
        "id": "KOj5UHbN1Y9v",
        "outputId": "b8e820df-c973-4182-f931-75e184f8ae70"
      },
      "execution_count": 9,
      "outputs": [
        {
          "output_type": "stream",
          "name": "stdout",
          "text": [
            "tensor([18]) tensor(47)\n",
            "tensor([18, 47]) tensor(56)\n",
            "tensor([18, 47, 56]) tensor(57)\n",
            "tensor([18, 47, 56, 57]) tensor(58)\n",
            "tensor([18, 47, 56, 57, 58]) tensor(1)\n",
            "tensor([18, 47, 56, 57, 58,  1]) tensor(15)\n",
            "tensor([18, 47, 56, 57, 58,  1, 15]) tensor(47)\n",
            "tensor([18, 47, 56, 57, 58,  1, 15, 47]) tensor(58)\n"
          ]
        }
      ]
    },
    {
      "cell_type": "code",
      "source": [
        "torch.manual_seed(1337)\n",
        "batch_size = 4\n",
        "block_size = 8\n",
        "\n",
        "def get_batch(split):\n",
        "\n",
        "    data = train_data if split == \"train\" else val_data\n",
        "    ix = torch.randint(len(data) - block_size, (batch_size,))\n",
        "    x = torch.stack([data[i:i+block_size] for i in ix])\n",
        "    y = torch.stack([data[i+1:i+1+block_size] for i in ix])\n",
        "\n",
        "    return x, y\n",
        "\n",
        "x, y = get_batch(\"train\")\n",
        "print(x)\n",
        "print(y)"
      ],
      "metadata": {
        "id": "tM64g1Zr1vpo",
        "colab": {
          "base_uri": "https://localhost:8080/"
        },
        "outputId": "8485565e-9d3c-4d48-8730-720a1837ab85"
      },
      "execution_count": 10,
      "outputs": [
        {
          "output_type": "stream",
          "name": "stdout",
          "text": [
            "tensor([[24, 43, 58,  5, 57,  1, 46, 43],\n",
            "        [44, 53, 56,  1, 58, 46, 39, 58],\n",
            "        [52, 58,  1, 58, 46, 39, 58,  1],\n",
            "        [25, 17, 27, 10,  0, 21,  1, 54]])\n",
            "tensor([[43, 58,  5, 57,  1, 46, 43, 39],\n",
            "        [53, 56,  1, 58, 46, 39, 58,  1],\n",
            "        [58,  1, 58, 46, 39, 58,  1, 46],\n",
            "        [17, 27, 10,  0, 21,  1, 54, 39]])\n"
          ]
        }
      ]
    },
    {
      "cell_type": "code",
      "source": [
        "import torch\n",
        "import torch.nn as nn\n",
        "import torch.nn.functional as F\n",
        "\n",
        "class BigramLanguageModel(nn.Module):\n",
        "\n",
        "    def __init__(self, vocab_size):\n",
        "        super().__init__()\n",
        "\n",
        "        self.token_embedding_table = nn.Embedding(num_embeddings = vocab_size, embedding_dim = vocab_size)\n",
        "\n",
        "    def forward(self, idx, targets=None):\n",
        "        logits = self.token_embedding_table(idx)\n",
        "\n",
        "        if targets == None:\n",
        "            loss = None\n",
        "        else:\n",
        "            B, T, C = logits.shape\n",
        "\n",
        "            logits = logits.view(B*T, C)\n",
        "            targets = targets.view(-1)\n",
        "            loss = F.cross_entropy(logits, targets)\n",
        "        return logits, loss\n",
        "\n",
        "    def generate(self, idx, max_new_tokens):\n",
        "        for _ in range(max_new_tokens):\n",
        "            logits, loss = self(idx)\n",
        "            # last time step for each batch and include all embeddings\n",
        "            logits = logits[:, -1, :]\n",
        "\n",
        "            probabilities = F.softmax(logits, dim=1)\n",
        "            # (B, 1)\n",
        "            next_idx = torch.multinomial(probabilities, num_samples=1)\n",
        "            # (B, T+1)\n",
        "            idx = torch.cat((idx, next_idx), dim=1)\n",
        "        return idx\n",
        "\n",
        "m = BigramLanguageModel(vocab_size)\n",
        "out, loss = m(x, y)\n",
        "print(out.shape)\n",
        "print(out)\n",
        "\n",
        "print(decode(m.generate(torch.zeros((1,1), dtype=torch.long), max_new_tokens=100)[0].tolist()))"
      ],
      "metadata": {
        "colab": {
          "base_uri": "https://localhost:8080/"
        },
        "id": "u4M6EPHBoMlu",
        "outputId": "738bdc63-6794-4511-ef8f-e4d2a537d39e"
      },
      "execution_count": 11,
      "outputs": [
        {
          "output_type": "stream",
          "name": "stdout",
          "text": [
            "torch.Size([32, 65])\n",
            "tensor([[ 1.6347, -0.0518,  0.4996,  ...,  0.2432,  1.1519,  0.9950],\n",
            "        [ 0.3418, -0.9276,  1.2381,  ...,  1.5018, -0.5266,  0.2354],\n",
            "        [ 0.1479, -0.4333,  0.5203,  ...,  0.3302,  1.5454,  1.3778],\n",
            "        ...,\n",
            "        [-0.5693, -0.0735,  0.7743,  ..., -0.0815, -1.1445, -0.0623],\n",
            "        [ 0.4658, -0.2573, -1.0673,  ...,  1.2439,  1.3471,  1.6910],\n",
            "        [-0.4553,  0.0139,  0.9309,  ...,  0.0290, -0.7568,  0.8701]],\n",
            "       grad_fn=<ViewBackward0>)\n",
            "\n",
            "l-QYjt'CL?jLDuQcLzy'RIo;'KdhpV\n",
            "vLixa,nswYZwLEPS'ptIZqOZJ$CA$zy-QTkeMk x.gQSFCLg!iW3fO!3DGXAqTsq3pdgq\n"
          ]
        }
      ]
    },
    {
      "cell_type": "code",
      "source": [
        "optimizer = torch.optim.AdamW(m.parameters(), lr=1e-3)"
      ],
      "metadata": {
        "id": "3qsOfqfxo86l"
      },
      "execution_count": 12,
      "outputs": []
    },
    {
      "cell_type": "code",
      "source": [
        "batch_size = 32\n",
        "\n",
        "for steps in range(5000):\n",
        "    xb,yb = get_batch('train')\n",
        "\n",
        "    logits, loss = m(xb,yb)\n",
        "\n",
        "    optimizer.zero_grad(set_to_none=True)\n",
        "    loss.backward()\n",
        "    optimizer.step()\n",
        "\n",
        "print(loss.item())"
      ],
      "metadata": {
        "colab": {
          "base_uri": "https://localhost:8080/"
        },
        "id": "2K2DOnUlrDg0",
        "outputId": "8d808c36-8612-470c-fd9a-8209f4e7fd5c"
      },
      "execution_count": 13,
      "outputs": [
        {
          "output_type": "stream",
          "name": "stdout",
          "text": [
            "2.5904765129089355\n"
          ]
        }
      ]
    },
    {
      "cell_type": "code",
      "source": [
        "print(decode(m.generate(torch.zeros((1,1), dtype=torch.long), max_new_tokens=1000)[0].tolist()))"
      ],
      "metadata": {
        "colab": {
          "base_uri": "https://localhost:8080/"
        },
        "id": "qMxS4jlAuH80",
        "outputId": "da7e97e6-f194-4317-94f5-8a5784d342a7"
      },
      "execution_count": 14,
      "outputs": [
        {
          "output_type": "stream",
          "name": "stdout",
          "text": [
            "\n",
            "AnzLLOjad ws amangano s nd TINTI zXave anlfedo cor be:ghere\n",
            "D:\n",
            "IO, n!qXDYd inks cerVis benes'sowr wnof pre, hairal.\n",
            "Tir W:\n",
            "Ano u\n",
            "Bue;BOgfatho rend thich,\n",
            "The tTorak,\n",
            "\n",
            "D:\n",
            "GHisok R.\n",
            "Jeveauee! ce,\n",
            "OMA::'\n",
            "t.\n",
            "HELEThRird maseestindovive wat boue nodgh flle, mOf \n",
            "\n",
            "SCarXto An twl;thind d me sesete gksow'DX'llaronte\n",
            "\n",
            "HEThecarmoar, file to he bis wllagGr O g.oamacl off nrop'twindg,\n",
            "WS trnen t mllel $Lupzy iBOFL$KENor-fo ed dONus s are th, al ent I s l:\n",
            "E-HEThond\n",
            "Tge henJe long bo ave ttheKar f : t\n",
            "Y;-fe m blqxp;t;the.Ren illd b.'t Qght tthpe,\n",
            "CEN:\n",
            "FLOfaind Rl, An, WS:OUk,e m?\n",
            "\n",
            "OLy iow yous\n",
            "Youtiveas t fye tea;\n",
            "Fgs kGPMllort'Y:\n",
            "Bexan t ber is e tle?Ty osWDothou d a atororetheang nS:\n",
            "ARCAses inowifowe\n",
            "'thin ICA,\n",
            "CCFlformymsas twhatl fo the y wey youe.\n",
            "O:urmerzio, or m, stlly il, illled tthereSAnce cesed me n.\n",
            "TfaRGLO:\n",
            "Son tyJee garavensty d .\n",
            "K:um&zXENTESers ip'le,Of s mave, pl as feARS:HENINC pes:\n",
            "S:\n",
            "GI tearor-aks de\n",
            "FRO, woCIs Yeaitst h lldok h g br t 'thenaroled.Bo'-ce pt, ve!\n",
            "Rak theto ty ond \n"
          ]
        }
      ]
    },
    {
      "cell_type": "code",
      "source": [
        "eval_iters = 200\n",
        "@torch.no_grad()\n",
        "def estimate_loss():\n",
        "    out = {}\n",
        "    m.eval()\n",
        "    for split in [\"train\", \"val\"]:\n",
        "        losses = torch.zeros(eval_iters)\n",
        "        for k in range(eval_iters):\n",
        "            xb, yb = get_batch(split)\n",
        "            logits, loss = m(xb, yb)\n",
        "            losses[k] = loss.item()\n",
        "        out[split] = losses.mean()\n",
        "    m.train()\n",
        "    return out\n",
        "estimate_loss()"
      ],
      "metadata": {
        "colab": {
          "base_uri": "https://localhost:8080/"
        },
        "id": "JWurTw1mujpA",
        "outputId": "b4345b63-2180-4a5f-ecd6-e81bea4af761"
      },
      "execution_count": 15,
      "outputs": [
        {
          "output_type": "execute_result",
          "data": {
            "text/plain": [
              "{'train': tensor(2.5633), 'val': tensor(2.5757)}"
            ]
          },
          "metadata": {},
          "execution_count": 15
        }
      ]
    },
    {
      "cell_type": "markdown",
      "source": [
        "## Mathematical trick in self-attention!\n",
        "\n",
        "- have to average the logits in the time dim 0..t for logit t\n"
      ],
      "metadata": {
        "id": "ON796oN7wS5g"
      }
    },
    {
      "cell_type": "code",
      "source": [
        "B, T, C = 4, 8, 2\n",
        "x = torch.randn(B,T,C)"
      ],
      "metadata": {
        "id": "_dUS8nJvvWiK"
      },
      "execution_count": 16,
      "outputs": []
    },
    {
      "cell_type": "code",
      "source": [
        "div = torch.tril(torch.ones(T,T))\n",
        "div /= div.sum(dim=1, keepdim=True)\n",
        "xbow = div @ x"
      ],
      "metadata": {
        "id": "qPtTXEaowgzX"
      },
      "execution_count": null,
      "outputs": []
    },
    {
      "cell_type": "code",
      "source": [
        "div"
      ],
      "metadata": {
        "id": "w_xjzMN0wyTa"
      },
      "execution_count": null,
      "outputs": []
    },
    {
      "cell_type": "code",
      "source": [
        "x[0], xbow[0]"
      ],
      "metadata": {
        "id": "tPV5L8ePxMF4"
      },
      "execution_count": null,
      "outputs": []
    },
    {
      "cell_type": "markdown",
      "source": [
        "### using softmax(infinity)\n",
        "\n",
        "hint: e^-infinity = 0, and e^0 = 1"
      ],
      "metadata": {
        "id": "YXm70ToFyUmR"
      }
    },
    {
      "cell_type": "code",
      "source": [
        "tril = torch.tril(torch.ones(T, T))\n",
        "wei = torch.zeros((T, T))\n",
        "wei = wei.masked_fill(tril==0, float('-inf'))\n",
        "wei = F.softmax(wei,dim=1)\n",
        "xbow3 = wei @ x\n",
        "wei"
      ],
      "metadata": {
        "id": "35Sr49cCx0zp"
      },
      "execution_count": null,
      "outputs": []
    },
    {
      "cell_type": "markdown",
      "source": [
        "## A bit about attention\n",
        "\n",
        "- Attention is just a mechanism that adds a set of values with a set of weights. The approach above takes the weights to be equally distributed for the node itself and the nodes before, and zero for all nodes after.\n",
        "\n",
        "- But, the current node might find more of what it needs from some nodes rather than others; it won't necessarily be equally distributed.\n",
        "\n",
        "- Paper proposes an attention function where each node (token) at time T emits a query vector that contains the information that the current node is looking for, and a key vector that contains the information that the current node has within itself.\n",
        "\n",
        "- This query vector and key vector get multiplied together to get the \"affinities\" between what the nodes are looking for and what the nodes have (T, T dimension, so each combination)\n",
        "\n",
        "- Instead of taking the average of each node, we perform softmax on this new matrix. Now, instead of multiplying the \"original\" values $x$, we multiply it with the \"value\" matrix, which is different for each attention \"head\"\n",
        "\n",
        "- As each head has a different purpose, it will have a different value to emit in each head, a different value that it posesses that makes more sense for that particular head!"
      ],
      "metadata": {
        "id": "S8MVAHSu5MES"
      }
    },
    {
      "cell_type": "code",
      "source": [
        "head_size = 16\n",
        "Q = nn.Linear(C, head_size, bias=False)\n",
        "K = nn.Linear(C, head_size, bias=False)\n",
        "V = nn.Linear(C, head_size, bias=False)\n",
        "\n",
        "queries = Q(x)\n",
        "keys = K(x)\n",
        "\n",
        "print(queries.shape)\n",
        "print(keys.shape)"
      ],
      "metadata": {
        "id": "Eq5w5Pgyyxr9",
        "colab": {
          "base_uri": "https://localhost:8080/"
        },
        "outputId": "e4fe95e7-c35a-4cfd-b16b-04515a1f9aa7"
      },
      "execution_count": 23,
      "outputs": [
        {
          "output_type": "stream",
          "name": "stdout",
          "text": [
            "torch.Size([4, 8, 16])\n",
            "torch.Size([4, 8, 16])\n"
          ]
        }
      ]
    },
    {
      "cell_type": "code",
      "source": [
        "T"
      ],
      "metadata": {
        "colab": {
          "base_uri": "https://localhost:8080/"
        },
        "id": "yxyAnG2zEI5B",
        "outputId": "795b8a09-8b7c-4c07-e94e-67ca94d30bc0"
      },
      "execution_count": 30,
      "outputs": [
        {
          "output_type": "execute_result",
          "data": {
            "text/plain": [
              "8"
            ]
          },
          "metadata": {},
          "execution_count": 30
        }
      ]
    },
    {
      "cell_type": "code",
      "source": [
        "tril = torch.tril(torch.ones(T, T))\n",
        "wei = keys @ queries.transpose(-2, -1) # (4, 8, 8)\n",
        "# wei = torch.zeros((T, T))\n",
        "wei = wei.masked_fill(tril==0, float('-inf'))\n",
        "wei = F.softmax(wei,dim=1)\n",
        "\n",
        "values = V(x)\n",
        "\n",
        "xbow4 = wei @ values\n",
        "print(wei.shape)\n",
        "print(xbow4.shape)"
      ],
      "metadata": {
        "colab": {
          "base_uri": "https://localhost:8080/"
        },
        "id": "ud8SI2HI8lXm",
        "outputId": "b5a1f889-ec87-466e-ed8b-a726d4850a6d"
      },
      "execution_count": 24,
      "outputs": [
        {
          "output_type": "stream",
          "name": "stdout",
          "text": [
            "torch.Size([4, 8, 8])\n",
            "torch.Size([4, 8, 16])\n"
          ]
        }
      ]
    },
    {
      "cell_type": "code",
      "source": [
        "wei[0]"
      ],
      "metadata": {
        "colab": {
          "base_uri": "https://localhost:8080/"
        },
        "id": "g2GSL_Z684KG",
        "outputId": "74f187a0-9b95-46b5-edad-807a5f1deb88"
      },
      "execution_count": 25,
      "outputs": [
        {
          "output_type": "execute_result",
          "data": {
            "text/plain": [
              "tensor([[0.1540, 0.0000, 0.0000, 0.0000, 0.0000, 0.0000, 0.0000, 0.0000],\n",
              "        [0.1207, 0.1454, 0.0000, 0.0000, 0.0000, 0.0000, 0.0000, 0.0000],\n",
              "        [0.1950, 0.1820, 0.3972, 0.0000, 0.0000, 0.0000, 0.0000, 0.0000],\n",
              "        [0.1833, 0.1776, 0.4644, 0.0035, 0.0000, 0.0000, 0.0000, 0.0000],\n",
              "        [0.0721, 0.1140, 0.0164, 0.3823, 0.2233, 0.0000, 0.0000, 0.0000],\n",
              "        [0.0670, 0.1103, 0.0140, 0.3956, 0.2275, 0.4462, 0.0000, 0.0000],\n",
              "        [0.0950, 0.1298, 0.0380, 0.1529, 0.2542, 0.3053, 0.3855, 0.0000],\n",
              "        [0.1130, 0.1409, 0.0699, 0.0657, 0.2950, 0.2485, 0.6145, 1.0000]],\n",
              "       grad_fn=<SelectBackward0>)"
            ]
          },
          "metadata": {},
          "execution_count": 25
        }
      ]
    },
    {
      "cell_type": "markdown",
      "source": [
        "there's a little problem tho"
      ],
      "metadata": {
        "id": "dKahmYxO9LWI"
      }
    },
    {
      "cell_type": "code",
      "source": [
        "query = torch.randn((4, 8, 16))\n",
        "key = torch.randn((4, 8, 16))\n",
        "\n",
        "print(query.var())\n",
        "print(key.var())"
      ],
      "metadata": {
        "colab": {
          "base_uri": "https://localhost:8080/"
        },
        "id": "7MviIC_B85ZP",
        "outputId": "97fd2ddb-189d-4a79-d92d-5d6b70d2c1d9"
      },
      "execution_count": 27,
      "outputs": [
        {
          "output_type": "stream",
          "name": "stdout",
          "text": [
            "tensor(1.0283)\n",
            "tensor(0.9676)\n"
          ]
        }
      ]
    },
    {
      "cell_type": "code",
      "source": [
        "qk = key @ query.transpose(-2, -1)\n",
        "print(qk.var())"
      ],
      "metadata": {
        "colab": {
          "base_uri": "https://localhost:8080/"
        },
        "id": "By5GzZm79Vob",
        "outputId": "3f42a770-77f5-4d7f-ee56-3444a399a946"
      },
      "execution_count": 28,
      "outputs": [
        {
          "output_type": "stream",
          "name": "stdout",
          "text": [
            "tensor(14.4435)\n"
          ]
        }
      ]
    },
    {
      "cell_type": "markdown",
      "source": [
        "HUGE difference in variance, and when variance is high, means the difference between the values is huge. Since we'll apply softmax on this, if the values are very imbalanced, there'll be a huge imbalance in the weight assigned to other nodes, esp when the network is still untrained.\n",
        "\n",
        "The paper proposes dividing the multiplication by the square root of head size, let's try it."
      ],
      "metadata": {
        "id": "G4-T_jSe9cfm"
      }
    },
    {
      "cell_type": "code",
      "source": [
        "qk = key @ query.transpose(-2, -1) * head_size**-0.5\n",
        "print(qk.var())"
      ],
      "metadata": {
        "colab": {
          "base_uri": "https://localhost:8080/"
        },
        "id": "_abuJIVD9b2-",
        "outputId": "01fd3348-bfe5-41a9-b552-a85c4c30b211"
      },
      "execution_count": 29,
      "outputs": [
        {
          "output_type": "stream",
          "name": "stdout",
          "text": [
            "tensor(0.9027)\n"
          ]
        }
      ]
    },
    {
      "cell_type": "markdown",
      "source": [
        "looks good"
      ],
      "metadata": {
        "id": "R1-WGUgd-B8J"
      }
    },
    {
      "cell_type": "code",
      "source": [
        "head_size = 16\n",
        "n_embd = 32"
      ],
      "metadata": {
        "id": "5MKXYQYFDYN0"
      },
      "execution_count": 31,
      "outputs": []
    },
    {
      "cell_type": "code",
      "source": [
        "class SingleAttentionHead(nn.Module):\n",
        "\n",
        "    def __init__(self, head_size):\n",
        "        super().__init__()\n",
        "\n",
        "        self.Q = nn.Linear(n_embd, head_size, bias=False)\n",
        "        self.K = nn.Linear(n_embd, head_size, bias=False)\n",
        "        self.V = nn.Linear(n_embd, head_size, bias=False)\n",
        "\n",
        "        self.register_buffer('tril', torch.tril(torch.ones(block_size, block_size)))\n",
        "\n",
        "    def forward(self, x):\n",
        "        B, T, C = x.shape\n",
        "        # (B, T, head_size)\n",
        "        queries = self.Q(x)\n",
        "        keys = self.K(x)\n",
        "        values = self.V(x)\n",
        "\n",
        "        wei = keys @ queries.transpose(-2, -1) * head_size ** -0.5\n",
        "        wei = wei.masked_fill(self.tril == 0, float('-inf'))\n",
        "        wei = F.softmax(wei, dim=-1)\n",
        "\n",
        "        x = wei @ values\n",
        "        return x"
      ],
      "metadata": {
        "id": "s2jpLZClDhIw"
      },
      "execution_count": 61,
      "outputs": []
    },
    {
      "cell_type": "code",
      "source": [
        "class Decoder(nn.Module):\n",
        "\n",
        "    def __init__(self):\n",
        "        super().__init__()\n",
        "\n",
        "        self.token_embedding_table = nn.Embedding(num_embeddings=vocab_size, embedding_dim=n_embd)\n",
        "        self.position_embedding_table = nn.Embedding(num_embeddings=block_size, embedding_dim=n_embd)\n",
        "        self.lm_head = SingleAttentionHead(head_size)\n",
        "        self.nn = nn.Linear(head_size, vocab_size)\n",
        "\n",
        "    def forward(self, idx, targets=None):\n",
        "        B, T = idx.shape\n",
        "\n",
        "        embeds = self.token_embedding_table(idx)\n",
        "        pos_embd = self.position_embedding_table(torch.arange(T))\n",
        "\n",
        "        x = embeds + pos_embd\n",
        "        x = self.lm_head(x)\n",
        "\n",
        "        logits = self.nn(x)\n",
        "\n",
        "        if targets == None:\n",
        "            loss = None\n",
        "        else:\n",
        "            B, T, C = logits.shape\n",
        "\n",
        "            logits = logits.view(B*T, C)\n",
        "            targets = targets.view(-1)\n",
        "            loss = F.cross_entropy(logits, targets)\n",
        "\n",
        "        return logits, loss\n",
        "\n",
        "    def generate(self, idx, max_new_tokens):\n",
        "        for _ in range(max_new_tokens):\n",
        "            # pick only last 8 tokens for next token\n",
        "            idx_next = idx[:, -block_size:]\n",
        "            logits, loss = self(idx_next)\n",
        "            # last time step for each batch and include all embeddings\n",
        "            logits = logits[:, -1, :]\n",
        "\n",
        "            probabilities = F.softmax(logits, dim=1)\n",
        "            # (B, 1)\n",
        "            next_idx = torch.multinomial(probabilities, num_samples=1)\n",
        "            # (B, T+1)\n",
        "            idx = torch.cat((idx, next_idx), dim=1)\n",
        "        return idx"
      ],
      "metadata": {
        "id": "TzP0BSfl-BN4"
      },
      "execution_count": 62,
      "outputs": []
    },
    {
      "cell_type": "code",
      "source": [
        "xb, yb = get_batch('train')"
      ],
      "metadata": {
        "id": "knFr2i4bGBzh"
      },
      "execution_count": 63,
      "outputs": []
    },
    {
      "cell_type": "code",
      "source": [
        "m = Decoder()\n",
        "out, loss = m(xb, yb)\n",
        "print(out.shape)\n",
        "print(out)\n",
        "\n",
        "print(decode(m.generate(torch.zeros((1,8), dtype=torch.long), max_new_tokens=100)[0].tolist()))"
      ],
      "metadata": {
        "colab": {
          "base_uri": "https://localhost:8080/"
        },
        "id": "Iv5MNj94E109",
        "outputId": "dfe168fd-03b1-4c01-cc37-1af434a007f8"
      },
      "execution_count": 64,
      "outputs": [
        {
          "output_type": "stream",
          "name": "stdout",
          "text": [
            "torch.Size([4096, 65])\n",
            "tensor([[ 0.0181, -0.1023,  0.8002,  ..., -0.2845, -0.4061,  0.2571],\n",
            "        [-0.0325, -0.1428,  0.5561,  ..., -0.4184, -0.0719,  0.2323],\n",
            "        [ 0.0309,  0.1056,  0.3253,  ..., -0.4498,  0.1294,  0.1672],\n",
            "        ...,\n",
            "        [-0.0928,  0.5668,  0.2997,  ..., -0.1537, -0.6549, -0.3078],\n",
            "        [-0.2465,  0.2805,  0.2938,  ..., -0.1495, -0.5909, -0.4177],\n",
            "        [-0.2500,  0.2215,  0.2390,  ..., -0.2054, -0.6350, -0.3636]],\n",
            "       grad_fn=<ViewBackward0>)\n",
            "\n",
            "\n",
            "\n",
            "\n",
            "\n",
            "\n",
            "\n",
            "\n",
            "MgfQ3ACMksXFk&mhDQWXBAr&uSNFmslpK.yCk$KJNoQ,l.h$i$COSQqJ,!b,TbIwkoHfm-FLP$ SIOpc$w?u'dClW?HJKc-fcO-a\n"
          ]
        }
      ]
    },
    {
      "cell_type": "code",
      "source": [
        "optimizer = torch.optim.AdamW(m.parameters(), lr=1e-3)"
      ],
      "metadata": {
        "id": "xOJ34uahHkTa"
      },
      "execution_count": 65,
      "outputs": []
    },
    {
      "cell_type": "code",
      "source": [
        "batch_size = 512\n",
        "\n",
        "for steps in range(5000):\n",
        "    xb,yb = get_batch('train')\n",
        "\n",
        "    logits, loss = m(xb,yb)\n",
        "\n",
        "    optimizer.zero_grad(set_to_none=True)\n",
        "    loss.backward()\n",
        "    optimizer.step()\n",
        "\n",
        "print(loss.item())"
      ],
      "metadata": {
        "colab": {
          "base_uri": "https://localhost:8080/"
        },
        "id": "T69G9XLvFNuy",
        "outputId": "2ae3b8d0-b625-4098-e58f-34067f101429"
      },
      "execution_count": 67,
      "outputs": [
        {
          "output_type": "stream",
          "name": "stdout",
          "text": [
            "2.2804243564605713\n"
          ]
        }
      ]
    },
    {
      "cell_type": "code",
      "source": [
        "estimate_loss()"
      ],
      "metadata": {
        "colab": {
          "base_uri": "https://localhost:8080/"
        },
        "id": "gD7tiX0kHhLF",
        "outputId": "7844d9b8-68b9-4f8e-9ad5-988492795392"
      },
      "execution_count": 68,
      "outputs": [
        {
          "output_type": "execute_result",
          "data": {
            "text/plain": [
              "{'train': tensor(2.3247), 'val': tensor(2.3605)}"
            ]
          },
          "metadata": {},
          "execution_count": 68
        }
      ]
    },
    {
      "cell_type": "code",
      "source": [
        "print(decode(m.generate(torch.zeros((1,8), dtype=torch.long), max_new_tokens=1000)[0].tolist()))"
      ],
      "metadata": {
        "colab": {
          "base_uri": "https://localhost:8080/"
        },
        "id": "Wfje3woBKECj",
        "outputId": "2dc03ee7-2256-4057-d361-7c7a2e88e6a2"
      },
      "execution_count": 69,
      "outputs": [
        {
          "output_type": "stream",
          "name": "stdout",
          "text": [
            "\n",
            "\n",
            "\n",
            "\n",
            "\n",
            "\n",
            "\n",
            "\n",
            "Bis: gturd yelou be arsse oud is cily fronokle for, theat, whar nend.\n",
            "\n",
            "Th ithrs Proknou my, ire:\n",
            "Pe,\n",
            "Monotohargtht nod anken.\n",
            "\n",
            "Wher swabpsed awe whe:\n",
            "Thingeep, then lf bens th yover; Evemanif the, En scabins frovead ito burd;\n",
            "We, quut I. I:\n",
            "A I vyour wans thasin, ot\n",
            "Herw awno to' cent, thed Lorce dece Cad beaivelyot Pudr hye ho hee der, ly.\n",
            "An:\n",
            "Sugr tut winat il.\n",
            "\n",
            "LARESS:\n",
            "O yof thelr durnontcet to se friat iffo hert--\n",
            "WAUnd masius thaljotrousereyn, tan 'Wcienliscus do fof bithean Wlie'\n",
            "d pom, adrdy allllatirt; dw eacedlos Rcexeeses omowrr fl thin, rd:\n",
            "Norpe sa nd ach Per'\n",
            "\n",
            "Thon owuls hy it peat ancod lisen mol oroon to hin ve,\n",
            "Frirener, hith athingond praie inle hat icke st haverhorend Clol ntoonc'lld arben.\n",
            "\n",
            "Yoth ato, the;\n",
            "E:\n",
            "Voen.\n",
            "\n",
            "AN:\n",
            "Beee ds tormin ise thond:\n",
            "S omoul I icred th he os wans not os ong mwadu nowin-s I:\n",
            "IOrd hou oflo oul bese we swsbey orinop.\n",
            "I maghr ser piral-hannggen dr'e\n",
            "Whe dwass.\n",
            "\n",
            "Sor theun atllt anat Dithe it lfe whot lly thavy to vowau that mabe ame I:\n",
            "TI wre h\n"
          ]
        }
      ]
    },
    {
      "cell_type": "code",
      "source": [],
      "metadata": {
        "id": "QPBYFT6jKKcY"
      },
      "execution_count": null,
      "outputs": []
    }
  ]
}