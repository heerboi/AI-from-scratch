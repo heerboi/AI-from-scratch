{
  "nbformat": 4,
  "nbformat_minor": 0,
  "metadata": {
    "colab": {
      "provenance": [],
      "authorship_tag": "ABX9TyNj2CKQnwVdxGUO67XwVu60",
      "include_colab_link": true
    },
    "kernelspec": {
      "name": "python3",
      "display_name": "Python 3"
    },
    "language_info": {
      "name": "python"
    }
  },
  "cells": [
    {
      "cell_type": "markdown",
      "metadata": {
        "id": "view-in-github",
        "colab_type": "text"
      },
      "source": [
        "<a href=\"https://colab.research.google.com/github/heerboi/AI-from-scratch/blob/main/gpt.ipynb\" target=\"_parent\"><img src=\"https://colab.research.google.com/assets/colab-badge.svg\" alt=\"Open In Colab\"/></a>"
      ]
    },
    {
      "cell_type": "markdown",
      "source": [
        "Following Andrej's video: https://www.youtube.com/watch?v=kCc8FmEb1nY"
      ],
      "metadata": {
        "id": "NytWV_Vpyx2s"
      }
    },
    {
      "cell_type": "code",
      "execution_count": 1,
      "metadata": {
        "colab": {
          "base_uri": "https://localhost:8080/"
        },
        "id": "rkpGHe1_yuQ4",
        "outputId": "45b8236b-5681-46f9-f699-53cc0d846154"
      },
      "outputs": [
        {
          "output_type": "stream",
          "name": "stdout",
          "text": [
            "--2025-08-14 09:59:48--  https://raw.githubusercontent.com/karpathy/char-rnn/refs/heads/master/data/tinyshakespeare/input.txt\n",
            "Resolving raw.githubusercontent.com (raw.githubusercontent.com)... 185.199.110.133, 185.199.111.133, 185.199.108.133, ...\n",
            "Connecting to raw.githubusercontent.com (raw.githubusercontent.com)|185.199.110.133|:443... connected.\n",
            "HTTP request sent, awaiting response... 200 OK\n",
            "Length: 1115394 (1.1M) [text/plain]\n",
            "Saving to: ‘input.txt’\n",
            "\n",
            "input.txt           100%[===================>]   1.06M  --.-KB/s    in 0.05s   \n",
            "\n",
            "2025-08-14 09:59:48 (22.6 MB/s) - ‘input.txt’ saved [1115394/1115394]\n",
            "\n"
          ]
        }
      ],
      "source": [
        "!wget https://raw.githubusercontent.com/karpathy/char-rnn/refs/heads/master/data/tinyshakespeare/input.txt"
      ]
    },
    {
      "cell_type": "code",
      "source": [
        "with open('input.txt', 'r', encoding=\"utf-8\") as f:\n",
        "    text = f.read()"
      ],
      "metadata": {
        "id": "qbTGZmhxzsE4"
      },
      "execution_count": 2,
      "outputs": []
    },
    {
      "cell_type": "code",
      "source": [
        "text[:100]"
      ],
      "metadata": {
        "colab": {
          "base_uri": "https://localhost:8080/",
          "height": 36
        },
        "id": "N43VhIWwzy7q",
        "outputId": "b76eac9e-926d-443e-da22-b0bcda9b87cd"
      },
      "execution_count": 3,
      "outputs": [
        {
          "output_type": "execute_result",
          "data": {
            "text/plain": [
              "'First Citizen:\\nBefore we proceed any further, hear me speak.\\n\\nAll:\\nSpeak, speak.\\n\\nFirst Citizen:\\nYou'"
            ],
            "application/vnd.google.colaboratory.intrinsic+json": {
              "type": "string"
            }
          },
          "metadata": {},
          "execution_count": 3
        }
      ]
    },
    {
      "cell_type": "code",
      "source": [
        "chars = sorted(list(set(text)))\n",
        "vocab_size = len(chars)\n",
        "print(''.join(chars))\n",
        "print(vocab_size)"
      ],
      "metadata": {
        "colab": {
          "base_uri": "https://localhost:8080/"
        },
        "id": "-dwInOXkzzs5",
        "outputId": "c8a1efa3-7124-42ea-a532-d102dec3e3c1"
      },
      "execution_count": 4,
      "outputs": [
        {
          "output_type": "stream",
          "name": "stdout",
          "text": [
            "\n",
            " !$&',-.3:;?ABCDEFGHIJKLMNOPQRSTUVWXYZabcdefghijklmnopqrstuvwxyz\n",
            "65\n"
          ]
        }
      ]
    },
    {
      "cell_type": "code",
      "source": [
        "stoi = {s:i for i,s in enumerate(chars)}\n",
        "itos = {i:s for s, i in stoi.items()}\n",
        "encode = lambda s: [stoi[c] for c in s]\n",
        "decode = lambda l: \"\".join([itos[i] for i in l])\n",
        "\n",
        "print(encode(\"Hii\"))\n",
        "print(decode(encode(\"Hii\")))"
      ],
      "metadata": {
        "colab": {
          "base_uri": "https://localhost:8080/"
        },
        "id": "00b0b11Oz7Ck",
        "outputId": "83fdf6e8-d566-4cfd-d71f-f5a1442cc010"
      },
      "execution_count": 5,
      "outputs": [
        {
          "output_type": "stream",
          "name": "stdout",
          "text": [
            "[20, 47, 47]\n",
            "Hii\n"
          ]
        }
      ]
    },
    {
      "cell_type": "code",
      "source": [
        "import torch\n",
        "data = torch.tensor(encode(text), dtype=torch.long)\n",
        "print(data.shape, data.dtype)\n",
        "print(data[:100])"
      ],
      "metadata": {
        "colab": {
          "base_uri": "https://localhost:8080/"
        },
        "id": "8aZlOpG90XO8",
        "outputId": "3ac09ebf-8919-445d-85cd-6d542988bd13"
      },
      "execution_count": 6,
      "outputs": [
        {
          "output_type": "stream",
          "name": "stdout",
          "text": [
            "torch.Size([1115394]) torch.int64\n",
            "tensor([18, 47, 56, 57, 58,  1, 15, 47, 58, 47, 64, 43, 52, 10,  0, 14, 43, 44,\n",
            "        53, 56, 43,  1, 61, 43,  1, 54, 56, 53, 41, 43, 43, 42,  1, 39, 52, 63,\n",
            "         1, 44, 59, 56, 58, 46, 43, 56,  6,  1, 46, 43, 39, 56,  1, 51, 43,  1,\n",
            "        57, 54, 43, 39, 49,  8,  0,  0, 13, 50, 50, 10,  0, 31, 54, 43, 39, 49,\n",
            "         6,  1, 57, 54, 43, 39, 49,  8,  0,  0, 18, 47, 56, 57, 58,  1, 15, 47,\n",
            "        58, 47, 64, 43, 52, 10,  0, 37, 53, 59])\n"
          ]
        }
      ]
    },
    {
      "cell_type": "code",
      "source": [
        "split = int(0.9*len(data))\n",
        "train_data = data[:split]\n",
        "val_data = data[split:]\n",
        "print(len(train_data))\n",
        "print(len(val_data))"
      ],
      "metadata": {
        "colab": {
          "base_uri": "https://localhost:8080/"
        },
        "id": "NoNIpIhf04Lu",
        "outputId": "56b07980-e3c0-459e-e4a3-1b1cdb99021e"
      },
      "execution_count": 7,
      "outputs": [
        {
          "output_type": "stream",
          "name": "stdout",
          "text": [
            "1003854\n",
            "111540\n"
          ]
        }
      ]
    },
    {
      "cell_type": "code",
      "source": [
        "#context length\n",
        "\n",
        "block_size = 8\n",
        "train_data[:block_size+1]"
      ],
      "metadata": {
        "colab": {
          "base_uri": "https://localhost:8080/"
        },
        "id": "FiXWgSi01F8t",
        "outputId": "5a1aaa19-d0dd-410c-c85c-9d9b58bc30f7"
      },
      "execution_count": 8,
      "outputs": [
        {
          "output_type": "execute_result",
          "data": {
            "text/plain": [
              "tensor([18, 47, 56, 57, 58,  1, 15, 47, 58])"
            ]
          },
          "metadata": {},
          "execution_count": 8
        }
      ]
    },
    {
      "cell_type": "code",
      "source": [
        "x = train_data[:block_size]\n",
        "y = train_data[1:block_size+1]\n",
        "\n",
        "for t in range(block_size):\n",
        "    context = x[:t+1]\n",
        "    target = y[t]\n",
        "    print(context, target)"
      ],
      "metadata": {
        "colab": {
          "base_uri": "https://localhost:8080/"
        },
        "id": "KOj5UHbN1Y9v",
        "outputId": "1a9034fe-ef54-4411-b2b4-26712ac6a118"
      },
      "execution_count": 9,
      "outputs": [
        {
          "output_type": "stream",
          "name": "stdout",
          "text": [
            "tensor([18]) tensor(47)\n",
            "tensor([18, 47]) tensor(56)\n",
            "tensor([18, 47, 56]) tensor(57)\n",
            "tensor([18, 47, 56, 57]) tensor(58)\n",
            "tensor([18, 47, 56, 57, 58]) tensor(1)\n",
            "tensor([18, 47, 56, 57, 58,  1]) tensor(15)\n",
            "tensor([18, 47, 56, 57, 58,  1, 15]) tensor(47)\n",
            "tensor([18, 47, 56, 57, 58,  1, 15, 47]) tensor(58)\n"
          ]
        }
      ]
    },
    {
      "cell_type": "code",
      "source": [
        "torch.manual_seed(1337)\n",
        "batch_size = 4\n",
        "block_size = 8\n",
        "\n",
        "def get_batch(split):\n",
        "\n",
        "    data = train_data if split == \"train\" else val_data\n",
        "    ix = torch.randint(len(data) - block_size, (batch_size,))\n",
        "    x = torch.stack([data[i:i+block_size] for i in ix])\n",
        "    y = torch.stack([data[i+1:i+1+block_size] for i in ix])\n",
        "\n",
        "    return x, y\n",
        "\n",
        "x, y = get_batch(\"train\")\n",
        "print(x)\n",
        "print(y)"
      ],
      "metadata": {
        "id": "tM64g1Zr1vpo",
        "colab": {
          "base_uri": "https://localhost:8080/"
        },
        "outputId": "0a64b6c2-93eb-4c96-a9b2-f9eb41f451da"
      },
      "execution_count": 10,
      "outputs": [
        {
          "output_type": "stream",
          "name": "stdout",
          "text": [
            "tensor([[24, 43, 58,  5, 57,  1, 46, 43],\n",
            "        [44, 53, 56,  1, 58, 46, 39, 58],\n",
            "        [52, 58,  1, 58, 46, 39, 58,  1],\n",
            "        [25, 17, 27, 10,  0, 21,  1, 54]])\n",
            "tensor([[43, 58,  5, 57,  1, 46, 43, 39],\n",
            "        [53, 56,  1, 58, 46, 39, 58,  1],\n",
            "        [58,  1, 58, 46, 39, 58,  1, 46],\n",
            "        [17, 27, 10,  0, 21,  1, 54, 39]])\n"
          ]
        }
      ]
    },
    {
      "cell_type": "code",
      "source": [
        "import torch\n",
        "import torch.nn as nn\n",
        "import torch.nn.functional as F\n",
        "\n",
        "class BigramLanguageModel(nn.Module):\n",
        "\n",
        "    def __init__(self, vocab_size):\n",
        "        super().__init__()\n",
        "\n",
        "        self.token_embedding_table = nn.Embedding(num_embeddings = vocab_size, embedding_dim = vocab_size)\n",
        "\n",
        "    def forward(self, idx, targets=None):\n",
        "        logits = self.token_embedding_table(idx)\n",
        "\n",
        "        if targets == None:\n",
        "            loss = None\n",
        "        else:\n",
        "            B, T, C = logits.shape\n",
        "\n",
        "            logits = logits.view(B*T, C)\n",
        "            targets = targets.view(-1)\n",
        "            loss = F.cross_entropy(logits, targets)\n",
        "        return logits, loss\n",
        "\n",
        "    def generate(self, idx, max_new_tokens):\n",
        "        for _ in range(max_new_tokens):\n",
        "            logits, loss = self(idx)\n",
        "            # last time step for each batch and include all embeddings\n",
        "            logits = logits[:, -1, :]\n",
        "\n",
        "            probabilities = F.softmax(logits, dim=1)\n",
        "            # (B, 1)\n",
        "            next_idx = torch.multinomial(probabilities, num_samples=1)\n",
        "            # (B, T+1)\n",
        "            idx = torch.cat((idx, next_idx), dim=1)\n",
        "        return idx\n",
        "\n",
        "m = BigramLanguageModel(vocab_size)\n",
        "out, loss = m(x, y)\n",
        "print(out.shape)\n",
        "print(out)\n",
        "\n",
        "print(decode(m.generate(torch.zeros((1,1), dtype=torch.long), max_new_tokens=100)[0].tolist()))"
      ],
      "metadata": {
        "colab": {
          "base_uri": "https://localhost:8080/"
        },
        "id": "u4M6EPHBoMlu",
        "outputId": "b06d7d87-c408-4474-f053-fd1df31094b4"
      },
      "execution_count": 11,
      "outputs": [
        {
          "output_type": "stream",
          "name": "stdout",
          "text": [
            "torch.Size([32, 65])\n",
            "tensor([[ 1.6347, -0.0518,  0.4996,  ...,  0.2432,  1.1519,  0.9950],\n",
            "        [ 0.3418, -0.9276,  1.2381,  ...,  1.5018, -0.5266,  0.2354],\n",
            "        [ 0.1479, -0.4333,  0.5203,  ...,  0.3302,  1.5454,  1.3778],\n",
            "        ...,\n",
            "        [-0.5693, -0.0735,  0.7743,  ..., -0.0815, -1.1445, -0.0623],\n",
            "        [ 0.4658, -0.2573, -1.0673,  ...,  1.2439,  1.3471,  1.6910],\n",
            "        [-0.4553,  0.0139,  0.9309,  ...,  0.0290, -0.7568,  0.8701]],\n",
            "       grad_fn=<ViewBackward0>)\n",
            "\n",
            "l-QYjt'CL?jLDuQcLzy'RIo;'KdhpV\n",
            "vLixa,nswYZwLEPS'ptIZqOZJ$CA$zy-QTkeMk x.gQSFCLg!iW3fO!3DGXAqTsq3pdgq\n"
          ]
        }
      ]
    },
    {
      "cell_type": "code",
      "source": [
        "optimizer = torch.optim.AdamW(m.parameters(), lr=1e-3)"
      ],
      "metadata": {
        "id": "3qsOfqfxo86l"
      },
      "execution_count": 12,
      "outputs": []
    },
    {
      "cell_type": "code",
      "source": [
        "batch_size = 32\n",
        "\n",
        "for steps in range(5000):\n",
        "    xb,yb = get_batch('train')\n",
        "\n",
        "    logits, loss = m(xb,yb)\n",
        "\n",
        "    optimizer.zero_grad(set_to_none=True)\n",
        "    loss.backward()\n",
        "    optimizer.step()\n",
        "\n",
        "print(loss.item())"
      ],
      "metadata": {
        "colab": {
          "base_uri": "https://localhost:8080/"
        },
        "id": "2K2DOnUlrDg0",
        "outputId": "a438d093-6d95-42d9-85a2-42ddd2eaaf65"
      },
      "execution_count": 13,
      "outputs": [
        {
          "output_type": "stream",
          "name": "stdout",
          "text": [
            "2.5904765129089355\n"
          ]
        }
      ]
    },
    {
      "cell_type": "code",
      "source": [
        "print(decode(m.generate(torch.zeros((1,1), dtype=torch.long), max_new_tokens=1000)[0].tolist()))"
      ],
      "metadata": {
        "colab": {
          "base_uri": "https://localhost:8080/"
        },
        "id": "qMxS4jlAuH80",
        "outputId": "7c75eb8a-c681-48b6-ede9-a52ec464a107"
      },
      "execution_count": 14,
      "outputs": [
        {
          "output_type": "stream",
          "name": "stdout",
          "text": [
            "\n",
            "AnzLLOjad ws amangano s nd TINTI zXave anlfedo cor be:ghere\n",
            "D:\n",
            "IO, n!qXDYd inks cerVis benes'sowr wnof pre, hairal.\n",
            "Tir W:\n",
            "Ano u\n",
            "Bue;BOgfatho rend thich,\n",
            "The tTorak,\n",
            "\n",
            "D:\n",
            "GHisok R.\n",
            "Jeveauee! ce,\n",
            "OMA::'\n",
            "t.\n",
            "HELEThRird maseestindovive wat boue nodgh flle, mOf \n",
            "\n",
            "SCarXto An twl;thind d me sesete gksow'DX'llaronte\n",
            "\n",
            "HEThecarmoar, file to he bis wllagGr O g.oamacl off nrop'twindg,\n",
            "WS trnen t mllel $Lupzy iBOFL$KENor-fo ed dONus s are th, al ent I s l:\n",
            "E-HEThond\n",
            "Tge henJe long bo ave ttheKar f : t\n",
            "Y;-fe m blqxp;t;the.Ren illd b.'t Qght tthpe,\n",
            "CEN:\n",
            "FLOfaind Rl, An, WS:OUk,e m?\n",
            "\n",
            "OLy iow yous\n",
            "Youtiveas t fye tea;\n",
            "Fgs kGPMllort'Y:\n",
            "Bexan t ber is e tle?Ty osWDothou d a atororetheang nS:\n",
            "ARCAses inowifowe\n",
            "'thin ICA,\n",
            "CCFlformymsas twhatl fo the y wey youe.\n",
            "O:urmerzio, or m, stlly il, illled tthereSAnce cesed me n.\n",
            "TfaRGLO:\n",
            "Son tyJee garavensty d .\n",
            "K:um&zXENTESers ip'le,Of s mave, pl as feARS:HENINC pes:\n",
            "S:\n",
            "GI tearor-aks de\n",
            "FRO, woCIs Yeaitst h lldok h g br t 'thenaroled.Bo'-ce pt, ve!\n",
            "Rak theto ty ond \n"
          ]
        }
      ]
    },
    {
      "cell_type": "code",
      "source": [
        "eval_iters = 200\n",
        "@torch.no_grad()\n",
        "def estimate_loss():\n",
        "    out = {}\n",
        "    m.eval()\n",
        "    for split in [\"train\", \"val\"]:\n",
        "        losses = torch.zeros(eval_iters)\n",
        "        for k in range(eval_iters):\n",
        "            xb, yb = get_batch(split)\n",
        "            logits, loss = m(xb, yb)\n",
        "            losses[k] = loss.item()\n",
        "        out[split] = losses.mean()\n",
        "    m.train()\n",
        "    return out\n",
        "estimate_loss()"
      ],
      "metadata": {
        "colab": {
          "base_uri": "https://localhost:8080/"
        },
        "id": "JWurTw1mujpA",
        "outputId": "51865eb6-dcf5-4e2f-de55-0f4515299d90"
      },
      "execution_count": 15,
      "outputs": [
        {
          "output_type": "execute_result",
          "data": {
            "text/plain": [
              "{'train': tensor(2.5633), 'val': tensor(2.5757)}"
            ]
          },
          "metadata": {},
          "execution_count": 15
        }
      ]
    },
    {
      "cell_type": "markdown",
      "source": [
        "## Mathematical trick in self-attention!\n",
        "\n",
        "- have to average the logits in the time dim 0..t for logit t\n"
      ],
      "metadata": {
        "id": "ON796oN7wS5g"
      }
    },
    {
      "cell_type": "code",
      "source": [
        "B, T, C = 4, 8, 2\n",
        "x = torch.randn(B,T,C)"
      ],
      "metadata": {
        "id": "_dUS8nJvvWiK"
      },
      "execution_count": 16,
      "outputs": []
    },
    {
      "cell_type": "code",
      "source": [
        "div = torch.tril(torch.ones(T,T))\n",
        "div /= div.sum(dim=1, keepdim=True)\n",
        "xbow = div @ x"
      ],
      "metadata": {
        "id": "qPtTXEaowgzX"
      },
      "execution_count": 17,
      "outputs": []
    },
    {
      "cell_type": "code",
      "source": [
        "div"
      ],
      "metadata": {
        "id": "w_xjzMN0wyTa",
        "colab": {
          "base_uri": "https://localhost:8080/"
        },
        "outputId": "e06a13ff-ae5f-492c-c2db-d9a4c10c5d90"
      },
      "execution_count": 18,
      "outputs": [
        {
          "output_type": "execute_result",
          "data": {
            "text/plain": [
              "tensor([[1.0000, 0.0000, 0.0000, 0.0000, 0.0000, 0.0000, 0.0000, 0.0000],\n",
              "        [0.5000, 0.5000, 0.0000, 0.0000, 0.0000, 0.0000, 0.0000, 0.0000],\n",
              "        [0.3333, 0.3333, 0.3333, 0.0000, 0.0000, 0.0000, 0.0000, 0.0000],\n",
              "        [0.2500, 0.2500, 0.2500, 0.2500, 0.0000, 0.0000, 0.0000, 0.0000],\n",
              "        [0.2000, 0.2000, 0.2000, 0.2000, 0.2000, 0.0000, 0.0000, 0.0000],\n",
              "        [0.1667, 0.1667, 0.1667, 0.1667, 0.1667, 0.1667, 0.0000, 0.0000],\n",
              "        [0.1429, 0.1429, 0.1429, 0.1429, 0.1429, 0.1429, 0.1429, 0.0000],\n",
              "        [0.1250, 0.1250, 0.1250, 0.1250, 0.1250, 0.1250, 0.1250, 0.1250]])"
            ]
          },
          "metadata": {},
          "execution_count": 18
        }
      ]
    },
    {
      "cell_type": "code",
      "source": [
        "x[0], xbow[0]"
      ],
      "metadata": {
        "id": "tPV5L8ePxMF4",
        "colab": {
          "base_uri": "https://localhost:8080/"
        },
        "outputId": "f3a8a59e-e82e-4b9e-a9cb-109bd79b64fa"
      },
      "execution_count": 19,
      "outputs": [
        {
          "output_type": "execute_result",
          "data": {
            "text/plain": [
              "(tensor([[ 0.5438,  0.8303],\n",
              "         [ 0.2363,  0.3804],\n",
              "         [ 0.2687,  1.9010],\n",
              "         [ 2.5304, -0.8176],\n",
              "         [-0.8352, -0.0982],\n",
              "         [-0.3931, -0.8298],\n",
              "         [-0.8375,  0.8008],\n",
              "         [-0.2700,  0.7297]]),\n",
              " tensor([[0.5438, 0.8303],\n",
              "         [0.3901, 0.6053],\n",
              "         [0.3496, 1.0372],\n",
              "         [0.8948, 0.5735],\n",
              "         [0.5488, 0.4392],\n",
              "         [0.3918, 0.2277],\n",
              "         [0.2162, 0.3096],\n",
              "         [0.1554, 0.3621]]))"
            ]
          },
          "metadata": {},
          "execution_count": 19
        }
      ]
    },
    {
      "cell_type": "markdown",
      "source": [
        "### using softmax(infinity)\n",
        "\n",
        "hint: e^-infinity = 0, and e^0 = 1"
      ],
      "metadata": {
        "id": "YXm70ToFyUmR"
      }
    },
    {
      "cell_type": "code",
      "source": [
        "tril = torch.tril(torch.ones(T, T))\n",
        "wei = torch.zeros((T, T))\n",
        "wei = wei.masked_fill(tril==0, float('-inf'))\n",
        "wei = F.softmax(wei,dim=1)\n",
        "xbow3 = wei @ x\n",
        "wei"
      ],
      "metadata": {
        "id": "35Sr49cCx0zp",
        "colab": {
          "base_uri": "https://localhost:8080/"
        },
        "outputId": "2f5d9de6-b94e-4a1d-8d05-7017f06b1d84"
      },
      "execution_count": 20,
      "outputs": [
        {
          "output_type": "execute_result",
          "data": {
            "text/plain": [
              "tensor([[1.0000, 0.0000, 0.0000, 0.0000, 0.0000, 0.0000, 0.0000, 0.0000],\n",
              "        [0.5000, 0.5000, 0.0000, 0.0000, 0.0000, 0.0000, 0.0000, 0.0000],\n",
              "        [0.3333, 0.3333, 0.3333, 0.0000, 0.0000, 0.0000, 0.0000, 0.0000],\n",
              "        [0.2500, 0.2500, 0.2500, 0.2500, 0.0000, 0.0000, 0.0000, 0.0000],\n",
              "        [0.2000, 0.2000, 0.2000, 0.2000, 0.2000, 0.0000, 0.0000, 0.0000],\n",
              "        [0.1667, 0.1667, 0.1667, 0.1667, 0.1667, 0.1667, 0.0000, 0.0000],\n",
              "        [0.1429, 0.1429, 0.1429, 0.1429, 0.1429, 0.1429, 0.1429, 0.0000],\n",
              "        [0.1250, 0.1250, 0.1250, 0.1250, 0.1250, 0.1250, 0.1250, 0.1250]])"
            ]
          },
          "metadata": {},
          "execution_count": 20
        }
      ]
    },
    {
      "cell_type": "markdown",
      "source": [
        "## A bit about attention\n",
        "\n",
        "- Attention is just a mechanism that adds a set of values with a set of weights. The approach above takes the weights to be equally distributed for the node itself and the nodes before, and zero for all nodes after.\n",
        "\n",
        "- But, the current node might find more of what it needs from some nodes rather than others; it won't necessarily be equally distributed.\n",
        "\n",
        "- Paper proposes an attention function where each node (token) at time T emits a query vector that contains the information that the current node is looking for, and a key vector that contains the information that the current node has within itself.\n",
        "\n",
        "- This query vector and key vector get multiplied together to get the \"affinities\" between what the nodes are looking for and what the nodes have (T, T dimension, so each combination)\n",
        "\n",
        "- Instead of taking the average of each node, we perform softmax on this new matrix. Now, instead of multiplying the \"original\" values $x$, we multiply it with the \"value\" matrix, which is different for each attention \"head\"\n",
        "\n",
        "- As each head has a different purpose, it will have a different value to emit in each head, a different value that it posesses that makes more sense for that particular head!"
      ],
      "metadata": {
        "id": "S8MVAHSu5MES"
      }
    },
    {
      "cell_type": "code",
      "source": [
        "head_size = 16\n",
        "Q = nn.Linear(C, head_size, bias=False)\n",
        "K = nn.Linear(C, head_size, bias=False)\n",
        "V = nn.Linear(C, head_size, bias=False)\n",
        "\n",
        "queries = Q(x)\n",
        "keys = K(x)\n",
        "\n",
        "print(queries.shape)\n",
        "print(keys.shape)"
      ],
      "metadata": {
        "id": "Eq5w5Pgyyxr9",
        "colab": {
          "base_uri": "https://localhost:8080/"
        },
        "outputId": "69d19407-6e65-496d-8de6-28ff5447384c"
      },
      "execution_count": 21,
      "outputs": [
        {
          "output_type": "stream",
          "name": "stdout",
          "text": [
            "torch.Size([4, 8, 16])\n",
            "torch.Size([4, 8, 16])\n"
          ]
        }
      ]
    },
    {
      "cell_type": "code",
      "source": [
        "T"
      ],
      "metadata": {
        "colab": {
          "base_uri": "https://localhost:8080/"
        },
        "id": "yxyAnG2zEI5B",
        "outputId": "9264aa71-9496-417e-9015-27451a27ff29"
      },
      "execution_count": 22,
      "outputs": [
        {
          "output_type": "execute_result",
          "data": {
            "text/plain": [
              "8"
            ]
          },
          "metadata": {},
          "execution_count": 22
        }
      ]
    },
    {
      "cell_type": "code",
      "source": [
        "tril = torch.tril(torch.ones(T, T))\n",
        "wei = keys @ queries.transpose(-2, -1) # (4, 8, 8)\n",
        "# wei = torch.zeros((T, T))\n",
        "wei1 = wei.masked_fill(tril==0, float('-inf'))\n",
        "wei1 = F.softmax(wei1, dim=1)\n",
        "wei = F.softmax(wei,dim=1)\n",
        "\n",
        "values = V(x)\n",
        "\n",
        "xbow4 = wei @ values\n",
        "xbow5 = wei1 @ values\n",
        "print(wei.shape)\n",
        "print(xbow4.shape)"
      ],
      "metadata": {
        "colab": {
          "base_uri": "https://localhost:8080/"
        },
        "id": "ud8SI2HI8lXm",
        "outputId": "33321903-fc8c-49f5-f5f2-9c75f435f503"
      },
      "execution_count": 23,
      "outputs": [
        {
          "output_type": "stream",
          "name": "stdout",
          "text": [
            "torch.Size([4, 8, 8])\n",
            "torch.Size([4, 8, 16])\n"
          ]
        }
      ]
    },
    {
      "cell_type": "code",
      "source": [
        "wei[0], xbow4[0]"
      ],
      "metadata": {
        "colab": {
          "base_uri": "https://localhost:8080/"
        },
        "id": "g2GSL_Z684KG",
        "outputId": "3b13354c-f726-4ccc-e96b-c0e8e1f29ee8"
      },
      "execution_count": 24,
      "outputs": [
        {
          "output_type": "execute_result",
          "data": {
            "text/plain": [
              "(tensor([[1.5395e-01, 1.4421e-01, 1.1343e-01, 9.5902e-02, 4.4569e-02, 8.0656e-02,\n",
              "          4.1523e-02, 9.1523e-02],\n",
              "         [1.0330e-01, 1.2122e-01, 9.1733e-02, 1.5713e-02, 8.1273e-02, 1.0787e-01,\n",
              "          7.5153e-02, 1.1028e-01],\n",
              "         [3.4110e-01, 2.0520e-01, 2.8693e-01, 7.2422e-01, 2.0038e-02, 4.1794e-02,\n",
              "          2.5723e-02, 9.2891e-02],\n",
              "         [5.7472e-02, 9.2028e-02, 1.4103e-02, 1.4784e-01, 5.7326e-02, 2.1030e-01,\n",
              "          2.0382e-02, 4.3891e-02],\n",
              "         [6.0308e-02, 9.6383e-02, 1.0005e-01, 4.2413e-04, 2.4542e-01, 1.5076e-01,\n",
              "          2.8161e-01, 1.8877e-01],\n",
              "         [3.6409e-02, 7.6905e-02, 4.7700e-02, 1.8961e-04, 3.6141e-01, 2.3420e-01,\n",
              "          3.0864e-01, 1.6644e-01],\n",
              "         [1.2180e-01, 1.3140e-01, 1.9813e-01, 3.8900e-03, 1.0870e-01, 8.6129e-02,\n",
              "          1.5240e-01, 1.7223e-01],\n",
              "         [1.2566e-01, 1.3266e-01, 1.4792e-01, 1.1817e-02, 8.1271e-02, 8.8295e-02,\n",
              "          9.4568e-02, 1.3398e-01]], grad_fn=<SelectBackward0>),\n",
              " tensor([[-1.2461e-01, -2.5957e-01,  2.9516e-01, -9.7900e-02,  1.9607e-02,\n",
              "          -8.1483e-03,  2.2593e-01,  2.2016e-01,  1.1155e-01, -1.2771e-01,\n",
              "           1.0363e-01,  1.0154e-01,  2.3157e-01,  1.7557e-01,  4.7820e-02,\n",
              "          -4.2774e-02],\n",
              "         [-1.7781e-01, -6.3552e-02,  2.2270e-01,  1.1476e-01,  5.5556e-02,\n",
              "          -3.2504e-03,  1.0953e-01,  2.6355e-02,  1.9003e-01,  9.2233e-02,\n",
              "           1.3843e-01,  1.3350e-01,  9.0027e-02,  2.8737e-02,  2.4307e-01,\n",
              "          -4.7459e-02],\n",
              "         [ 2.0371e-01, -1.3613e+00,  6.7251e-01, -1.3208e+00, -1.9256e-01,\n",
              "          -3.5428e-02,  8.6942e-01,  1.3150e+00, -3.6194e-01, -1.3885e+00,\n",
              "          -1.1453e-01, -9.9772e-02,  1.0205e+00,  1.0037e+00, -1.0957e+00,\n",
              "          -9.0761e-03],\n",
              "         [ 1.2213e-01, -1.2431e-01, -4.4317e-02, -2.1811e-01, -5.3256e-02,\n",
              "          -2.3528e-03,  4.1290e-02,  1.3944e-01, -1.4741e-01, -2.1360e-01,\n",
              "          -8.9922e-02, -8.5468e-02,  6.9765e-02,  1.0167e-01, -2.6266e-01,\n",
              "           2.5167e-02],\n",
              "         [-3.3202e-01,  1.4427e-01,  2.4576e-01,  4.3235e-01,  1.2738e-01,\n",
              "           1.1090e-03,  2.2108e-02, -1.9743e-01,  3.8129e-01,  4.0745e-01,\n",
              "           2.5042e-01,  2.3954e-01, -3.7917e-02, -1.3641e-01,  6.0373e-01,\n",
              "          -7.6988e-02],\n",
              "         [-2.6484e-01,  3.1072e-01,  6.9489e-02,  5.0712e-01,  1.1919e-01,\n",
              "           6.2256e-03, -1.1809e-01, -3.4099e-01,  3.2382e-01,  5.0001e-01,\n",
              "           1.9374e-01,  1.8382e-01, -1.8353e-01, -2.5022e-01,  5.9306e-01,\n",
              "          -5.2755e-02],\n",
              "         [-3.6985e-01, -1.1316e-01,  4.5091e-01,  2.5449e-01,  1.1727e-01,\n",
              "          -6.2414e-03,  2.1462e-01,  3.6967e-02,  3.9719e-01,  2.0888e-01,\n",
              "           2.8737e-01,  2.7699e-01,  1.7235e-01,  4.6017e-02,  5.1645e-01,\n",
              "          -9.7876e-02],\n",
              "         [-2.6754e-01, -1.1873e-01,  3.5003e-01,  1.5350e-01,  8.1515e-02,\n",
              "          -5.5216e-03,  1.8083e-01,  6.1333e-02,  2.8360e-01,  1.1811e-01,\n",
              "           2.0900e-01,  2.0173e-01,  1.5357e-01,  5.9945e-02,  3.5257e-01,\n",
              "          -7.2432e-02]], grad_fn=<SelectBackward0>))"
            ]
          },
          "metadata": {},
          "execution_count": 24
        }
      ]
    },
    {
      "cell_type": "code",
      "source": [
        "wei1[0], xbow5[0]"
      ],
      "metadata": {
        "colab": {
          "base_uri": "https://localhost:8080/"
        },
        "id": "dRfXBtexz4NI",
        "outputId": "c864a2cb-fcf2-49a5-8e3d-9486a8f07a4b"
      },
      "execution_count": 25,
      "outputs": [
        {
          "output_type": "execute_result",
          "data": {
            "text/plain": [
              "(tensor([[0.1540, 0.0000, 0.0000, 0.0000, 0.0000, 0.0000, 0.0000, 0.0000],\n",
              "         [0.1033, 0.1417, 0.0000, 0.0000, 0.0000, 0.0000, 0.0000, 0.0000],\n",
              "         [0.3411, 0.2398, 0.3610, 0.0000, 0.0000, 0.0000, 0.0000, 0.0000],\n",
              "         [0.0575, 0.1075, 0.0177, 0.9006, 0.0000, 0.0000, 0.0000, 0.0000],\n",
              "         [0.0603, 0.1126, 0.1259, 0.0026, 0.3080, 0.0000, 0.0000, 0.0000],\n",
              "         [0.0364, 0.0899, 0.0600, 0.0012, 0.4536, 0.5731, 0.0000, 0.0000],\n",
              "         [0.1218, 0.1535, 0.2493, 0.0237, 0.1364, 0.2108, 0.6171, 0.0000],\n",
              "         [0.1257, 0.1550, 0.1861, 0.0720, 0.1020, 0.2161, 0.3829, 1.0000]],\n",
              "        grad_fn=<SelectBackward0>),\n",
              " tensor([[-4.8035e-02, -8.7536e-02,  1.0568e-01, -2.7354e-02,  8.6838e-03,\n",
              "          -2.7992e-03,  7.8406e-02,  7.3124e-02,  4.4261e-02, -3.8028e-02,\n",
              "           3.9561e-02,  3.8676e-02,  7.9456e-02,  5.8628e-02,  2.5569e-02,\n",
              "          -1.5935e-02],\n",
              "         [-5.2818e-02, -9.4532e-02,  1.1509e-01, -2.8652e-02,  9.7027e-03,\n",
              "          -3.0309e-03,  8.5020e-02,  7.8792e-02,  4.8841e-02, -4.0278e-02,\n",
              "           4.3447e-02,  4.2462e-02,  8.6020e-02,  6.3223e-02,  2.9094e-02,\n",
              "          -1.7445e-02],\n",
              "         [-4.6512e-01, -5.0990e-01,  8.0484e-01,  1.5198e-02,  1.1444e-01,\n",
              "          -1.7885e-02,  5.2492e-01,  3.9128e-01,  4.6254e-01, -6.6135e-02,\n",
              "           3.7269e-01,  3.6197e-01,  5.0476e-01,  3.2358e-01,  4.4002e-01,\n",
              "          -1.3935e-01],\n",
              "         [ 7.4398e-01, -1.2492e+00,  4.8198e-02, -1.7366e+00, -3.6865e-01,\n",
              "          -2.7762e-02,  5.9278e-01,  1.3109e+00, -9.4750e-01, -1.7412e+00,\n",
              "          -5.3268e-01, -5.0242e-01,  8.1041e-01,  9.7493e-01, -1.8804e+00,\n",
              "           1.3155e-01],\n",
              "         [-1.7890e-01,  1.0095e-02,  1.7618e-01,  1.7687e-01,  6.2554e-02,\n",
              "          -1.2491e-03,  5.8839e-02, -4.2931e-02,  1.9865e-01,  1.5903e-01,\n",
              "           1.3701e-01,  1.3158e-01,  3.2570e-02, -2.4605e-02,  2.8676e-01,\n",
              "          -4.4476e-02],\n",
              "         [ 6.8900e-02,  4.2921e-01, -3.4800e-01,  2.9106e-01,  1.4839e-02,\n",
              "           1.2305e-02, -3.2312e-01, -3.8971e-01, -3.2949e-02,  3.2618e-01,\n",
              "          -6.6076e-02, -6.6734e-02, -3.5189e-01, -3.0359e-01,  1.3636e-01,\n",
              "           3.6290e-02],\n",
              "         [-5.4904e-01,  3.1606e-02,  5.4028e-01,  5.4331e-01,  1.9203e-01,\n",
              "          -3.8165e-03,  1.8014e-01, -1.3234e-01,  6.0970e-01,  4.8862e-01,\n",
              "           4.2046e-01,  4.0379e-01,  9.9467e-02, -7.5963e-02,  8.8041e-01,\n",
              "          -1.3647e-01],\n",
              "         [-7.2979e-01, -1.1542e-01,  8.1998e-01,  5.9161e-01,  2.4110e-01,\n",
              "          -9.3709e-03,  3.4866e-01, -2.8234e-02,  7.9459e-01,  5.0865e-01,\n",
              "           5.6372e-01,  5.4256e-01,  2.5557e-01,  1.2831e-02,  1.0805e+00,\n",
              "          -1.8836e-01]], grad_fn=<SelectBackward0>))"
            ]
          },
          "metadata": {},
          "execution_count": 25
        }
      ]
    },
    {
      "cell_type": "markdown",
      "source": [
        "there's a little problem tho"
      ],
      "metadata": {
        "id": "dKahmYxO9LWI"
      }
    },
    {
      "cell_type": "code",
      "source": [
        "query = torch.randn((4, 8, 16))\n",
        "key = torch.randn((4, 8, 16))\n",
        "\n",
        "print(query.var())\n",
        "print(key.var())"
      ],
      "metadata": {
        "colab": {
          "base_uri": "https://localhost:8080/"
        },
        "id": "7MviIC_B85ZP",
        "outputId": "b884bc9f-d550-4e54-dfb4-7f40b689772e"
      },
      "execution_count": 26,
      "outputs": [
        {
          "output_type": "stream",
          "name": "stdout",
          "text": [
            "tensor(0.9244)\n",
            "tensor(0.8984)\n"
          ]
        }
      ]
    },
    {
      "cell_type": "code",
      "source": [
        "qk = key @ query.transpose(-2, -1)\n",
        "print(qk.var())"
      ],
      "metadata": {
        "colab": {
          "base_uri": "https://localhost:8080/"
        },
        "id": "By5GzZm79Vob",
        "outputId": "521a2d61-43f0-4917-a7d5-920f3870c619"
      },
      "execution_count": 27,
      "outputs": [
        {
          "output_type": "stream",
          "name": "stdout",
          "text": [
            "tensor(12.8625)\n"
          ]
        }
      ]
    },
    {
      "cell_type": "markdown",
      "source": [
        "HUGE difference in variance, and when variance is high, means the difference between the values is huge. Since we'll apply softmax on this, if the values are very imbalanced, there'll be a huge imbalance in the weight assigned to other nodes, esp when the network is still untrained.\n",
        "\n",
        "The paper proposes dividing the multiplication by the square root of head size, let's try it."
      ],
      "metadata": {
        "id": "G4-T_jSe9cfm"
      }
    },
    {
      "cell_type": "code",
      "source": [
        "qk = key @ query.transpose(-2, -1) * head_size**-0.5\n",
        "print(qk.var())"
      ],
      "metadata": {
        "colab": {
          "base_uri": "https://localhost:8080/"
        },
        "id": "_abuJIVD9b2-",
        "outputId": "08ebb45f-6320-4e5f-a373-0796c8f2b64d"
      },
      "execution_count": 28,
      "outputs": [
        {
          "output_type": "stream",
          "name": "stdout",
          "text": [
            "tensor(0.8039)\n"
          ]
        }
      ]
    },
    {
      "cell_type": "markdown",
      "source": [
        "looks good"
      ],
      "metadata": {
        "id": "R1-WGUgd-B8J"
      }
    },
    {
      "cell_type": "code",
      "source": [
        "# num of attn heads running in parallel\n",
        "n_heads = 8\n",
        "# embedding size\n",
        "# all layer final outputs must match 256\n",
        "n_embd = 256\n",
        "\n",
        "# individual heads are concat at the end\n",
        "head_size = n_embd // n_heads\n",
        "\n",
        "# size of ffn hidden layer\n",
        "hidden_size = 512\n",
        "\n",
        "# total number of stacked transformer blocks\n",
        "n_blocks = 4"
      ],
      "metadata": {
        "id": "5MKXYQYFDYN0"
      },
      "execution_count": 94,
      "outputs": []
    },
    {
      "cell_type": "code",
      "source": [
        "class SingleAttentionHead(nn.Module):\n",
        "\n",
        "    def __init__(self):\n",
        "        super().__init__()\n",
        "        self.Q = nn.Linear(n_embd, head_size, bias=False)\n",
        "        self.K = nn.Linear(n_embd, head_size, bias=False)\n",
        "        self.V = nn.Linear(n_embd, head_size, bias=False)\n",
        "        self.register_buffer('tril', torch.tril(torch.ones(block_size, block_size)))\n",
        "\n",
        "    def forward(self, x):\n",
        "        B, T, C = x.shape\n",
        "        # (B, T, head_size)\n",
        "        queries = self.Q(x)\n",
        "        keys = self.K(x)\n",
        "        values = self.V(x)\n",
        "\n",
        "        wei = keys @ queries.transpose(-2, -1) * head_size ** -0.5\n",
        "        wei = wei.masked_fill(self.tril == 0, float('-inf'))\n",
        "        wei = F.softmax(wei, dim=-1)\n",
        "\n",
        "        x = wei @ values\n",
        "        return x\n",
        "\n",
        "class FFN(nn.Module):\n",
        "\n",
        "    def __init__(self, in_features, out_features, bias=True):\n",
        "        super().__init__()\n",
        "        self.layers = nn.Sequential(\n",
        "            # op: (B, T, hidden_size)\n",
        "            nn.Linear(in_features, hidden_size, bias=bias),\n",
        "            nn.ReLU(),\n",
        "            # op: (B, T, n_embd)\n",
        "            nn.Linear(hidden_size, out_features, bias=bias),\n",
        "            nn.LayerNorm(out_features)\n",
        "        )\n",
        "\n",
        "    def forward(self, x):\n",
        "        out = x + self.layers(x)\n",
        "        return out"
      ],
      "metadata": {
        "id": "s2jpLZClDhIw"
      },
      "execution_count": 95,
      "outputs": []
    },
    {
      "cell_type": "code",
      "source": [
        "class MultiAttentionBlock(nn.Module):\n",
        "\n",
        "    def __init__(self):\n",
        "        super().__init__()\n",
        "        self.heads = [SingleAttentionHead() for _ in range(n_heads)]\n",
        "\n",
        "        self.linear = nn.Linear(n_embd, n_embd)\n",
        "\n",
        "        self.layer_norm = nn.LayerNorm(n_embd)\n",
        "\n",
        "    def forward(self, x):\n",
        "        # each op: (B, T, head_size)\n",
        "        act = [head(x) for head in self.heads]\n",
        "        # op: (B, T, n_embd)\n",
        "        out = x + self.layer_norm(self.linear(torch.concat(act, dim=-1)))\n",
        "\n",
        "        return out\n",
        "\n",
        "class DecoderBlock(nn.Module):\n",
        "    def __init__(self):\n",
        "        super().__init__()\n",
        "\n",
        "        self.multi_attention_block = MultiAttentionBlock()\n",
        "        self.ffn = FFN(n_embd, n_embd)\n",
        "\n",
        "    def forward(self, x):\n",
        "        x = self.ffn(self.multi_attention_block(x))\n",
        "\n",
        "        return x"
      ],
      "metadata": {
        "id": "ple-0ccT-t8z"
      },
      "execution_count": 97,
      "outputs": []
    },
    {
      "cell_type": "code",
      "source": [
        "class Decoder(nn.Module):\n",
        "\n",
        "    def __init__(self):\n",
        "        super().__init__()\n",
        "\n",
        "        self.token_embedding_table = nn.Embedding(num_embeddings=vocab_size, embedding_dim=n_embd)\n",
        "        self.position_embedding_table = nn.Embedding(num_embeddings=block_size, embedding_dim=n_embd)\n",
        "        # self.lm_head = SingleAttentionHead(head_size)\n",
        "        # self.ffn = FFN(head_size, hidden_size)\n",
        "        # self.attention_block = SingleAttentionBlock(head_size, hidden_size)\n",
        "\n",
        "        # inp: (B, T, n_embd)\n",
        "        # op:  (B, T, n_embd)\n",
        "        # self.multi_head_attn = MultiAttentionBlock()\n",
        "\n",
        "        # self.ffn = FFN(n_embd, n_embd)\n",
        "        # pairs of multi head self attn blocks + ffn in sequence\n",
        "        self.decoder_block = nn.Sequential(*[DecoderBlock() for _ in range(n_blocks)])\n",
        "\n",
        "        self.nn = nn.Linear(n_embd, vocab_size)\n",
        "\n",
        "    def forward(self, idx, targets=None):\n",
        "        B, T = idx.shape\n",
        "\n",
        "        tok_embd = self.token_embedding_table(idx)\n",
        "        pos_embd = self.position_embedding_table(torch.arange(T))\n",
        "\n",
        "        x = tok_embd + pos_embd\n",
        "        # x = self.lm_head(x)\n",
        "        # x = self.ffn(x)\n",
        "        # x = self.attention_block(x)\n",
        "        # residual connections moved to their respective classes\n",
        "        x = self.decoder_block(x)\n",
        "\n",
        "        logits = self.nn(x)\n",
        "\n",
        "        if targets == None:\n",
        "            loss = None\n",
        "        else:\n",
        "            B, T, C = logits.shape\n",
        "\n",
        "            logits = logits.view(B*T, C)\n",
        "            targets = targets.view(-1)\n",
        "            loss = F.cross_entropy(logits, targets)\n",
        "\n",
        "        return logits, loss\n",
        "\n",
        "    def generate(self, idx, max_new_tokens):\n",
        "        for _ in range(max_new_tokens):\n",
        "            # pick only last 8 tokens for next token\n",
        "            idx_next = idx[:, -block_size:]\n",
        "            logits, loss = self(idx_next)\n",
        "            # last time step for each batch and include all embeddings\n",
        "            logits = logits[:, -1, :]\n",
        "\n",
        "            probabilities = F.softmax(logits, dim=1)\n",
        "            # (B, 1)\n",
        "            next_idx = torch.multinomial(probabilities, num_samples=1)\n",
        "            # (B, T+1)\n",
        "            idx = torch.cat((idx, next_idx), dim=1)\n",
        "        return idx"
      ],
      "metadata": {
        "id": "TzP0BSfl-BN4"
      },
      "execution_count": 98,
      "outputs": []
    },
    {
      "cell_type": "code",
      "source": [
        "xb, yb = get_batch('train')"
      ],
      "metadata": {
        "id": "knFr2i4bGBzh"
      },
      "execution_count": 99,
      "outputs": []
    },
    {
      "cell_type": "code",
      "source": [
        "m = Decoder()\n",
        "out, loss = m(xb, yb)\n",
        "print(out.shape)\n",
        "print(out)\n",
        "print(\"Total parameters:\")\n",
        "print(sum([p.nelement() for p in m.parameters()]))\n",
        "\n",
        "print(decode(m.generate(torch.zeros((1,8), dtype=torch.long), max_new_tokens=100)[0].tolist()))"
      ],
      "metadata": {
        "colab": {
          "base_uri": "https://localhost:8080/"
        },
        "id": "Iv5MNj94E109",
        "outputId": "4a47252e-8da3-4a79-cedb-7c2fe3380786"
      },
      "execution_count": 100,
      "outputs": [
        {
          "output_type": "stream",
          "name": "stdout",
          "text": [
            "torch.Size([2048, 65])\n",
            "tensor([[-8.7318e-01, -1.9181e-01,  6.0401e-01,  ..., -1.0065e+00,\n",
            "         -9.5612e-01,  1.2474e+00],\n",
            "        [-1.4207e+00,  1.5129e+00, -1.2188e-01,  ..., -2.2735e-01,\n",
            "         -8.6706e-02,  1.9157e+00],\n",
            "        [-1.8719e+00,  8.7167e-01,  6.2719e-01,  ..., -6.3764e-01,\n",
            "         -2.3367e-01,  1.9278e+00],\n",
            "        ...,\n",
            "        [-1.5966e+00, -2.4771e-01,  2.4216e+00,  ...,  7.9779e-01,\n",
            "          2.2453e+00, -6.0235e-01],\n",
            "        [-1.9299e+00,  1.1449e+00,  1.4775e+00,  ..., -1.7362e+00,\n",
            "         -1.7333e+00,  2.9571e-01],\n",
            "        [-1.2941e+00,  3.1306e+00,  2.6825e+00,  ...,  9.7182e-01,\n",
            "         -1.1089e-03,  1.2258e+00]], grad_fn=<ViewBackward0>)\n",
            "Total parameters:\n",
            "1354305\n",
            "\n",
            "\n",
            "\n",
            "\n",
            "\n",
            "\n",
            "\n",
            "\n",
            "Do::y?WSWodS:3,,KjjwapN ,yXj:3'o,RlDo3h,&oXphzA cjMroFuoaASy!ovyiUqcXAUWT!aEKMq;;AYzKDAAFjPykS:ooi3S\n"
          ]
        }
      ]
    },
    {
      "cell_type": "code",
      "source": [
        "optimizer = torch.optim.AdamW(m.parameters(), lr=1e-3)"
      ],
      "metadata": {
        "id": "xOJ34uahHkTa"
      },
      "execution_count": 101,
      "outputs": []
    },
    {
      "cell_type": "code",
      "source": [
        "batch_size = 512\n",
        "\n",
        "for steps in range(2000):\n",
        "    xb,yb = get_batch('train')\n",
        "\n",
        "    logits, loss = m(xb,yb)\n",
        "\n",
        "    optimizer.zero_grad(set_to_none=True)\n",
        "    loss.backward()\n",
        "    optimizer.step()\n",
        "    if steps % 100 == 0:\n",
        "        print(f\"Loss at {steps}: {loss.item()}\")"
      ],
      "metadata": {
        "colab": {
          "base_uri": "https://localhost:8080/"
        },
        "id": "T69G9XLvFNuy",
        "outputId": "d696840d-a23b-43df-a5ee-1848b7359b8a"
      },
      "execution_count": 102,
      "outputs": [
        {
          "output_type": "stream",
          "name": "stdout",
          "text": [
            "Loss at 0: 5.695481777191162\n",
            "Loss at 100: 2.362318992614746\n",
            "Loss at 200: 2.1631181240081787\n",
            "Loss at 300: 2.0405404567718506\n",
            "Loss at 400: 1.9610567092895508\n",
            "Loss at 500: 1.9178212881088257\n",
            "Loss at 600: 1.8719313144683838\n",
            "Loss at 700: 1.8670819997787476\n",
            "Loss at 800: 1.8232440948486328\n",
            "Loss at 900: 1.831138253211975\n",
            "Loss at 1000: 1.774194359779358\n",
            "Loss at 1100: 1.7129796743392944\n",
            "Loss at 1200: 1.7640798091888428\n",
            "Loss at 1300: 1.747159719467163\n",
            "Loss at 1400: 1.7421679496765137\n",
            "Loss at 1500: 1.7068963050842285\n",
            "Loss at 1600: 1.7112239599227905\n",
            "Loss at 1700: 1.7106486558914185\n",
            "Loss at 1800: 1.6543344259262085\n",
            "Loss at 1900: 1.6784592866897583\n"
          ]
        }
      ]
    },
    {
      "cell_type": "markdown",
      "source": [
        "training a bit longer bec loss still decreasing"
      ],
      "metadata": {
        "id": "J0jGHlDZWNRx"
      }
    },
    {
      "cell_type": "code",
      "source": [
        "batch_size = 512\n",
        "\n",
        "for steps in range(500):\n",
        "    xb,yb = get_batch('train')\n",
        "\n",
        "    logits, loss = m(xb,yb)\n",
        "\n",
        "    optimizer.zero_grad(set_to_none=True)\n",
        "    loss.backward()\n",
        "    optimizer.step()\n",
        "    if steps % 100 == 0:\n",
        "        print(f\"Loss at {steps}: {loss.item()}\")"
      ],
      "metadata": {
        "colab": {
          "base_uri": "https://localhost:8080/"
        },
        "id": "go5fh-huUYUX",
        "outputId": "55e0a20e-fe5f-414c-806b-b24f9e38cac2"
      },
      "execution_count": 104,
      "outputs": [
        {
          "output_type": "stream",
          "name": "stdout",
          "text": [
            "Loss at 0: 1.6687389612197876\n",
            "Loss at 100: 1.7017985582351685\n",
            "Loss at 200: 1.6481417417526245\n",
            "Loss at 300: 1.6599197387695312\n",
            "Loss at 400: 1.682623267173767\n"
          ]
        }
      ]
    },
    {
      "cell_type": "code",
      "source": [
        "estimate_loss()"
      ],
      "metadata": {
        "colab": {
          "base_uri": "https://localhost:8080/"
        },
        "id": "gD7tiX0kHhLF",
        "outputId": "b8bf768b-3648-4c25-a9ff-ce59bacc74d2"
      },
      "execution_count": 105,
      "outputs": [
        {
          "output_type": "execute_result",
          "data": {
            "text/plain": [
              "{'train': tensor(1.6589), 'val': tensor(1.8294)}"
            ]
          },
          "metadata": {},
          "execution_count": 105
        }
      ]
    },
    {
      "cell_type": "markdown",
      "source": [
        "* transformer with single attention block, no layer norm, and no ffn: train 2.3442 val: 2.3719\n",
        "* transformer with single attn, layer norm and ffn, no residual connection: train 2.2628 val 2.3023\n",
        "\n",
        "* transformer with multi head attn + linear, layer norm, ffn and residual connection in after multihead attn: train 1.7584 val 1.9072\n",
        "\n",
        "* transformer with multiple stacked attention-ffn blocks!: train 1.65 val 1.82"
      ],
      "metadata": {
        "id": "fmZZs4jN7cAg"
      }
    },
    {
      "cell_type": "code",
      "source": [
        "print(decode(m.generate(torch.zeros((1,8), dtype=torch.long), max_new_tokens=1000)[0].tolist())[8:])"
      ],
      "metadata": {
        "colab": {
          "base_uri": "https://localhost:8080/"
        },
        "id": "Wfje3woBKECj",
        "outputId": "551b614b-0611-46c0-bbad-d180f1b12617"
      },
      "execution_count": 107,
      "outputs": [
        {
          "output_type": "stream",
          "name": "stdout",
          "text": [
            "LEOMENIUS:\n",
            "No, gracrow death;\n",
            "But not,\n",
            "How the\n",
            "Vollant.\n",
            "\n",
            "DUKE VINCENTIO:\n",
            "The consumber: to thou laws?\n",
            "\n",
            "LUCIO:\n",
            "And in make they day,\n",
            "When entreal of neck by they life her foothes. Do his slaughter;' much as never jumb\n",
            "And be in famish accup, a buried\n",
            "Fouth, his camforrows.\n",
            "\n",
            "ANGELO:\n",
            "When then I had to thy tomb.\n",
            "Your love\n",
            "A graves late, you are the Edwarah? Comen, and he been be:\n",
            "My sheer!\n",
            "\n",
            "CAMILLIUS:\n",
            "Intent on and pass\n",
            "By intell not me of\n",
            "Leave in but the raides stolood this buddsmines\n",
            "Behear my darest chill-wer child with him strain warply ears me faults\n",
            "Thy lord cord.\n",
            "\n",
            "QUEEN ELIZABET:\n",
            "Thee work offirst\n",
            "Senate, and Hermone everdience of this\n",
            "daughterous and hath time\n",
            "Therefore, and witngrace,\n",
            "I was saido.\n",
            "\n",
            "LUCIO:\n",
            "Why, must three: all they lies shallow--ground then disiners that\n",
            "Why, thousand there admy father\n",
            "that blusk Fherce of the would manners for his I talkest of shall perhap, grief love\n",
            "My pragme,\n",
            "To do? I had, I am of them I was, the kindly. Less the faults, hath news.\n",
            "For you ou\n"
          ]
        }
      ]
    },
    {
      "cell_type": "code",
      "source": [],
      "metadata": {
        "id": "QPBYFT6jKKcY"
      },
      "execution_count": null,
      "outputs": []
    }
  ]
}