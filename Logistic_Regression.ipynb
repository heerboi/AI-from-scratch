{
  "nbformat": 4,
  "nbformat_minor": 0,
  "metadata": {
    "colab": {
      "name": "Logistic Regression.ipynb",
      "provenance": [],
      "collapsed_sections": [],
      "authorship_tag": "ABX9TyPoyjycqet/cB2Jvg+trAMM"
    },
    "kernelspec": {
      "name": "python3",
      "display_name": "Python 3"
    },
    "language_info": {
      "name": "python"
    }
  },
  "cells": [
    {
      "cell_type": "markdown",
      "source": [
        "\n",
        "# Logistic Regression\n",
        "---\n",
        "\n",
        "### It is a statistical model that can be used to model a binary dependent variable using the logistic function.\n"
      ],
      "metadata": {
        "id": "7_7mdHwKwJut"
      }
    },
    {
      "cell_type": "code",
      "metadata": {
        "id": "-MT_Bpyrj8OC"
      },
      "source": [
        "import matplotlib.pyplot as plt\n",
        "%matplotlib inline"
      ],
      "execution_count": 1,
      "outputs": []
    },
    {
      "cell_type": "markdown",
      "source": [
        "#### The sigmoid or logistic function is a function that squeezes the input value to fit between 0 and 1.\n",
        "\n",
        "#### NOTE: This makes it useful for probabilities :)\n",
        "\n",
        "\\begin{align}\n",
        "Logistic(x) = \\frac{1}{1 + e^{-x}} \n",
        "\\end{align}"
      ],
      "metadata": {
        "id": "dDJp0nQS0OV0"
      }
    },
    {
      "cell_type": "code",
      "metadata": {
        "id": "vPziTorODOc3"
      },
      "source": [
        "def plot_sigmoid(min, max):\n",
        "    import matplotlib.pyplot as plt \n",
        "    import numpy as np \n",
        "\n",
        "    z = np.linspace(min, max, 100) \n",
        "    def sigmoid(z):\n",
        "        return 1/(1 + np.exp(-z))\n",
        "\n",
        "    a = sigmoid(z)\n",
        "    plt.plot(z, a) \n",
        "    plt.xlabel(\"z\") \n",
        "    plt.ylabel(\"sigmoid(z)\")"
      ],
      "execution_count": 2,
      "outputs": []
    },
    {
      "cell_type": "code",
      "metadata": {
        "colab": {
          "base_uri": "https://localhost:8080/",
          "height": 279
        },
        "id": "GWUW-6eI7Vup",
        "outputId": "c2effed8-5211-4ca2-88fc-d816df430685"
      },
      "source": [
        "plot_sigmoid(-10, 10)"
      ],
      "execution_count": 3,
      "outputs": [
        {
          "output_type": "display_data",
          "data": {
            "image/png": "[encoded data removed]",
            "text/plain": [
              "<Figure size 432x288 with 1 Axes>"
            ]
          },
          "metadata": {
            "needs_background": "light"
          }
        }
      ]
    },
    {
      "cell_type": "markdown",
      "source": [
        "#### The Cross Entropy loss function is a loss function that measures the performance of a classification model.\n",
        "\n",
        "\\begin{align}\n",
        "Loss(true, pred) = - true*log(pred) + (1-true) * log(1-pred)\n",
        "\\end{align}\n",
        "\n",
        "##### Suppose now if the true value is 1, the second term gets cancelled and we're left with -log(pred), which is zero if the prediction is 1.\n",
        "##### If now we have true value as 0, the first term is cancelled, and we again get zero loss in case of predicted value also being zero.\n",
        "\n",
        "\n",
        "#### Now, our two input vectors will be of the shape (m x 1).\n",
        "\\begin{align}\n",
        "y_{true}=\\begin{bmatrix}\n",
        "y_1\\\\y_2\\\\y_3\\\\y_4\\\\...\\\\y_m\n",
        "\\end{bmatrix}\n",
        "y_{pred}=\\begin{bmatrix}\n",
        "p_1\\\\p_2\\\\p_3\\\\p_4\\\\...\\\\p_m\n",
        "\\end{bmatrix}\n",
        "\\end{align}\n",
        "where each y_i is the true class for the ith example, and each p_i is the predicted class for ith example.\n",
        "\n",
        "\n",
        "####To calculate the loss for all examples at once, if we had to do it mindlessly, we would just run a loop to calculate over each example and then add it together. But, we use the beauty of vectors!\n",
        "\n",
        "#### We could even use the Hadamard product and then sum all of them together, but if we want to use the dot product, we need the **columns of the first vector** to be equal to the **rows of the second vector**.\n",
        "\n",
        "#### So, naturally, we calculate the transpose of the y_true vector and apply the log operation to the y_pred vector\n",
        "\n",
        "\\begin{align}\n",
        "y_{true}^T = \\begin{bmatrix}\n",
        "y_1 & y_2 & y_3 & y_4 & ... & y_m\n",
        "\\end{bmatrix}\\quad\n",
        "y_{pred} =log(\\begin{bmatrix}\n",
        "p_1\\\\p_2\\\\p_3\\\\p_4\\\\...\\\\p_m\n",
        "\\end{bmatrix})\n",
        "\\end{align}\n",
        "\n",
        "#### Now, the dot product of them would be\n",
        "\\begin{align}\n",
        "y_{true}^T ⋅ y_{pred} = y_1 * log(p_1) + y_2 * log(p_2) + y_3 * log(p_3) + \\newline ... + y_m * log(p_m)\n",
        "\\end{align}\n",
        "\n",
        "#### As can be seen, this is perfect and exactly what we want! The same can be done for the second term in the loss.\n",
        "#### And to average the total loss, we divide it by m (the number of examples). This gives us the **cost function**.\n",
        "\n",
        "#### **NOTE: it may seem that adding up only the first term of the losses first would change the result, but if you actually analyze it, you can find that it makes no difference whether we calculate the entire loss and sum it up or parts of losses and sum it up, as it is just connected by addition.**"
      ],
      "metadata": {
        "id": "dIyPj4_7A-Rd"
      }
    },
    {
      "cell_type": "code",
      "metadata": {
        "id": "Scr6WfuZ7lNq"
      },
      "source": [
        "import numpy as np\n",
        "def cross_entropy_loss(y_true, y_pred):\n",
        "    \"\"\"\n",
        "    INPUTS:\n",
        "    y_true -> m x 1 dimensional vector\n",
        "    y_pred -> m x 1 dimensional vector\n",
        "\n",
        "    OUTPUTS:\n",
        "    loss -> scalar\n",
        "    \"\"\"\n",
        "    m = y_true.shape[0]\n",
        "    loss = (-1 / m) * (y_true.T.dot(np.log(y_pred)) + (1 - y_true).T.dot(np.log(1 - y_pred)))\n",
        "    return loss"
      ],
      "execution_count": 4,
      "outputs": []
    },
    {
      "cell_type": "code",
      "metadata": {
        "id": "r4aQ9kUHQGI5"
      },
      "source": [
        "def sigmoid(arr):\n",
        "    \"\"\"\n",
        "    Apply sigmoid function to each value in given vector.\n",
        "    \n",
        "    INPUTS:\n",
        "    arr -> matrix/vector\n",
        "\n",
        "    OUTPUTS:\n",
        "    arr -> sigmoid applied to arr\n",
        "    \"\"\"\n",
        "\n",
        "    arr = 1 / (1 + np.exp(-arr))\n",
        "    return arr"
      ],
      "execution_count": 5,
      "outputs": []
    },
    {
      "cell_type": "code",
      "metadata": {
        "id": "G6KvBif0RTTg"
      },
      "source": [
        "def d_sigmoid(arr):\n",
        "    \"\"\"\n",
        "    Apply derivative of sigmoid to given vector.\n",
        "\n",
        "    INPUTS:\n",
        "    arr -> matrix/vector\n",
        "\n",
        "    OUTPUTS:\n",
        "    arr -> derivative of sigmoid applied to arr\n",
        "    \"\"\"\n",
        "\n",
        "    arr = sigmoid(arr) * (1 - sigmoid(arr))\n",
        "    return arr"
      ],
      "execution_count": 6,
      "outputs": []
    },
    {
      "cell_type": "code",
      "metadata": {
        "id": "mgVWKhvwjI1K"
      },
      "source": [
        "from sklearn.datasets import load_iris"
      ],
      "execution_count": 7,
      "outputs": []
    },
    {
      "cell_type": "code",
      "metadata": {
        "id": "0qjYItH2jWFt"
      },
      "source": [
        "dataset = load_iris()"
      ],
      "execution_count": 8,
      "outputs": []
    },
    {
      "cell_type": "code",
      "metadata": {
        "colab": {
          "base_uri": "https://localhost:8080/"
        },
        "id": "0kkEru2WjXme",
        "outputId": "655f7127-065f-4fc4-beeb-59a91114c91a"
      },
      "source": [
        "from pprint import pprint\n",
        "pprint(dataset.DESCR)"
      ],
      "execution_count": 9,
      "outputs": [
        {
          "output_type": "stream",
          "name": "stdout",
          "text": [
            "('.. _iris_dataset:\\n'\n",
            " '\\n'\n",
            " 'Iris plants dataset\\n'\n",
            " '--------------------\\n'\n",
            " '\\n'\n",
            " '**Data Set Characteristics:**\\n'\n",
            " '\\n'\n",
            " '    :Number of Instances: 150 (50 in each of three classes)\\n'\n",
            " '    :Number of Attributes: 4 numeric, predictive attributes and the class\\n'\n",
            " '    :Attribute Information:\\n'\n",
            " '        - sepal length in cm\\n'\n",
            " '        - sepal width in cm\\n'\n",
            " '        - petal length in cm\\n'\n",
            " '        - petal width in cm\\n'\n",
            " '        - class:\\n'\n",
            " '                - Iris-Setosa\\n'\n",
            " '                - Iris-Versicolour\\n'\n",
            " '                - Iris-Virginica\\n'\n",
            " '                \\n'\n",
            " '    :Summary Statistics:\\n'\n",
            " '\\n'\n",
            " '    ============== ==== ==== ======= ===== ====================\\n'\n",
            " '                    Min  Max   Mean    SD   Class Correlation\\n'\n",
            " '    ============== ==== ==== ======= ===== ====================\\n'\n",
            " '    sepal length:   4.3  7.9   5.84   0.83    0.7826\\n'\n",
            " '    sepal width:    2.0  4.4   3.05   0.43   -0.4194\\n'\n",
            " '    petal length:   1.0  6.9   3.76   1.76    0.9490  (high!)\\n'\n",
            " '    petal width:    0.1  2.5   1.20   0.76    0.9565  (high!)\\n'\n",
            " '    ============== ==== ==== ======= ===== ====================\\n'\n",
            " '\\n'\n",
            " '    :Missing Attribute Values: None\\n'\n",
            " '    :Class Distribution: 33.3% for each of 3 classes.\\n'\n",
            " '    :Creator: R.A. Fisher\\n'\n",
            " '    :Donor: Michael Marshall (MARSHALL%PLU@io.arc.nasa.gov)\\n'\n",
            " '    :Date: July, 1988\\n'\n",
            " '\\n'\n",
            " 'The famous Iris database, first used by Sir R.A. Fisher. The dataset is '\n",
            " 'taken\\n'\n",
            " \"from Fisher's paper. Note that it's the same as in R, but not as in the UCI\\n\"\n",
            " 'Machine Learning Repository, which has two wrong data points.\\n'\n",
            " '\\n'\n",
            " 'This is perhaps the best known database to be found in the\\n'\n",
            " \"pattern recognition literature.  Fisher's paper is a classic in the field \"\n",
            " 'and\\n'\n",
            " 'is referenced frequently to this day.  (See Duda & Hart, for example.)  The\\n'\n",
            " 'data set contains 3 classes of 50 instances each, where each class refers to '\n",
            " 'a\\n'\n",
            " 'type of iris plant.  One class is linearly separable from the other 2; the\\n'\n",
            " 'latter are NOT linearly separable from each other.\\n'\n",
            " '\\n'\n",
            " '.. topic:: References\\n'\n",
            " '\\n'\n",
            " '   - Fisher, R.A. \"The use of multiple measurements in taxonomic problems\"\\n'\n",
            " '     Annual Eugenics, 7, Part II, 179-188 (1936); also in \"Contributions to\\n'\n",
            " '     Mathematical Statistics\" (John Wiley, NY, 1950).\\n'\n",
            " '   - Duda, R.O., & Hart, P.E. (1973) Pattern Classification and Scene '\n",
            " 'Analysis.\\n'\n",
            " '     (Q327.D83) John Wiley & Sons.  ISBN 0-471-22361-1.  See page 218.\\n'\n",
            " '   - Dasarathy, B.V. (1980) \"Nosing Around the Neighborhood: A New System\\n'\n",
            " '     Structure and Classification Rule for Recognition in Partially Exposed\\n'\n",
            " '     Environments\".  IEEE Transactions on Pattern Analysis and Machine\\n'\n",
            " '     Intelligence, Vol. PAMI-2, No. 1, 67-71.\\n'\n",
            " '   - Gates, G.W. (1972) \"The Reduced Nearest Neighbor Rule\".  IEEE '\n",
            " 'Transactions\\n'\n",
            " '     on Information Theory, May 1972, 431-433.\\n'\n",
            " '   - See also: 1988 MLC Proceedings, 54-64.  Cheeseman et al\"s AUTOCLASS II\\n'\n",
            " '     conceptual clustering system finds 3 classes in the data.\\n'\n",
            " '   - Many, many more ...')\n"
          ]
        }
      ]
    },
    {
      "cell_type": "code",
      "source": [
        "dataset"
      ],
      "metadata": {
        "colab": {
          "base_uri": "https://localhost:8080/"
        },
        "id": "SWAOZuHlGfCa",
        "outputId": "298b9ac3-b9cd-440c-ee7c-661b76d6a859"
      },
      "execution_count": 10,
      "outputs": [
        {
          "output_type": "execute_result",
          "data": {
            "text/plain": [
              "{'DESCR': '.. _iris_dataset:\\n\\nIris plants dataset\\n--------------------\\n\\n**Data Set Characteristics:**\\n\\n    :Number of Instances: 150 (50 in each of three classes)\\n    :Number of Attributes: 4 numeric, predictive attributes and the class\\n    :Attribute Information:\\n        - sepal length in cm\\n        - sepal width in cm\\n        - petal length in cm\\n        - petal width in cm\\n        - class:\\n                - Iris-Setosa\\n                - Iris-Versicolour\\n                - Iris-Virginica\\n                \\n    :Summary Statistics:\\n\\n    ============== ==== ==== ======= ===== ====================\\n                    Min  Max   Mean    SD   Class Correlation\\n    ============== ==== ==== ======= ===== ====================\\n    sepal length:   4.3  7.9   5.84   0.83    0.7826\\n    sepal width:    2.0  4.4   3.05   0.43   -0.4194\\n    petal length:   1.0  6.9   3.76   1.76    0.9490  (high!)\\n    petal width:    0.1  2.5   1.20   0.76    0.9565  (high!)\\n    ============== ==== ==== ======= ===== ====================\\n\\n    :Missing Attribute Values: None\\n    :Class Distribution: 33.3% for each of 3 classes.\\n    :Creator: R.A. Fisher\\n    :Donor: Michael Marshall (MARSHALL%PLU@io.arc.nasa.gov)\\n    :Date: July, 1988\\n\\nThe famous Iris database, first used by Sir R.A. Fisher. The dataset is taken\\nfrom Fisher\\'s paper. Note that it\\'s the same as in R, but not as in the UCI\\nMachine Learning Repository, which has two wrong data points.\\n\\nThis is perhaps the best known database to be found in the\\npattern recognition literature.  Fisher\\'s paper is a classic in the field and\\nis referenced frequently to this day.  (See Duda & Hart, for example.)  The\\ndata set contains 3 classes of 50 instances each, where each class refers to a\\ntype of iris plant.  One class is linearly separable from the other 2; the\\nlatter are NOT linearly separable from each other.\\n\\n.. topic:: References\\n\\n   - Fisher, R.A. \"The use of multiple measurements in taxonomic problems\"\\n     Annual Eugenics, 7, Part II, 179-188 (1936); also in \"Contributions to\\n     Mathematical Statistics\" (John Wiley, NY, 1950).\\n   - Duda, R.O., & Hart, P.E. (1973) Pattern Classification and Scene Analysis.\\n     (Q327.D83) John Wiley & Sons.  ISBN 0-471-22361-1.  See page 218.\\n   - Dasarathy, B.V. (1980) \"Nosing Around the Neighborhood: A New System\\n     Structure and Classification Rule for Recognition in Partially Exposed\\n     Environments\".  IEEE Transactions on Pattern Analysis and Machine\\n     Intelligence, Vol. PAMI-2, No. 1, 67-71.\\n   - Gates, G.W. (1972) \"The Reduced Nearest Neighbor Rule\".  IEEE Transactions\\n     on Information Theory, May 1972, 431-433.\\n   - See also: 1988 MLC Proceedings, 54-64.  Cheeseman et al\"s AUTOCLASS II\\n     conceptual clustering system finds 3 classes in the data.\\n   - Many, many more ...',\n",
              " 'data': array([[5.1, 3.5, 1.4, 0.2],\n",
              "        [4.9, 3. , 1.4, 0.2],\n",
              "        [4.7, 3.2, 1.3, 0.2],\n",
              "        [4.6, 3.1, 1.5, 0.2],\n",
              "        [5. , 3.6, 1.4, 0.2],\n",
              "        [5.4, 3.9, 1.7, 0.4],\n",
              "        [4.6, 3.4, 1.4, 0.3],\n",
              "        [5. , 3.4, 1.5, 0.2],\n",
              "        [4.4, 2.9, 1.4, 0.2],\n",
              "        [4.9, 3.1, 1.5, 0.1],\n",
              "        [5.4, 3.7, 1.5, 0.2],\n",
              "        [4.8, 3.4, 1.6, 0.2],\n",
              "        [4.8, 3. , 1.4, 0.1],\n",
              "        [4.3, 3. , 1.1, 0.1],\n",
              "        [5.8, 4. , 1.2, 0.2],\n",
              "        [5.7, 4.4, 1.5, 0.4],\n",
              "        [5.4, 3.9, 1.3, 0.4],\n",
              "        [5.1, 3.5, 1.4, 0.3],\n",
              "        [5.7, 3.8, 1.7, 0.3],\n",
              "        [5.1, 3.8, 1.5, 0.3],\n",
              "        [5.4, 3.4, 1.7, 0.2],\n",
              "        [5.1, 3.7, 1.5, 0.4],\n",
              "        [4.6, 3.6, 1. , 0.2],\n",
              "        [5.1, 3.3, 1.7, 0.5],\n",
              "        [4.8, 3.4, 1.9, 0.2],\n",
              "        [5. , 3. , 1.6, 0.2],\n",
              "        [5. , 3.4, 1.6, 0.4],\n",
              "        [5.2, 3.5, 1.5, 0.2],\n",
              "        [5.2, 3.4, 1.4, 0.2],\n",
              "        [4.7, 3.2, 1.6, 0.2],\n",
              "        [4.8, 3.1, 1.6, 0.2],\n",
              "        [5.4, 3.4, 1.5, 0.4],\n",
              "        [5.2, 4.1, 1.5, 0.1],\n",
              "        [5.5, 4.2, 1.4, 0.2],\n",
              "        [4.9, 3.1, 1.5, 0.2],\n",
              "        [5. , 3.2, 1.2, 0.2],\n",
              "        [5.5, 3.5, 1.3, 0.2],\n",
              "        [4.9, 3.6, 1.4, 0.1],\n",
              "        [4.4, 3. , 1.3, 0.2],\n",
              "        [5.1, 3.4, 1.5, 0.2],\n",
              "        [5. , 3.5, 1.3, 0.3],\n",
              "        [4.5, 2.3, 1.3, 0.3],\n",
              "        [4.4, 3.2, 1.3, 0.2],\n",
              "        [5. , 3.5, 1.6, 0.6],\n",
              "        [5.1, 3.8, 1.9, 0.4],\n",
              "        [4.8, 3. , 1.4, 0.3],\n",
              "        [5.1, 3.8, 1.6, 0.2],\n",
              "        [4.6, 3.2, 1.4, 0.2],\n",
              "        [5.3, 3.7, 1.5, 0.2],\n",
              "        [5. , 3.3, 1.4, 0.2],\n",
              "        [7. , 3.2, 4.7, 1.4],\n",
              "        [6.4, 3.2, 4.5, 1.5],\n",
              "        [6.9, 3.1, 4.9, 1.5],\n",
              "        [5.5, 2.3, 4. , 1.3],\n",
              "        [6.5, 2.8, 4.6, 1.5],\n",
              "        [5.7, 2.8, 4.5, 1.3],\n",
              "        [6.3, 3.3, 4.7, 1.6],\n",
              "        [4.9, 2.4, 3.3, 1. ],\n",
              "        [6.6, 2.9, 4.6, 1.3],\n",
              "        [5.2, 2.7, 3.9, 1.4],\n",
              "        [5. , 2. , 3.5, 1. ],\n",
              "        [5.9, 3. , 4.2, 1.5],\n",
              "        [6. , 2.2, 4. , 1. ],\n",
              "        [6.1, 2.9, 4.7, 1.4],\n",
              "        [5.6, 2.9, 3.6, 1.3],\n",
              "        [6.7, 3.1, 4.4, 1.4],\n",
              "        [5.6, 3. , 4.5, 1.5],\n",
              "        [5.8, 2.7, 4.1, 1. ],\n",
              "        [6.2, 2.2, 4.5, 1.5],\n",
              "        [5.6, 2.5, 3.9, 1.1],\n",
              "        [5.9, 3.2, 4.8, 1.8],\n",
              "        [6.1, 2.8, 4. , 1.3],\n",
              "        [6.3, 2.5, 4.9, 1.5],\n",
              "        [6.1, 2.8, 4.7, 1.2],\n",
              "        [6.4, 2.9, 4.3, 1.3],\n",
              "        [6.6, 3. , 4.4, 1.4],\n",
              "        [6.8, 2.8, 4.8, 1.4],\n",
              "        [6.7, 3. , 5. , 1.7],\n",
              "        [6. , 2.9, 4.5, 1.5],\n",
              "        [5.7, 2.6, 3.5, 1. ],\n",
              "        [5.5, 2.4, 3.8, 1.1],\n",
              "        [5.5, 2.4, 3.7, 1. ],\n",
              "        [5.8, 2.7, 3.9, 1.2],\n",
              "        [6. , 2.7, 5.1, 1.6],\n",
              "        [5.4, 3. , 4.5, 1.5],\n",
              "        [6. , 3.4, 4.5, 1.6],\n",
              "        [6.7, 3.1, 4.7, 1.5],\n",
              "        [6.3, 2.3, 4.4, 1.3],\n",
              "        [5.6, 3. , 4.1, 1.3],\n",
              "        [5.5, 2.5, 4. , 1.3],\n",
              "        [5.5, 2.6, 4.4, 1.2],\n",
              "        [6.1, 3. , 4.6, 1.4],\n",
              "        [5.8, 2.6, 4. , 1.2],\n",
              "        [5. , 2.3, 3.3, 1. ],\n",
              "        [5.6, 2.7, 4.2, 1.3],\n",
              "        [5.7, 3. , 4.2, 1.2],\n",
              "        [5.7, 2.9, 4.2, 1.3],\n",
              "        [6.2, 2.9, 4.3, 1.3],\n",
              "        [5.1, 2.5, 3. , 1.1],\n",
              "        [5.7, 2.8, 4.1, 1.3],\n",
              "        [6.3, 3.3, 6. , 2.5],\n",
              "        [5.8, 2.7, 5.1, 1.9],\n",
              "        [7.1, 3. , 5.9, 2.1],\n",
              "        [6.3, 2.9, 5.6, 1.8],\n",
              "        [6.5, 3. , 5.8, 2.2],\n",
              "        [7.6, 3. , 6.6, 2.1],\n",
              "        [4.9, 2.5, 4.5, 1.7],\n",
              "        [7.3, 2.9, 6.3, 1.8],\n",
              "        [6.7, 2.5, 5.8, 1.8],\n",
              "        [7.2, 3.6, 6.1, 2.5],\n",
              "        [6.5, 3.2, 5.1, 2. ],\n",
              "        [6.4, 2.7, 5.3, 1.9],\n",
              "        [6.8, 3. , 5.5, 2.1],\n",
              "        [5.7, 2.5, 5. , 2. ],\n",
              "        [5.8, 2.8, 5.1, 2.4],\n",
              "        [6.4, 3.2, 5.3, 2.3],\n",
              "        [6.5, 3. , 5.5, 1.8],\n",
              "        [7.7, 3.8, 6.7, 2.2],\n",
              "        [7.7, 2.6, 6.9, 2.3],\n",
              "        [6. , 2.2, 5. , 1.5],\n",
              "        [6.9, 3.2, 5.7, 2.3],\n",
              "        [5.6, 2.8, 4.9, 2. ],\n",
              "        [7.7, 2.8, 6.7, 2. ],\n",
              "        [6.3, 2.7, 4.9, 1.8],\n",
              "        [6.7, 3.3, 5.7, 2.1],\n",
              "        [7.2, 3.2, 6. , 1.8],\n",
              "        [6.2, 2.8, 4.8, 1.8],\n",
              "        [6.1, 3. , 4.9, 1.8],\n",
              "        [6.4, 2.8, 5.6, 2.1],\n",
              "        [7.2, 3. , 5.8, 1.6],\n",
              "        [7.4, 2.8, 6.1, 1.9],\n",
              "        [7.9, 3.8, 6.4, 2. ],\n",
              "        [6.4, 2.8, 5.6, 2.2],\n",
              "        [6.3, 2.8, 5.1, 1.5],\n",
              "        [6.1, 2.6, 5.6, 1.4],\n",
              "        [7.7, 3. , 6.1, 2.3],\n",
              "        [6.3, 3.4, 5.6, 2.4],\n",
              "        [6.4, 3.1, 5.5, 1.8],\n",
              "        [6. , 3. , 4.8, 1.8],\n",
              "        [6.9, 3.1, 5.4, 2.1],\n",
              "        [6.7, 3.1, 5.6, 2.4],\n",
              "        [6.9, 3.1, 5.1, 2.3],\n",
              "        [5.8, 2.7, 5.1, 1.9],\n",
              "        [6.8, 3.2, 5.9, 2.3],\n",
              "        [6.7, 3.3, 5.7, 2.5],\n",
              "        [6.7, 3. , 5.2, 2.3],\n",
              "        [6.3, 2.5, 5. , 1.9],\n",
              "        [6.5, 3. , 5.2, 2. ],\n",
              "        [6.2, 3.4, 5.4, 2.3],\n",
              "        [5.9, 3. , 5.1, 1.8]]),\n",
              " 'data_module': 'sklearn.datasets.data',\n",
              " 'feature_names': ['sepal length (cm)',\n",
              "  'sepal width (cm)',\n",
              "  'petal length (cm)',\n",
              "  'petal width (cm)'],\n",
              " 'filename': 'iris.csv',\n",
              " 'frame': None,\n",
              " 'target': array([0, 0, 0, 0, 0, 0, 0, 0, 0, 0, 0, 0, 0, 0, 0, 0, 0, 0, 0, 0, 0, 0,\n",
              "        0, 0, 0, 0, 0, 0, 0, 0, 0, 0, 0, 0, 0, 0, 0, 0, 0, 0, 0, 0, 0, 0,\n",
              "        0, 0, 0, 0, 0, 0, 1, 1, 1, 1, 1, 1, 1, 1, 1, 1, 1, 1, 1, 1, 1, 1,\n",
              "        1, 1, 1, 1, 1, 1, 1, 1, 1, 1, 1, 1, 1, 1, 1, 1, 1, 1, 1, 1, 1, 1,\n",
              "        1, 1, 1, 1, 1, 1, 1, 1, 1, 1, 1, 1, 2, 2, 2, 2, 2, 2, 2, 2, 2, 2,\n",
              "        2, 2, 2, 2, 2, 2, 2, 2, 2, 2, 2, 2, 2, 2, 2, 2, 2, 2, 2, 2, 2, 2,\n",
              "        2, 2, 2, 2, 2, 2, 2, 2, 2, 2, 2, 2, 2, 2, 2, 2, 2, 2]),\n",
              " 'target_names': array(['setosa', 'versicolor', 'virginica'], dtype='<U10')}"
            ]
          },
          "metadata": {},
          "execution_count": 10
        }
      ]
    },
    {
      "cell_type": "code",
      "metadata": {
        "id": "nARe6EVfjY3a"
      },
      "source": [
        "X = dataset.data\n",
        "y = dataset.target.reshape(-1, 1)"
      ],
      "execution_count": 11,
      "outputs": []
    },
    {
      "cell_type": "code",
      "source": [
        "full_dataset = np.concatenate((X, y), axis = 1)\n",
        "full_dataset.shape"
      ],
      "metadata": {
        "colab": {
          "base_uri": "https://localhost:8080/"
        },
        "id": "CDasRX_xbwad",
        "outputId": "d9dd8aed-b5ee-4cd7-cd03-d16a1f263320"
      },
      "execution_count": 12,
      "outputs": [
        {
          "output_type": "execute_result",
          "data": {
            "text/plain": [
              "(150, 5)"
            ]
          },
          "metadata": {},
          "execution_count": 12
        }
      ]
    },
    {
      "cell_type": "code",
      "source": [
        "import pandas as pd\n",
        "pd_set = pd.DataFrame(full_dataset, columns = [*dataset.feature_names, \"output\"])"
      ],
      "metadata": {
        "id": "VCyMmovObXEI"
      },
      "execution_count": 13,
      "outputs": []
    },
    {
      "cell_type": "code",
      "source": [
        "pd_set = pd_set[pd_set.output != 2]"
      ],
      "metadata": {
        "id": "UY8SjIlTbajz"
      },
      "execution_count": 14,
      "outputs": []
    },
    {
      "cell_type": "code",
      "source": [
        "pd_set.hist(bins = 50, figsize = (20, 15))"
      ],
      "metadata": {
        "colab": {
          "base_uri": "https://localhost:8080/",
          "height": 1000
        },
        "id": "1Pnic6NUEnPP",
        "outputId": "a052ca21-0b98-4c46-ca99-3f8b2dca13ef"
      },
      "execution_count": 15,
      "outputs": [
        {
          "output_type": "execute_result",
          "data": {
            "text/plain": [
              "array([[<matplotlib.axes._subplots.AxesSubplot object at 0x7f4718e882d0>,\n",
              "        <matplotlib.axes._subplots.AxesSubplot object at 0x7f4718ebb810>],\n",
              "       [<matplotlib.axes._subplots.AxesSubplot object at 0x7f4718e72e10>,\n",
              "        <matplotlib.axes._subplots.AxesSubplot object at 0x7f4718e36450>],\n",
              "       [<matplotlib.axes._subplots.AxesSubplot object at 0x7f4718deba50>,\n",
              "        <matplotlib.axes._subplots.AxesSubplot object at 0x7f4718d98b90>]],\n",
              "      dtype=object)"
            ]
          },
          "metadata": {},
          "execution_count": 15
        },
        {
          "output_type": "display_data",
          "data": {
            "image/png": "[encoded data removed]",
            "text/plain": [
              "<Figure size 1440x1080 with 6 Axes>"
            ]
          },
          "metadata": {
            "needs_background": "light"
          }
        }
      ]
    },
    {
      "cell_type": "code",
      "source": [
        "pd_set.shape"
      ],
      "metadata": {
        "colab": {
          "base_uri": "https://localhost:8080/"
        },
        "id": "7Z2TrM3db97O",
        "outputId": "56b34b4a-b045-4992-aa7c-850c4518127d"
      },
      "execution_count": 16,
      "outputs": [
        {
          "output_type": "execute_result",
          "data": {
            "text/plain": [
              "(100, 5)"
            ]
          },
          "metadata": {},
          "execution_count": 16
        }
      ]
    },
    {
      "cell_type": "code",
      "source": [
        "import seaborn as sns\n",
        "corr_matrix = pd_set.corr()\n",
        "sns.heatmap(corr_matrix, annot = True)"
      ],
      "metadata": {
        "colab": {
          "base_uri": "https://localhost:8080/",
          "height": 364
        },
        "id": "lW1zAiVOGRdN",
        "outputId": "8d7eb413-8cdb-46fb-d6e8-a56f9213b730"
      },
      "execution_count": 17,
      "outputs": [
        {
          "output_type": "execute_result",
          "data": {
            "text/plain": [
              "<matplotlib.axes._subplots.AxesSubplot at 0x7f471812cd50>"
            ]
          },
          "metadata": {},
          "execution_count": 17
        },
        {
          "output_type": "display_data",
          "data": {
            "image/png": "[encoded data removed]",
            "text/plain": [
              "<Figure size 432x288 with 2 Axes>"
            ]
          },
          "metadata": {
            "needs_background": "light"
          }
        }
      ]
    },
    {
      "cell_type": "code",
      "source": [
        "from pandas.plotting import scatter_matrix\n",
        "attr = [\"petal width (cm)\", \"petal length (cm)\", \"output\"]\n",
        "scatter_matrix(pd_set[attr], figsize = (20, 10))"
      ],
      "metadata": {
        "colab": {
          "base_uri": "https://localhost:8080/",
          "height": 782
        },
        "id": "75ZazdSnG75Z",
        "outputId": "1a9b7568-8aae-4903-d3f4-8c400d5eb323"
      },
      "execution_count": 18,
      "outputs": [
        {
          "output_type": "execute_result",
          "data": {
            "text/plain": [
              "array([[<matplotlib.axes._subplots.AxesSubplot object at 0x7f470f820b90>,\n",
              "        <matplotlib.axes._subplots.AxesSubplot object at 0x7f470f7ebe10>,\n",
              "        <matplotlib.axes._subplots.AxesSubplot object at 0x7f470f7b0450>],\n",
              "       [<matplotlib.axes._subplots.AxesSubplot object at 0x7f470f767a50>,\n",
              "        <matplotlib.axes._subplots.AxesSubplot object at 0x7f470f711b90>,\n",
              "        <matplotlib.axes._subplots.AxesSubplot object at 0x7f470f6d9e50>],\n",
              "       [<matplotlib.axes._subplots.AxesSubplot object at 0x7f4718e085d0>,\n",
              "        <matplotlib.axes._subplots.AxesSubplot object at 0x7f4727cc7e90>,\n",
              "        <matplotlib.axes._subplots.AxesSubplot object at 0x7f47277f6ad0>]],\n",
              "      dtype=object)"
            ]
          },
          "metadata": {},
          "execution_count": 18
        },
        {
          "output_type": "display_data",
          "data": {
            "image/png": "[encoded data removed]",
            "text/plain": [
              "<Figure size 1440x720 with 9 Axes>"
            ]
          },
          "metadata": {
            "needs_background": "light"
          }
        }
      ]
    },
    {
      "cell_type": "code",
      "source": [
        "X = pd_set.drop([\"output\", \"sepal width (cm)\", \"sepal length (cm)\"], axis = 1).to_numpy()\n",
        "y = pd_set[\"output\"].to_numpy().reshape(-1, 1)"
      ],
      "metadata": {
        "id": "Gzw6Zb21FE4Q"
      },
      "execution_count": 19,
      "outputs": []
    },
    {
      "cell_type": "code",
      "source": [
        "y.shape"
      ],
      "metadata": {
        "colab": {
          "base_uri": "https://localhost:8080/"
        },
        "id": "VI1Ocfxo-WJB",
        "outputId": "c812362b-4d13-40f1-8f0b-fbc4f7f4d106"
      },
      "execution_count": 20,
      "outputs": [
        {
          "output_type": "execute_result",
          "data": {
            "text/plain": [
              "(100, 1)"
            ]
          },
          "metadata": {},
          "execution_count": 20
        }
      ]
    },
    {
      "cell_type": "code",
      "source": [
        "weights = np.random.normal(size = X.shape[1]).reshape(2, 1)\n",
        "weights.shape"
      ],
      "metadata": {
        "colab": {
          "base_uri": "https://localhost:8080/"
        },
        "id": "pm94bSQ1JtYp",
        "outputId": "d959647a-e948-4b42-f92d-c10a43383cf8"
      },
      "execution_count": 21,
      "outputs": [
        {
          "output_type": "execute_result",
          "data": {
            "text/plain": [
              "(2, 1)"
            ]
          },
          "metadata": {},
          "execution_count": 21
        }
      ]
    },
    {
      "cell_type": "code",
      "source": [
        "preds = sigmoid(X.dot(weights))"
      ],
      "metadata": {
        "id": "qjmVGcNgFS7d"
      },
      "execution_count": 22,
      "outputs": []
    },
    {
      "cell_type": "code",
      "source": [
        "fig, ax = plt.subplots()\n",
        "scatter = ax.scatter(X[:, 0], X[:, 1], s = 25, c = y, marker = 'o')\n",
        "plt.xlabel(\"petal length (cm)\")\n",
        "plt.ylabel(\"petal width (cm)\")\n",
        "legends = ax.legend(handles = scatter.legend_elements()[0], labels = [\"Setosa\", \"Versicolor\"], loc = \"lower right\", title = \"Classes\")\n",
        "ax.add_artist(legends)\n",
        "plt.show()"
      ],
      "metadata": {
        "colab": {
          "base_uri": "https://localhost:8080/",
          "height": 279
        },
        "id": "jq8VrJ8zFs4D",
        "outputId": "d4193cbc-c96c-4e6f-b168-ca23f5d2dd6f"
      },
      "execution_count": 23,
      "outputs": [
        {
          "output_type": "display_data",
          "data": {
            "image/png": "[encoded data removed]",
            "text/plain": [
              "<Figure size 432x288 with 1 Axes>"
            ]
          },
          "metadata": {
            "needs_background": "light"
          }
        }
      ]
    },
    {
      "cell_type": "markdown",
      "source": [
        "These are our predictions using our initialized weights vector."
      ],
      "metadata": {
        "id": "C4QqD9J5enhP"
      }
    },
    {
      "cell_type": "code",
      "source": [
        "preds"
      ],
      "metadata": {
        "colab": {
          "base_uri": "https://localhost:8080/"
        },
        "id": "h8vc1CebKBjY",
        "outputId": "fd20f996-188e-4b70-8f63-4d5f09885f61"
      },
      "execution_count": 24,
      "outputs": [
        {
          "output_type": "execute_result",
          "data": {
            "text/plain": [
              "array([[0.49037259],\n",
              "       [0.49037259],\n",
              "       [0.49089971],\n",
              "       [0.48984549],\n",
              "       [0.49037259],\n",
              "       [0.48654638],\n",
              "       [0.48924988],\n",
              "       [0.48984549],\n",
              "       [0.49037259],\n",
              "       [0.49096825],\n",
              "       [0.48984549],\n",
              "       [0.48931842],\n",
              "       [0.49149539],\n",
              "       [0.49307693],\n",
              "       [0.49142685],\n",
              "       [0.48760029],\n",
              "       [0.4886543 ],\n",
              "       [0.48924988],\n",
              "       [0.48766881],\n",
              "       [0.48872283],\n",
              "       [0.48879136],\n",
              "       [0.48760029],\n",
              "       [0.49248118],\n",
              "       [0.48542409],\n",
              "       [0.48773734],\n",
              "       [0.48931842],\n",
              "       [0.48707332],\n",
              "       [0.48984549],\n",
              "       [0.49037259],\n",
              "       [0.48931842],\n",
              "       [0.48931842],\n",
              "       [0.48760029],\n",
              "       [0.49096825],\n",
              "       [0.49037259],\n",
              "       [0.48984549],\n",
              "       [0.49142685],\n",
              "       [0.49089971],\n",
              "       [0.49149539],\n",
              "       [0.49089971],\n",
              "       [0.48984549],\n",
              "       [0.48977695],\n",
              "       [0.48977695],\n",
              "       [0.49089971],\n",
              "       [0.48482875],\n",
              "       [0.4854926 ],\n",
              "       [0.48924988],\n",
              "       [0.48931842],\n",
              "       [0.49037259],\n",
              "       [0.48984549],\n",
              "       [0.49037259],\n",
              "       [0.45958066],\n",
              "       [0.45951254],\n",
              "       [0.45741789],\n",
              "       [0.46436708],\n",
              "       [0.45898874],\n",
              "       [0.46174496],\n",
              "       [0.45734982],\n",
              "       [0.47139848],\n",
              "       [0.46122079],\n",
              "       [0.46377429],\n",
              "       [0.47034745],\n",
              "       [0.46108448],\n",
              "       [0.46772105],\n",
              "       [0.45958066],\n",
              "       [0.4664662 ],\n",
              "       [0.46115263],\n",
              "       [0.45951254],\n",
              "       [0.46719598],\n",
              "       [0.45951254],\n",
              "       [0.46712771],\n",
              "       [0.45459767],\n",
              "       [0.46436708],\n",
              "       [0.45741789],\n",
              "       [0.46181313],\n",
              "       [0.46279356],\n",
              "       [0.46115263],\n",
              "       [0.45905685],\n",
              "       [0.45466568],\n",
              "       [0.45951254],\n",
              "       [0.47034745],\n",
              "       [0.46765277],\n",
              "       [0.46929669],\n",
              "       [0.46600956],\n",
              "       [0.45525671],\n",
              "       [0.45951254],\n",
              "       [0.45839694],\n",
              "       [0.45846503],\n",
              "       [0.46226922],\n",
              "       [0.46384249],\n",
              "       [0.46436708],\n",
              "       [0.46338619],\n",
              "       [0.46010457],\n",
              "       [0.46548473],\n",
              "       [0.47139848],\n",
              "       [0.46331799],\n",
              "       [0.4644353 ],\n",
              "       [0.46331799],\n",
              "       [0.46279356],\n",
              "       [0.47185574],\n",
              "       [0.46384249]])"
            ]
          },
          "metadata": {},
          "execution_count": 24
        }
      ]
    },
    {
      "cell_type": "code",
      "source": [
        "preds.shape"
      ],
      "metadata": {
        "colab": {
          "base_uri": "https://localhost:8080/"
        },
        "id": "WfNJfwPlfHgv",
        "outputId": "6b6eee56-c5f2-42e8-ffb3-a6f2068f35b9"
      },
      "execution_count": 25,
      "outputs": [
        {
          "output_type": "execute_result",
          "data": {
            "text/plain": [
              "(100, 1)"
            ]
          },
          "metadata": {},
          "execution_count": 25
        }
      ]
    },
    {
      "cell_type": "code",
      "source": [
        "loss = cross_entropy_loss(y, preds)\n",
        "print(loss)"
      ],
      "metadata": {
        "id": "hpg13WLjKJzv",
        "colab": {
          "base_uri": "https://localhost:8080/"
        },
        "outputId": "59472930-bdbf-4f15-ada5-0e6aeb4ce578"
      },
      "execution_count": 26,
      "outputs": [
        {
          "output_type": "stream",
          "name": "stdout",
          "text": [
            "[[0.72155743]]\n"
          ]
        }
      ]
    },
    {
      "cell_type": "markdown",
      "source": [
        "0.5 is not bad to start with!"
      ],
      "metadata": {
        "id": "94X_MhOQreNW"
      }
    },
    {
      "cell_type": "markdown",
      "source": [
        "Now, with these outputs, we want to calculate the backprop. derivatives.\n",
        "\n",
        "![flow.png](data:image/png;base64,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)\n",
        "\n"
      ],
      "metadata": {
        "id": "RC0gliS8rvoO"
      }
    },
    {
      "cell_type": "markdown",
      "source": [
        "Let us take $$h = XW$$ and $$ g = \\sigma(XW)$$"
      ],
      "metadata": {
        "id": "lUgCIfW3w9gE"
      }
    },
    {
      "cell_type": "markdown",
      "source": [
        "### First, we will calculate:\n",
        "\\begin{align}\n",
        "\\frac{\\partial Loss(X,W)}{\\partial g} = \\frac{\\partial( -y_0 * log(\\hat y_0) - (1 - y_0) * log(1 - \\hat y_0))}{\\partial g} \\newline\n",
        "= \\frac{\\partial(-y_0 * log(g) - (1 - y_0) * log(1 - g))}{\\partial g}\\newline\n",
        "= - \\frac{\\partial(y_0 * log(g))}{\\partial g} - \\frac{\\partial((1 - y_0) * log(1 - g))}{\\partial g} \\newline\n",
        "= - \\frac{y_0}{g} + \\frac{1 - y_0}{1 - g} \\newline \n",
        "= \\frac{g - y_0}{g(1-g)}\n",
        "\\end{align}"
      ],
      "metadata": {
        "id": "0QJi02srwhtv"
      }
    },
    {
      "cell_type": "code",
      "source": [
        "preds.shape"
      ],
      "metadata": {
        "colab": {
          "base_uri": "https://localhost:8080/"
        },
        "id": "9m0ERtzn72Vb",
        "outputId": "244304f2-c22c-4f55-d305-192648d3d7bb"
      },
      "execution_count": 27,
      "outputs": [
        {
          "output_type": "execute_result",
          "data": {
            "text/plain": [
              "(100, 1)"
            ]
          },
          "metadata": {},
          "execution_count": 27
        }
      ]
    },
    {
      "cell_type": "code",
      "source": [
        "dlossdg = (preds - y) / (preds * (1 - preds))\n",
        "print(dlossdg.shape)"
      ],
      "metadata": {
        "id": "tz8hwnwie-gK",
        "colab": {
          "base_uri": "https://localhost:8080/"
        },
        "outputId": "140c7a42-4b93-4d36-e076-7f839dc107bc"
      },
      "execution_count": 28,
      "outputs": [
        {
          "output_type": "stream",
          "name": "stdout",
          "text": [
            "(100, 1)\n"
          ]
        }
      ]
    },
    {
      "cell_type": "markdown",
      "source": [
        "###Now, we calculate:\n",
        "\\begin{align}\n",
        "\\frac{\\partial g}{\\partial h} = \\sigma(h) * 1 - \\sigma(h) = g(1 - g)\n",
        "\\end{align}"
      ],
      "metadata": {
        "id": "kjlCt2H0-uI0"
      }
    },
    {
      "cell_type": "code",
      "source": [
        "dgdh = preds * (1 - preds)"
      ],
      "metadata": {
        "id": "Nhysi_Xh-t4C"
      },
      "execution_count": 29,
      "outputs": []
    },
    {
      "cell_type": "markdown",
      "source": [
        "### And finally, we calculate:\n",
        "\\begin{align}\n",
        "\\frac{\\partial h}{\\partial w} = X\n",
        "\\end{align}"
      ],
      "metadata": {
        "id": "70VbPRIaAajX"
      }
    },
    {
      "cell_type": "markdown",
      "source": [
        "### Adding all of these, we get:\n",
        "\\begin{align}\n",
        "\\frac{\\partial Loss(X, W)}{\\partial w} = \\frac{\\partial Loss(X, W)}{\\partial g} * \\frac{\\partial g}{\\partial h} * \\frac{\\partial h}{\\partial w} \\newline \n",
        "= \\frac{g - y_0}{g(1-g)} * g(1-g) * X \\newline\n",
        "= X^{T} * (g-y_0)\n",
        "\\end{align}"
      ],
      "metadata": {
        "id": "v7pDTBxDAlHA"
      }
    },
    {
      "cell_type": "code",
      "source": [
        "dlossdw = X.T.dot(preds - y)\n",
        "print(dlossdw)"
      ],
      "metadata": {
        "colab": {
          "base_uri": "https://localhost:8080/"
        },
        "id": "fgb42I5UzYCU",
        "outputId": "8ddf28f3-6e19-47b5-b60d-cb1a573027df"
      },
      "execution_count": 30,
      "outputs": [
        {
          "output_type": "stream",
          "name": "stdout",
          "text": [
            "[[-78.76483652]\n",
            " [-29.64859887]]\n"
          ]
        }
      ]
    },
    {
      "cell_type": "markdown",
      "source": [
        "There we go! Those are our partial derivatives for the loss with respect to the weights.\n",
        "\n",
        "They can be interpreted as **levers** that tell you which way you should move to decrease the loss. As our derivatives are -ve, that tells us that if we go on increasing the weights, the loss will decrease."
      ],
      "metadata": {
        "id": "pPsyjJwXBahH"
      }
    },
    {
      "cell_type": "markdown",
      "source": [
        "Before we move on to training a model, we must first divide the data into train and test samples."
      ],
      "metadata": {
        "id": "BkDOBz69Ov8K"
      }
    },
    {
      "cell_type": "code",
      "source": [
        "from sklearn.model_selection import train_test_split\n",
        "\n",
        "X_train, X_test, y_train, y_test = train_test_split(X, y, test_size = 0.3, random_state = 42)"
      ],
      "metadata": {
        "id": "6D7VQYM8O42t"
      },
      "execution_count": 31,
      "outputs": []
    },
    {
      "cell_type": "code",
      "source": [
        "class LogisticRegression():\n",
        "    def __init__(self, lr = 0.001, epochs = 10, reg_param = 0.01):\n",
        "        \"\"\"\n",
        "        Initialize model with learning rate, epochs, and regularization parameter.\n",
        "        \"\"\"\n",
        "        self.lr = lr\n",
        "        self.epochs = epochs\n",
        "        self.reg_param = reg_param\n",
        "\n",
        "    def gd_fit_vectorized(self, X_train, y_train, plot_loss = False, regularization = False):\n",
        "        m = X_train.shape[0]\n",
        "        self.w = np.random.normal(size = X.shape[1]).reshape(2, 1)\n",
        "        losses = []\n",
        "        epochs = []\n",
        "        for i in range(epochs):\n",
        "            fwd = self.predict(X_train)\n",
        "            dlossdw = (X_train.T.dot(fwd - y_train)) / m\n",
        "            self.w = self.w - (self.lr * dlossdw)\n",
        "            loss = cross_entropy_loss(y_train, preds)\n",
        "            if regularization:\n",
        "                self.w -= (self.reg_param / m) * self.w\n",
        "            if plot_loss:\n",
        "                losses.append(loss)\n",
        "                epochs.append(i)\n",
        "\n",
        "        if plot_loss:\n",
        "            plt.plot(epochs, losses)\n",
        "            plt.show()\n",
        "\n",
        "        print(\"The weights are: \", self.w)\n",
        "\n",
        "    def predict(self, X_test):\n",
        "        preds = sigmoid(X_test.dot(self.w))\n",
        "        return preds"
      ],
      "metadata": {
        "id": "cGiDJ7jcBZTS"
      },
      "execution_count": 32,
      "outputs": []
    },
    {
      "cell_type": "code",
      "source": [
        ""
      ],
      "metadata": {
        "id": "nKnoFAOKUV5Q"
      },
      "execution_count": null,
      "outputs": []
    }
  ]
}