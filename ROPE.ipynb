{
  "nbformat": 4,
  "nbformat_minor": 0,
  "metadata": {
    "colab": {
      "provenance": [],
      "authorship_tag": "ABX9TyOHjh+4chH37XPI+RqSXR6n",
      "include_colab_link": true
    },
    "kernelspec": {
      "name": "python3",
      "display_name": "Python 3"
    },
    "language_info": {
      "name": "python"
    }
  },
  "cells": [
    {
      "cell_type": "markdown",
      "metadata": {
        "id": "view-in-github",
        "colab_type": "text"
      },
      "source": [
        "<a href=\"https://colab.research.google.com/github/heerboi/AI-from-scratch/blob/main/ROPE.ipynb\" target=\"_parent\"><img src=\"https://colab.research.google.com/assets/colab-badge.svg\" alt=\"Open In Colab\"/></a>"
      ]
    },
    {
      "cell_type": "code",
      "execution_count": 1,
      "metadata": {
        "id": "miaytiKHoR6y"
      },
      "outputs": [],
      "source": [
        "import torch\n",
        "import torch.nn as nn"
      ]
    },
    {
      "cell_type": "code",
      "source": [
        "x = torch.arange(20)\n",
        "x.view(5, 4)"
      ],
      "metadata": {
        "colab": {
          "base_uri": "https://localhost:8080/"
        },
        "id": "tcu5_wcJoe0B",
        "outputId": "9d29a6f9-0d4f-4237-e0ce-05ed9581b5aa"
      },
      "execution_count": 14,
      "outputs": [
        {
          "output_type": "execute_result",
          "data": {
            "text/plain": [
              "tensor([[ 0,  1,  2,  3],\n",
              "        [ 4,  5,  6,  7],\n",
              "        [ 8,  9, 10, 11],\n",
              "        [12, 13, 14, 15],\n",
              "        [16, 17, 18, 19]])"
            ]
          },
          "metadata": {},
          "execution_count": 14
        }
      ]
    },
    {
      "cell_type": "markdown",
      "source": [
        "assuming sequence length 5, with each token having 4 dims"
      ],
      "metadata": {
        "id": "u-7PiuAgPBlM"
      }
    },
    {
      "cell_type": "code",
      "source": [
        "num = torch.arange(0, 4, 2).float()\n",
        "num"
      ],
      "metadata": {
        "colab": {
          "base_uri": "https://localhost:8080/"
        },
        "id": "rtt6zCp2RSh2",
        "outputId": "95a81927-8cb3-4b87-f43c-2bf8ac27abe6"
      },
      "execution_count": 15,
      "outputs": [
        {
          "output_type": "execute_result",
          "data": {
            "text/plain": [
              "tensor([0., 2.])"
            ]
          },
          "metadata": {},
          "execution_count": 15
        }
      ]
    },
    {
      "cell_type": "code",
      "source": [
        "thetas = 1.0/10000**(num/4)\n",
        "thetas"
      ],
      "metadata": {
        "colab": {
          "base_uri": "https://localhost:8080/"
        },
        "id": "bbOHz87KPAzc",
        "outputId": "cb96bd4b-d13b-4e3d-8860-c5be73e725d3"
      },
      "execution_count": 16,
      "outputs": [
        {
          "output_type": "execute_result",
          "data": {
            "text/plain": [
              "tensor([1.0000, 0.0100])"
            ]
          },
          "metadata": {},
          "execution_count": 16
        }
      ]
    },
    {
      "cell_type": "code",
      "source": [
        "m = torch.arange(5)\n",
        "m"
      ],
      "metadata": {
        "colab": {
          "base_uri": "https://localhost:8080/"
        },
        "id": "qYW3sFrRPE9X",
        "outputId": "7dc6abae-034f-463c-94eb-d87ebcc5cfac"
      },
      "execution_count": 17,
      "outputs": [
        {
          "output_type": "execute_result",
          "data": {
            "text/plain": [
              "tensor([0, 1, 2, 3, 4])"
            ]
          },
          "metadata": {},
          "execution_count": 17
        }
      ]
    },
    {
      "cell_type": "code",
      "source": [
        "#mthetas\n",
        "# seq_len x seq_len/2\n",
        "freqs = torch.outer(m, thetas).float()\n",
        "freqs"
      ],
      "metadata": {
        "colab": {
          "base_uri": "https://localhost:8080/"
        },
        "id": "odEwC2mYQkuQ",
        "outputId": "bc6cd18a-cb44-4390-cfca-71ee48f20217"
      },
      "execution_count": 18,
      "outputs": [
        {
          "output_type": "execute_result",
          "data": {
            "text/plain": [
              "tensor([[0.0000, 0.0000],\n",
              "        [1.0000, 0.0100],\n",
              "        [2.0000, 0.0200],\n",
              "        [3.0000, 0.0300],\n",
              "        [4.0000, 0.0400]])"
            ]
          },
          "metadata": {},
          "execution_count": 18
        }
      ]
    },
    {
      "cell_type": "code",
      "source": [
        "# polar uses abs and angle arg as: abs*cos(angle) + abs*sin(angle)*i\n",
        "freqs_complex = torch.polar(torch.ones_like(freqs), freqs)\n",
        "freqs_complex"
      ],
      "metadata": {
        "colab": {
          "base_uri": "https://localhost:8080/"
        },
        "id": "1GnmXu4JQ8ha",
        "outputId": "e8eb47ee-5ad6-4152-dae9-aa4d614af69f"
      },
      "execution_count": 20,
      "outputs": [
        {
          "output_type": "execute_result",
          "data": {
            "text/plain": [
              "tensor([[ 1.0000+0.0000j,  1.0000+0.0000j],\n",
              "        [ 0.5403+0.8415j,  0.9999+0.0100j],\n",
              "        [-0.4161+0.9093j,  0.9998+0.0200j],\n",
              "        [-0.9900+0.1411j,  0.9996+0.0300j],\n",
              "        [-0.6536-0.7568j,  0.9992+0.0400j]])"
            ]
          },
          "metadata": {},
          "execution_count": 20
        }
      ]
    },
    {
      "cell_type": "markdown",
      "source": [],
      "metadata": {
        "id": "iQv0GODsSTZu"
      }
    },
    {
      "cell_type": "code",
      "source": [
        "x = x.view(5, 4)\n",
        "# break into pairs of two = (5, 4) -> (5, 2, 2)\n",
        "x_broken_down = x.float().reshape(*x.shape[:-1], -1, 2)"
      ],
      "metadata": {
        "id": "r_Pyy7NnSTBk"
      },
      "execution_count": 25,
      "outputs": []
    },
    {
      "cell_type": "code",
      "source": [
        "x_broken_down_complex = torch.view_as_complex(x_broken_down)"
      ],
      "metadata": {
        "id": "G_OOP2k8SxCP"
      },
      "execution_count": 28,
      "outputs": []
    },
    {
      "cell_type": "code",
      "source": [
        "x_broken_down_complex"
      ],
      "metadata": {
        "colab": {
          "base_uri": "https://localhost:8080/"
        },
        "id": "uFJ6QdBBSmGn",
        "outputId": "4304bc53-2068-45c0-f85c-bdb8f06ea3c6"
      },
      "execution_count": 29,
      "outputs": [
        {
          "output_type": "execute_result",
          "data": {
            "text/plain": [
              "tensor([[ 0.+1.j,  2.+3.j],\n",
              "        [ 4.+5.j,  6.+7.j],\n",
              "        [ 8.+9.j, 10.+11.j],\n",
              "        [12.+13.j, 14.+15.j],\n",
              "        [16.+17.j, 18.+19.j]])"
            ]
          },
          "metadata": {},
          "execution_count": 29
        }
      ]
    },
    {
      "cell_type": "code",
      "source": [
        "rot_x_complex = x_broken_down_complex * freqs_complex\n",
        "rot_x_complex"
      ],
      "metadata": {
        "colab": {
          "base_uri": "https://localhost:8080/"
        },
        "id": "KZ8zJagXTLHL",
        "outputId": "e0dc3e5f-45f6-4cd1-eb3a-829b9f3e9ccd"
      },
      "execution_count": 30,
      "outputs": [
        {
          "output_type": "execute_result",
          "data": {
            "text/plain": [
              "tensor([[  0.0000+1.0000j,   2.0000+3.0000j],\n",
              "        [ -2.0461+6.0674j,   5.9297+7.0596j],\n",
              "        [-11.5129+3.5291j,   9.7780+11.1978j],\n",
              "        [-13.7145-11.1765j,  13.5438+15.4132j],\n",
              "        [  2.4073-23.2208j,  17.2258+19.7046j]])"
            ]
          },
          "metadata": {},
          "execution_count": 30
        }
      ]
    },
    {
      "cell_type": "code",
      "source": [],
      "metadata": {
        "id": "KAdY5K4LThUN"
      },
      "execution_count": null,
      "outputs": []
    },
    {
      "cell_type": "code",
      "source": [
        "rot_x = torch.view_as_real(rot_x_complex).reshape(*x.shape[:-1], -1)\n",
        "rot_x"
      ],
      "metadata": {
        "colab": {
          "base_uri": "https://localhost:8080/"
        },
        "id": "8e0-SP7YTQRB",
        "outputId": "8d3dfcbc-fd0b-4e75-9107-7109bdc898a4"
      },
      "execution_count": 35,
      "outputs": [
        {
          "output_type": "execute_result",
          "data": {
            "text/plain": [
              "tensor([[  0.0000,   1.0000,   2.0000,   3.0000],\n",
              "        [ -2.0461,   6.0674,   5.9297,   7.0596],\n",
              "        [-11.5129,   3.5291,   9.7780,  11.1978],\n",
              "        [-13.7145, -11.1765,  13.5438,  15.4132],\n",
              "        [  2.4073, -23.2208,  17.2258,  19.7046]])"
            ]
          },
          "metadata": {},
          "execution_count": 35
        }
      ]
    },
    {
      "cell_type": "code",
      "source": [
        "x"
      ],
      "metadata": {
        "colab": {
          "base_uri": "https://localhost:8080/"
        },
        "id": "F8wFzxTrTejX",
        "outputId": "7f190fcb-0332-463a-845a-6a5bb24d5be0"
      },
      "execution_count": 36,
      "outputs": [
        {
          "output_type": "execute_result",
          "data": {
            "text/plain": [
              "tensor([[ 0,  1,  2,  3],\n",
              "        [ 4,  5,  6,  7],\n",
              "        [ 8,  9, 10, 11],\n",
              "        [12, 13, 14, 15],\n",
              "        [16, 17, 18, 19]])"
            ]
          },
          "metadata": {},
          "execution_count": 36
        }
      ]
    },
    {
      "cell_type": "code",
      "source": [],
      "metadata": {
        "id": "-gTljSfbTnZp"
      },
      "execution_count": null,
      "outputs": []
    }
  ]
}