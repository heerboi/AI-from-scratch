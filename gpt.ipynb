{
  "nbformat": 4,
  "nbformat_minor": 0,
  "metadata": {
    "colab": {
      "provenance": [],
      "authorship_tag": "ABX9TyPz6LA1vtz55q9tclDsZtIM",
      "include_colab_link": true
    },
    "kernelspec": {
      "name": "python3",
      "display_name": "Python 3"
    },
    "language_info": {
      "name": "python"
    }
  },
  "cells": [
    {
      "cell_type": "markdown",
      "metadata": {
        "id": "view-in-github",
        "colab_type": "text"
      },
      "source": [
        "<a href=\"https://colab.research.google.com/github/heerboi/AI-from-scratch/blob/main/gpt.ipynb\" target=\"_parent\"><img src=\"https://colab.research.google.com/assets/colab-badge.svg\" alt=\"Open In Colab\"/></a>"
      ]
    },
    {
      "cell_type": "markdown",
      "source": [
        "Following Andrej's video: https://www.youtube.com/watch?v=kCc8FmEb1nY"
      ],
      "metadata": {
        "id": "NytWV_Vpyx2s"
      }
    },
    {
      "cell_type": "code",
      "execution_count": 90,
      "metadata": {
        "colab": {
          "base_uri": "https://localhost:8080/"
        },
        "id": "rkpGHe1_yuQ4",
        "outputId": "a9aa66b8-0bb0-4839-e759-ca0842539ddb"
      },
      "outputs": [
        {
          "output_type": "stream",
          "name": "stdout",
          "text": [
            "--2025-08-20 11:27:55--  https://raw.githubusercontent.com/karpathy/char-rnn/refs/heads/master/data/tinyshakespeare/input.txt\n",
            "Resolving raw.githubusercontent.com (raw.githubusercontent.com)... 185.199.111.133, 185.199.110.133, 185.199.108.133, ...\n",
            "Connecting to raw.githubusercontent.com (raw.githubusercontent.com)|185.199.111.133|:443... connected.\n",
            "HTTP request sent, awaiting response... 200 OK\n",
            "Length: 1115394 (1.1M) [text/plain]\n",
            "Saving to: ‘input.txt.1’\n",
            "\n",
            "input.txt.1         100%[===================>]   1.06M  --.-KB/s    in 0.06s   \n",
            "\n",
            "2025-08-20 11:27:55 (17.6 MB/s) - ‘input.txt.1’ saved [1115394/1115394]\n",
            "\n"
          ]
        }
      ],
      "source": [
        "!wget https://raw.githubusercontent.com/karpathy/char-rnn/refs/heads/master/data/tinyshakespeare/input.txt"
      ]
    },
    {
      "cell_type": "code",
      "source": [
        "with open('input.txt', 'r', encoding=\"utf-8\") as f:\n",
        "    text = f.read()"
      ],
      "metadata": {
        "id": "qbTGZmhxzsE4"
      },
      "execution_count": 91,
      "outputs": []
    },
    {
      "cell_type": "code",
      "source": [
        "text[:100]"
      ],
      "metadata": {
        "colab": {
          "base_uri": "https://localhost:8080/",
          "height": 36
        },
        "id": "N43VhIWwzy7q",
        "outputId": "15d736c1-93c6-4941-b354-585a715cc03e"
      },
      "execution_count": 92,
      "outputs": [
        {
          "output_type": "execute_result",
          "data": {
            "text/plain": [
              "'First Citizen:\\nBefore we proceed any further, hear me speak.\\n\\nAll:\\nSpeak, speak.\\n\\nFirst Citizen:\\nYou'"
            ],
            "application/vnd.google.colaboratory.intrinsic+json": {
              "type": "string"
            }
          },
          "metadata": {},
          "execution_count": 92
        }
      ]
    },
    {
      "cell_type": "code",
      "source": [
        "chars = sorted(list(set(text)))\n",
        "vocab_size = len(chars)\n",
        "print(''.join(chars))\n",
        "print(vocab_size)"
      ],
      "metadata": {
        "colab": {
          "base_uri": "https://localhost:8080/"
        },
        "id": "-dwInOXkzzs5",
        "outputId": "7ad5829f-ceca-497a-d699-64b26be51bd6"
      },
      "execution_count": 93,
      "outputs": [
        {
          "output_type": "stream",
          "name": "stdout",
          "text": [
            "\n",
            " !$&',-.3:;?ABCDEFGHIJKLMNOPQRSTUVWXYZabcdefghijklmnopqrstuvwxyz\n",
            "65\n"
          ]
        }
      ]
    },
    {
      "cell_type": "code",
      "source": [
        "stoi = {s:i for i,s in enumerate(chars)}\n",
        "itos = {i:s for s, i in stoi.items()}\n",
        "encode = lambda s: [stoi[c] for c in s]\n",
        "decode = lambda l: \"\".join([itos[i] for i in l])\n",
        "\n",
        "print(encode(\"Hii\"))\n",
        "print(decode(encode(\"Hii\")))"
      ],
      "metadata": {
        "colab": {
          "base_uri": "https://localhost:8080/"
        },
        "id": "00b0b11Oz7Ck",
        "outputId": "b16b1c00-1e2f-41b2-c6cf-402f7708b1cc"
      },
      "execution_count": 94,
      "outputs": [
        {
          "output_type": "stream",
          "name": "stdout",
          "text": [
            "[20, 47, 47]\n",
            "Hii\n"
          ]
        }
      ]
    },
    {
      "cell_type": "code",
      "source": [
        "import torch\n",
        "data = torch.tensor(encode(text), dtype=torch.long)\n",
        "print(data.shape, data.dtype)\n",
        "print(data[:100])"
      ],
      "metadata": {
        "colab": {
          "base_uri": "https://localhost:8080/"
        },
        "id": "8aZlOpG90XO8",
        "outputId": "96ecc7a0-5d13-4d53-c868-3089c1273d4f"
      },
      "execution_count": 95,
      "outputs": [
        {
          "output_type": "stream",
          "name": "stdout",
          "text": [
            "torch.Size([1115394]) torch.int64\n",
            "tensor([18, 47, 56, 57, 58,  1, 15, 47, 58, 47, 64, 43, 52, 10,  0, 14, 43, 44,\n",
            "        53, 56, 43,  1, 61, 43,  1, 54, 56, 53, 41, 43, 43, 42,  1, 39, 52, 63,\n",
            "         1, 44, 59, 56, 58, 46, 43, 56,  6,  1, 46, 43, 39, 56,  1, 51, 43,  1,\n",
            "        57, 54, 43, 39, 49,  8,  0,  0, 13, 50, 50, 10,  0, 31, 54, 43, 39, 49,\n",
            "         6,  1, 57, 54, 43, 39, 49,  8,  0,  0, 18, 47, 56, 57, 58,  1, 15, 47,\n",
            "        58, 47, 64, 43, 52, 10,  0, 37, 53, 59])\n"
          ]
        }
      ]
    },
    {
      "cell_type": "code",
      "source": [
        "split = int(0.9*len(data))\n",
        "train_data = data[:split]\n",
        "val_data = data[split:]\n",
        "print(len(train_data))\n",
        "print(len(val_data))"
      ],
      "metadata": {
        "colab": {
          "base_uri": "https://localhost:8080/"
        },
        "id": "NoNIpIhf04Lu",
        "outputId": "ed5a82d3-2add-4a37-88e0-2053ded394c3"
      },
      "execution_count": 96,
      "outputs": [
        {
          "output_type": "stream",
          "name": "stdout",
          "text": [
            "1003854\n",
            "111540\n"
          ]
        }
      ]
    },
    {
      "cell_type": "code",
      "source": [
        "#context length\n",
        "\n",
        "block_size = 8\n",
        "train_data[:block_size+1]"
      ],
      "metadata": {
        "colab": {
          "base_uri": "https://localhost:8080/"
        },
        "id": "FiXWgSi01F8t",
        "outputId": "6affd348-7b6c-41f3-f92e-20340dd042e8"
      },
      "execution_count": 97,
      "outputs": [
        {
          "output_type": "execute_result",
          "data": {
            "text/plain": [
              "tensor([18, 47, 56, 57, 58,  1, 15, 47, 58])"
            ]
          },
          "metadata": {},
          "execution_count": 97
        }
      ]
    },
    {
      "cell_type": "code",
      "source": [
        "x = train_data[:block_size]\n",
        "y = train_data[1:block_size+1]\n",
        "\n",
        "for t in range(block_size):\n",
        "    context = x[:t+1]\n",
        "    target = y[t]\n",
        "    print(context, target)"
      ],
      "metadata": {
        "colab": {
          "base_uri": "https://localhost:8080/"
        },
        "id": "KOj5UHbN1Y9v",
        "outputId": "3b868f2e-ecb8-4a4f-b697-5eea82910b8e"
      },
      "execution_count": 98,
      "outputs": [
        {
          "output_type": "stream",
          "name": "stdout",
          "text": [
            "tensor([18]) tensor(47)\n",
            "tensor([18, 47]) tensor(56)\n",
            "tensor([18, 47, 56]) tensor(57)\n",
            "tensor([18, 47, 56, 57]) tensor(58)\n",
            "tensor([18, 47, 56, 57, 58]) tensor(1)\n",
            "tensor([18, 47, 56, 57, 58,  1]) tensor(15)\n",
            "tensor([18, 47, 56, 57, 58,  1, 15]) tensor(47)\n",
            "tensor([18, 47, 56, 57, 58,  1, 15, 47]) tensor(58)\n"
          ]
        }
      ]
    },
    {
      "cell_type": "code",
      "source": [
        "torch.manual_seed(1337)\n",
        "batch_size = 4\n",
        "block_size = 8\n",
        "\n",
        "def get_batch(split):\n",
        "\n",
        "    data = train_data if split == \"train\" else val_data\n",
        "    ix = torch.randint(len(data) - block_size, (batch_size,))\n",
        "    x = torch.stack([data[i:i+block_size] for i in ix])\n",
        "    y = torch.stack([data[i+1:i+1+block_size] for i in ix])\n",
        "\n",
        "    return x, y\n",
        "\n",
        "x, y = get_batch(\"train\")\n",
        "print(x)\n",
        "print(y)"
      ],
      "metadata": {
        "id": "tM64g1Zr1vpo",
        "colab": {
          "base_uri": "https://localhost:8080/"
        },
        "outputId": "a9e4f1af-9928-4d6f-c71b-19ea6d143c60"
      },
      "execution_count": 99,
      "outputs": [
        {
          "output_type": "stream",
          "name": "stdout",
          "text": [
            "tensor([[24, 43, 58,  5, 57,  1, 46, 43],\n",
            "        [44, 53, 56,  1, 58, 46, 39, 58],\n",
            "        [52, 58,  1, 58, 46, 39, 58,  1],\n",
            "        [25, 17, 27, 10,  0, 21,  1, 54]])\n",
            "tensor([[43, 58,  5, 57,  1, 46, 43, 39],\n",
            "        [53, 56,  1, 58, 46, 39, 58,  1],\n",
            "        [58,  1, 58, 46, 39, 58,  1, 46],\n",
            "        [17, 27, 10,  0, 21,  1, 54, 39]])\n"
          ]
        }
      ]
    },
    {
      "cell_type": "code",
      "source": [
        "import torch\n",
        "import torch.nn as nn\n",
        "import torch.nn.functional as F\n",
        "\n",
        "class BigramLanguageModel(nn.Module):\n",
        "\n",
        "    def __init__(self, vocab_size):\n",
        "        super().__init__()\n",
        "\n",
        "        self.token_embedding_table = nn.Embedding(num_embeddings = vocab_size, embedding_dim = vocab_size)\n",
        "\n",
        "    def forward(self, idx, targets=None):\n",
        "        logits = self.token_embedding_table(idx)\n",
        "\n",
        "        if targets == None:\n",
        "            loss = None\n",
        "        else:\n",
        "            B, T, C = logits.shape\n",
        "\n",
        "            logits = logits.view(B*T, C)\n",
        "            targets = targets.view(-1)\n",
        "            loss = F.cross_entropy(logits, targets)\n",
        "        return logits, loss\n",
        "\n",
        "    def generate(self, idx, max_new_tokens):\n",
        "        for _ in range(max_new_tokens):\n",
        "            logits, loss = self(idx)\n",
        "            # last time step for each batch and include all embeddings\n",
        "            logits = logits[:, -1, :]\n",
        "\n",
        "            probabilities = F.softmax(logits, dim=1)\n",
        "            # (B, 1)\n",
        "            next_idx = torch.multinomial(probabilities, num_samples=1)\n",
        "            # (B, T+1)\n",
        "            idx = torch.cat((idx, next_idx), dim=1)\n",
        "        return idx\n",
        "\n",
        "m = BigramLanguageModel(vocab_size)\n",
        "out, loss = m(x, y)\n",
        "print(out.shape)\n",
        "print(out)\n",
        "\n",
        "print(decode(m.generate(torch.zeros((1,1), dtype=torch.long), max_new_tokens=100)[0].tolist()))"
      ],
      "metadata": {
        "colab": {
          "base_uri": "https://localhost:8080/"
        },
        "id": "u4M6EPHBoMlu",
        "outputId": "75f8ffb3-42fb-467d-e6d6-a77dfa1a6180"
      },
      "execution_count": 100,
      "outputs": [
        {
          "output_type": "stream",
          "name": "stdout",
          "text": [
            "torch.Size([32, 65])\n",
            "tensor([[ 1.6347, -0.0518,  0.4996,  ...,  0.2432,  1.1519,  0.9950],\n",
            "        [ 0.3418, -0.9276,  1.2381,  ...,  1.5018, -0.5266,  0.2354],\n",
            "        [ 0.1479, -0.4333,  0.5203,  ...,  0.3302,  1.5454,  1.3778],\n",
            "        ...,\n",
            "        [-0.5693, -0.0735,  0.7743,  ..., -0.0815, -1.1445, -0.0623],\n",
            "        [ 0.4658, -0.2573, -1.0673,  ...,  1.2439,  1.3471,  1.6910],\n",
            "        [-0.4553,  0.0139,  0.9309,  ...,  0.0290, -0.7568,  0.8701]],\n",
            "       grad_fn=<ViewBackward0>)\n",
            "\n",
            "lfJeukRuaRJKXAYtXzfJ:HEPiu--sDioi;ILCo3pHNTmDwJsfheKRxZCFs\n",
            "lZJ XQc?:s:HEzEnXalEPklcPU cL'DpdLCafBheH\n"
          ]
        }
      ]
    },
    {
      "cell_type": "code",
      "source": [
        "optimizer = torch.optim.AdamW(m.parameters(), lr=1e-3)"
      ],
      "metadata": {
        "id": "3qsOfqfxo86l"
      },
      "execution_count": 101,
      "outputs": []
    },
    {
      "cell_type": "code",
      "source": [
        "batch_size = 32\n",
        "\n",
        "for steps in range(5000):\n",
        "    xb,yb = get_batch('train')\n",
        "\n",
        "    logits, loss = m(xb,yb)\n",
        "\n",
        "    optimizer.zero_grad(set_to_none=True)\n",
        "    loss.backward()\n",
        "    optimizer.step()\n",
        "\n",
        "print(loss.item())"
      ],
      "metadata": {
        "colab": {
          "base_uri": "https://localhost:8080/"
        },
        "id": "2K2DOnUlrDg0",
        "outputId": "b3fb92fc-45ca-4f84-d0c8-1e6ab396bad7"
      },
      "execution_count": 102,
      "outputs": [
        {
          "output_type": "stream",
          "name": "stdout",
          "text": [
            "2.491266965866089\n"
          ]
        }
      ]
    },
    {
      "cell_type": "code",
      "source": [
        "print(decode(m.generate(torch.zeros((1,1), dtype=torch.long), max_new_tokens=1000)[0].tolist()))"
      ],
      "metadata": {
        "colab": {
          "base_uri": "https://localhost:8080/"
        },
        "id": "qMxS4jlAuH80",
        "outputId": "b94706c3-ff45-459d-aeea-bad730ac27d7"
      },
      "execution_count": 103,
      "outputs": [
        {
          "output_type": "stream",
          "name": "stdout",
          "text": [
            "\n",
            "Wast, the d f ardotxfe the ge thutheavd to w'd m gararlihe$I'spVandais\n",
            "NGclo;;\n",
            "\n",
            "HAWgRhe t sis.\n",
            "GHashm le yo ctellithed:\n",
            "Cat rxflyony w p!qMar.\n",
            "oue, d, h fJfBu nd,\n",
            "OPYCAr fus y tCg; 'd ladomurdureerawademyg:\n",
            "SHY:\n",
            "\n",
            "LCI:\n",
            "Bisthe thWADI d tounk\n",
            "WANGENI:ghe iutDoo s spope t hat zous te\n",
            "THacon b, to--upo WA s sto y: men\n",
            "We\n",
            "Old fr3QThaises\n",
            "O nefr iest ihmeld de anouace y;Gove lsear\n",
            "Theafrancit.\n",
            "NI losu mafaspeng\n",
            "TERut nopretor, metoncKI ainoroe, myd.\n",
            "Tgklfy wer rrOXDUFk bse ocesen y mC?\n",
            "I\n",
            "\n",
            "CAnd elWIsth.\n",
            "I ollis obaipe OKeorthorot weshithTh.\n",
            "ABevet wF mis by.\n",
            "To y,ler Itth my sh\n",
            "Nq-n ithooRLthajThigh--\n",
            "ay b.\n",
            "Gre myr re we.\n",
            "\n",
            "I avzirthexVI consh, se bor ontheaplyoren iHIVKXThenpkn rk, acathy llved sonk'd?-k'uso z-s grshasun th me yF-amburdasuas beather:\n",
            "UP chon gie il tKRKath:\n",
            "\n",
            "NTE:HEEE:\n",
            "Baigo y pl mpve kist Q:veje bYFle.\n",
            "OMINor\n",
            "LAine nd GIUSpldr djTy s\n",
            "Thes owe, QBHAneanoup oe heotoutho CHE:\n",
            "k! we; fererima don zl!\n",
            "w,xxveacur neth bousunem ntaiez;t ngHENG ppptherd my y oue kind\n",
            "amean oorue retrs\n"
          ]
        }
      ]
    },
    {
      "cell_type": "code",
      "source": [
        "eval_iters = 200\n",
        "@torch.no_grad()\n",
        "def estimate_loss():\n",
        "    out = {}\n",
        "    m.eval()\n",
        "    for split in [\"train\", \"val\"]:\n",
        "        losses = torch.zeros(eval_iters)\n",
        "        for k in range(eval_iters):\n",
        "            xb, yb = get_batch(split)\n",
        "            logits, loss = m(xb, yb)\n",
        "            losses[k] = loss.item()\n",
        "        out[split] = losses.mean()\n",
        "    m.train()\n",
        "    return out\n",
        "estimate_loss()"
      ],
      "metadata": {
        "colab": {
          "base_uri": "https://localhost:8080/"
        },
        "id": "JWurTw1mujpA",
        "outputId": "88bd0960-a1cb-4308-ed33-b7403ba7315a"
      },
      "execution_count": 104,
      "outputs": [
        {
          "output_type": "execute_result",
          "data": {
            "text/plain": [
              "{'train': tensor(2.5602), 'val': tensor(2.5801)}"
            ]
          },
          "metadata": {},
          "execution_count": 104
        }
      ]
    },
    {
      "cell_type": "markdown",
      "source": [
        "## Mathematical trick in self-attention!\n",
        "\n",
        "- have to average the logits in the time dim 0..t for logit t\n"
      ],
      "metadata": {
        "id": "ON796oN7wS5g"
      }
    },
    {
      "cell_type": "code",
      "source": [
        "B, T, C = 4, 8, 2\n",
        "x = torch.randn(B,T,C)"
      ],
      "metadata": {
        "id": "_dUS8nJvvWiK"
      },
      "execution_count": 105,
      "outputs": []
    },
    {
      "cell_type": "code",
      "source": [
        "div = torch.tril(torch.ones(T,T))\n",
        "div /= div.sum(dim=1, keepdim=True)\n",
        "xbow = div @ x"
      ],
      "metadata": {
        "id": "qPtTXEaowgzX"
      },
      "execution_count": 106,
      "outputs": []
    },
    {
      "cell_type": "code",
      "source": [
        "div"
      ],
      "metadata": {
        "id": "w_xjzMN0wyTa",
        "colab": {
          "base_uri": "https://localhost:8080/"
        },
        "outputId": "6264c70e-be7d-4340-aa13-64e99bf44245"
      },
      "execution_count": 107,
      "outputs": [
        {
          "output_type": "execute_result",
          "data": {
            "text/plain": [
              "tensor([[1.0000, 0.0000, 0.0000, 0.0000, 0.0000, 0.0000, 0.0000, 0.0000],\n",
              "        [0.5000, 0.5000, 0.0000, 0.0000, 0.0000, 0.0000, 0.0000, 0.0000],\n",
              "        [0.3333, 0.3333, 0.3333, 0.0000, 0.0000, 0.0000, 0.0000, 0.0000],\n",
              "        [0.2500, 0.2500, 0.2500, 0.2500, 0.0000, 0.0000, 0.0000, 0.0000],\n",
              "        [0.2000, 0.2000, 0.2000, 0.2000, 0.2000, 0.0000, 0.0000, 0.0000],\n",
              "        [0.1667, 0.1667, 0.1667, 0.1667, 0.1667, 0.1667, 0.0000, 0.0000],\n",
              "        [0.1429, 0.1429, 0.1429, 0.1429, 0.1429, 0.1429, 0.1429, 0.0000],\n",
              "        [0.1250, 0.1250, 0.1250, 0.1250, 0.1250, 0.1250, 0.1250, 0.1250]])"
            ]
          },
          "metadata": {},
          "execution_count": 107
        }
      ]
    },
    {
      "cell_type": "code",
      "source": [
        "x[0], xbow[0]"
      ],
      "metadata": {
        "id": "tPV5L8ePxMF4",
        "colab": {
          "base_uri": "https://localhost:8080/"
        },
        "outputId": "698ddee4-5574-44cf-c9af-8f432c3b6d88"
      },
      "execution_count": 108,
      "outputs": [
        {
          "output_type": "execute_result",
          "data": {
            "text/plain": [
              "(tensor([[ 0.1403, -0.0290],\n",
              "         [ 0.9005,  0.2836],\n",
              "         [-0.7107, -0.2802],\n",
              "         [ 1.4693,  0.6379],\n",
              "         [-0.3859,  1.4116],\n",
              "         [-0.6111, -1.1886],\n",
              "         [-0.4339, -0.0700],\n",
              "         [-0.1715,  0.5119]]),\n",
              " tensor([[ 0.1403, -0.0290],\n",
              "         [ 0.5204,  0.1273],\n",
              "         [ 0.1100, -0.0085],\n",
              "         [ 0.4499,  0.1531],\n",
              "         [ 0.2827,  0.4048],\n",
              "         [ 0.1337,  0.1392],\n",
              "         [ 0.0526,  0.1093],\n",
              "         [ 0.0246,  0.1597]]))"
            ]
          },
          "metadata": {},
          "execution_count": 108
        }
      ]
    },
    {
      "cell_type": "markdown",
      "source": [
        "### using softmax(infinity)\n",
        "\n",
        "hint: e^-infinity = 0, and e^0 = 1"
      ],
      "metadata": {
        "id": "YXm70ToFyUmR"
      }
    },
    {
      "cell_type": "code",
      "source": [
        "tril = torch.tril(torch.ones(T, T))\n",
        "wei = torch.zeros((T, T))\n",
        "wei = wei.masked_fill(tril==0, float('-inf'))\n",
        "wei = F.softmax(wei,dim=1)\n",
        "xbow3 = wei @ x\n",
        "wei"
      ],
      "metadata": {
        "id": "35Sr49cCx0zp",
        "colab": {
          "base_uri": "https://localhost:8080/"
        },
        "outputId": "d239a4a6-ee0d-4fa2-fe1c-e09cb3594e5c"
      },
      "execution_count": 109,
      "outputs": [
        {
          "output_type": "execute_result",
          "data": {
            "text/plain": [
              "tensor([[1.0000, 0.0000, 0.0000, 0.0000, 0.0000, 0.0000, 0.0000, 0.0000],\n",
              "        [0.5000, 0.5000, 0.0000, 0.0000, 0.0000, 0.0000, 0.0000, 0.0000],\n",
              "        [0.3333, 0.3333, 0.3333, 0.0000, 0.0000, 0.0000, 0.0000, 0.0000],\n",
              "        [0.2500, 0.2500, 0.2500, 0.2500, 0.0000, 0.0000, 0.0000, 0.0000],\n",
              "        [0.2000, 0.2000, 0.2000, 0.2000, 0.2000, 0.0000, 0.0000, 0.0000],\n",
              "        [0.1667, 0.1667, 0.1667, 0.1667, 0.1667, 0.1667, 0.0000, 0.0000],\n",
              "        [0.1429, 0.1429, 0.1429, 0.1429, 0.1429, 0.1429, 0.1429, 0.0000],\n",
              "        [0.1250, 0.1250, 0.1250, 0.1250, 0.1250, 0.1250, 0.1250, 0.1250]])"
            ]
          },
          "metadata": {},
          "execution_count": 109
        }
      ]
    },
    {
      "cell_type": "markdown",
      "source": [
        "## A bit about attention\n",
        "\n",
        "- Attention is just a mechanism that adds a set of values with a set of weights. The approach above takes the weights to be equally distributed for the node itself and the nodes before, and zero for all nodes after.\n",
        "\n",
        "- But, the current node might find more of what it needs from some nodes rather than others; it won't necessarily be equally distributed.\n",
        "\n",
        "- Paper proposes an attention function where each node (token) at time T emits a query vector that contains the information that the current node is looking for, and a key vector that contains the information that the current node has within itself.\n",
        "\n",
        "- This query vector and key vector get multiplied together to get the \"affinities\" between what the nodes are looking for and what the nodes have (T, T dimension, so each combination)\n",
        "\n",
        "- Instead of taking the average of each node, we perform softmax on this new matrix. Now, instead of multiplying the \"original\" values $x$, we multiply it with the \"value\" matrix, which is different for each attention \"head\"\n",
        "\n",
        "- As each head has a different purpose, it will have a different value to emit in each head, a different value that it posesses that makes more sense for that particular head!"
      ],
      "metadata": {
        "id": "S8MVAHSu5MES"
      }
    },
    {
      "cell_type": "code",
      "source": [
        "head_size = 16\n",
        "Q = nn.Linear(C, head_size, bias=False)\n",
        "K = nn.Linear(C, head_size, bias=False)\n",
        "V = nn.Linear(C, head_size, bias=False)\n",
        "\n",
        "queries = Q(x)\n",
        "keys = K(x)\n",
        "\n",
        "print(queries.shape)\n",
        "print(keys.shape)"
      ],
      "metadata": {
        "id": "Eq5w5Pgyyxr9",
        "colab": {
          "base_uri": "https://localhost:8080/"
        },
        "outputId": "4f1e3b90-33db-444b-dff5-b4069185b166"
      },
      "execution_count": 110,
      "outputs": [
        {
          "output_type": "stream",
          "name": "stdout",
          "text": [
            "torch.Size([4, 8, 16])\n",
            "torch.Size([4, 8, 16])\n"
          ]
        }
      ]
    },
    {
      "cell_type": "code",
      "source": [
        "T"
      ],
      "metadata": {
        "colab": {
          "base_uri": "https://localhost:8080/"
        },
        "id": "yxyAnG2zEI5B",
        "outputId": "02acb550-d50c-4225-a003-e5319843e593"
      },
      "execution_count": 111,
      "outputs": [
        {
          "output_type": "execute_result",
          "data": {
            "text/plain": [
              "8"
            ]
          },
          "metadata": {},
          "execution_count": 111
        }
      ]
    },
    {
      "cell_type": "code",
      "source": [
        "tril = torch.tril(torch.ones(T, T))\n",
        "wei = keys @ queries.transpose(-2, -1) # (4, 8, 8)\n",
        "# wei = torch.zeros((T, T))\n",
        "wei1 = wei.masked_fill(tril==0, float('-inf'))\n",
        "wei1 = F.softmax(wei1, dim=1)\n",
        "wei = F.softmax(wei,dim=1)\n",
        "\n",
        "values = V(x)\n",
        "\n",
        "xbow4 = wei @ values\n",
        "xbow5 = wei1 @ values\n",
        "print(wei.shape)\n",
        "print(xbow4.shape)"
      ],
      "metadata": {
        "colab": {
          "base_uri": "https://localhost:8080/"
        },
        "id": "ud8SI2HI8lXm",
        "outputId": "88e8821a-ffd9-4afe-8685-d9f110875539"
      },
      "execution_count": 112,
      "outputs": [
        {
          "output_type": "stream",
          "name": "stdout",
          "text": [
            "torch.Size([4, 8, 8])\n",
            "torch.Size([4, 8, 16])\n"
          ]
        }
      ]
    },
    {
      "cell_type": "code",
      "source": [
        "wei[0], xbow4[0]"
      ],
      "metadata": {
        "colab": {
          "base_uri": "https://localhost:8080/"
        },
        "id": "g2GSL_Z684KG",
        "outputId": "55197a79-a1ea-49db-e405-15a466143c19"
      },
      "execution_count": 113,
      "outputs": [
        {
          "output_type": "execute_result",
          "data": {
            "text/plain": [
              "(tensor([[1.3034e-01, 9.7777e-02, 6.5728e-02, 3.8532e-02, 4.6907e-02, 3.3497e-02,\n",
              "          9.5107e-02, 1.0166e-01],\n",
              "         [1.3475e-01, 6.9356e-02, 9.2154e-02, 1.7871e-02, 8.8114e-03, 1.3792e-01,\n",
              "          1.0369e-01, 5.5449e-02],\n",
              "         [1.2322e-01, 1.2296e-01, 5.1104e-02, 6.9791e-02, 2.9180e-01, 8.2023e-03,\n",
              "          9.2603e-02, 1.9814e-01],\n",
              "         [1.3500e-01, 4.4372e-02, 1.3851e-01, 7.2671e-03, 2.3898e-03, 4.9373e-01,\n",
              "          1.2049e-01, 3.4751e-02],\n",
              "         [9.2688e-02, 9.1358e-03, 4.3625e-01, 7.5236e-04, 7.1513e-02, 2.4623e-01,\n",
              "          2.9044e-01, 1.2821e-01],\n",
              "         [1.4848e-01, 5.2391e-01, 1.5794e-02, 8.1641e-01, 3.5730e-01, 1.7959e-03,\n",
              "          4.7736e-02, 2.0377e-01],\n",
              "         [1.2244e-01, 9.3229e-02, 6.5405e-02, 4.0686e-02, 1.5209e-01, 1.6325e-02,\n",
              "          1.0233e-01, 1.5718e-01],\n",
              "         [1.1309e-01, 3.9264e-02, 1.3505e-01, 8.6923e-03, 6.9186e-02, 6.2312e-02,\n",
              "          1.4760e-01, 1.2084e-01]], grad_fn=<SelectBackward0>),\n",
              " tensor([[ 4.5081e-02,  4.1569e-02,  2.9068e-02, -5.6943e-02, -5.7127e-02,\n",
              "           2.3209e-02, -2.4794e-03,  7.2446e-04,  7.6615e-02, -5.9510e-02,\n",
              "          -7.1837e-02, -1.6151e-02,  2.6873e-02, -5.0752e-02, -1.3643e-02,\n",
              "           1.2064e-02],\n",
              "         [-7.8040e-02, -9.0915e-02, -6.8444e-02,  2.1384e-02,  5.8760e-02,\n",
              "          -3.9415e-02, -4.0457e-02, -4.1666e-02, -1.2490e-01,  3.8786e-02,\n",
              "           1.2068e-01, -2.9719e-02, -4.8804e-02,  8.9198e-02,  7.6990e-04,\n",
              "          -7.4285e-03],\n",
              "         [ 2.1915e-01,  1.7677e-01,  1.1711e-01, -3.7987e-01, -3.3129e-01,\n",
              "           1.1384e-01, -7.1799e-02, -5.0432e-02,  3.8276e-01, -3.7505e-01,\n",
              "          -3.5413e-01, -1.5552e-01,  1.2759e-01, -2.4493e-01, -9.6824e-02,\n",
              "           7.6607e-02],\n",
              "         [-3.4195e-01, -3.8464e-01, -2.8678e-01,  1.4958e-01,  2.8652e-01,\n",
              "          -1.7326e-01, -1.4487e-01, -1.5331e-01, -5.5286e-01,  2.1645e-01,\n",
              "           5.3145e-01, -8.8461e-02, -2.1219e-01,  3.8987e-01,  1.9914e-02,\n",
              "          -4.2290e-02],\n",
              "         [-2.7410e-01, -3.9329e-01, -3.1113e-01, -2.2614e-01,  4.9753e-02,\n",
              "          -1.3547e-01, -3.1674e-01, -3.0406e-01, -4.0851e-01, -1.1445e-01,\n",
              "           4.0951e-01, -3.2948e-01, -1.8033e-01,  3.1852e-01, -8.6462e-02,\n",
              "           2.6419e-02],\n",
              "         [ 9.0401e-01,  1.1454e+00,  8.8110e-01,  1.2815e-01, -4.8524e-01,\n",
              "           4.5287e-01,  6.8655e-01,  6.7943e-01,  1.4091e+00, -1.3653e-01,\n",
              "          -1.3800e+00,  6.2511e-01,  5.7645e-01, -1.0398e+00,  1.0233e-01,\n",
              "           2.0534e-02],\n",
              "         [ 1.0992e-01,  8.1105e-02,  5.1509e-02, -2.2135e-01, -1.8219e-01,\n",
              "           5.7408e-02, -5.3875e-02, -4.1426e-02,  1.9508e-01, -2.1376e-01,\n",
              "          -1.7910e-01, -1.0103e-01,  6.3088e-02, -1.2232e-01, -5.7686e-02,\n",
              "           4.3796e-02],\n",
              "         [-3.0214e-02, -7.5461e-02, -6.4999e-02, -1.5569e-01, -6.2505e-02,\n",
              "          -1.3641e-02, -1.1072e-01, -1.0198e-01, -3.1931e-02, -1.2143e-01,\n",
              "           3.8909e-02, -1.3403e-01, -2.3745e-02,  3.7379e-02, -4.8236e-02,\n",
              "           2.5706e-02]], grad_fn=<SelectBackward0>))"
            ]
          },
          "metadata": {},
          "execution_count": 113
        }
      ]
    },
    {
      "cell_type": "code",
      "source": [
        "wei1[0], xbow5[0]"
      ],
      "metadata": {
        "colab": {
          "base_uri": "https://localhost:8080/"
        },
        "id": "dRfXBtexz4NI",
        "outputId": "43e9cc5a-0527-456d-ae92-ca0a8191e1b3"
      },
      "execution_count": 114,
      "outputs": [
        {
          "output_type": "execute_result",
          "data": {
            "text/plain": [
              "(tensor([[1.3034e-01, 0.0000e+00, 0.0000e+00, 0.0000e+00, 0.0000e+00, 0.0000e+00,\n",
              "          0.0000e+00, 0.0000e+00],\n",
              "         [1.3475e-01, 7.6873e-02, 0.0000e+00, 0.0000e+00, 0.0000e+00, 0.0000e+00,\n",
              "          0.0000e+00, 0.0000e+00],\n",
              "         [1.2322e-01, 1.3628e-01, 6.0685e-02, 0.0000e+00, 0.0000e+00, 0.0000e+00,\n",
              "          0.0000e+00, 0.0000e+00],\n",
              "         [1.3500e-01, 4.9181e-02, 1.6448e-01, 8.3167e-03, 0.0000e+00, 0.0000e+00,\n",
              "          0.0000e+00, 0.0000e+00],\n",
              "         [9.2688e-02, 1.0126e-02, 5.1804e-01, 8.6101e-04, 1.1000e-01, 0.0000e+00,\n",
              "          0.0000e+00, 0.0000e+00],\n",
              "         [1.4848e-01, 5.8069e-01, 1.8755e-02, 9.3431e-01, 5.4962e-01, 2.2328e-02,\n",
              "          0.0000e+00, 0.0000e+00],\n",
              "         [1.2244e-01, 1.0333e-01, 7.7668e-02, 4.6562e-02, 2.3395e-01, 2.0296e-01,\n",
              "          4.0943e-01, 0.0000e+00],\n",
              "         [1.1309e-01, 4.3520e-02, 1.6037e-01, 9.9476e-03, 1.0643e-01, 7.7471e-01,\n",
              "          5.9057e-01, 1.0000e+00]], grad_fn=<SelectBackward0>),\n",
              " tensor([[ 3.5628e-03,  8.0178e-03,  6.8227e-03,  1.4773e-02,  5.5061e-03,\n",
              "           1.6439e-03,  1.0978e-02,  1.0148e-02,  4.1245e-03,  1.1335e-02,\n",
              "          -4.7590e-03,  1.3125e-02,  2.6939e-03, -4.3454e-03,  4.6265e-03,\n",
              "          -2.4062e-03],\n",
              "         [ 3.1290e-02,  4.9988e-02,  4.0386e-02,  4.6554e-02,  5.1029e-03,\n",
              "           1.5259e-02,  4.8180e-02,  4.5567e-02,  4.4556e-02,  3.0322e-02,\n",
              "          -4.5760e-02,  5.3107e-02,  2.1198e-02, -3.6720e-02,  1.6008e-02,\n",
              "          -6.6307e-03],\n",
              "         [ 3.3772e-02,  5.4449e-02,  4.4064e-02,  5.2267e-02,  6.5587e-03,\n",
              "           1.6449e-02,  5.3173e-02,  5.0239e-02,  4.7887e-02,  3.4409e-02,\n",
              "          -4.9293e-02,  5.8830e-02,  2.2939e-02, -3.9668e-02,  1.7876e-02,\n",
              "          -7.5090e-03],\n",
              "         [-2.3450e-02, -3.0529e-02, -2.3636e-02, -6.6489e-03,  1.0858e-02,\n",
              "          -1.1715e-02, -1.9736e-02, -1.9365e-02, -3.6220e-02,  7.7497e-04,\n",
              "           3.5639e-02, -1.8699e-02, -1.5051e-02,  2.7029e-02, -3.6385e-03,\n",
              "           4.6851e-05],\n",
              "         [-1.0248e-01, -1.9152e-01, -1.5886e-01, -2.6569e-01, -7.5575e-02,\n",
              "          -4.8861e-02, -2.2344e-01, -2.0851e-01, -1.3459e-01, -1.9352e-01,\n",
              "           1.4448e-01, -2.5853e-01, -7.2779e-02,  1.2223e-01, -8.5941e-02,\n",
              "           4.1451e-02],\n",
              "         [ 1.0492e+00,  1.3160e+00,  1.0098e+00,  9.4074e-02, -5.9161e-01,\n",
              "           5.2616e-01,  7.6515e-01,  7.5995e-01,  1.6410e+00, -2.0395e-01,\n",
              "          -1.6043e+00,  6.8467e-01,  6.6744e-01, -1.2059e+00,  1.0259e-01,\n",
              "           3.3362e-02],\n",
              "         [-3.7239e-02, -1.0563e-01, -9.2186e-02, -2.4332e-01, -1.0378e-01,\n",
              "          -1.6304e-02, -1.6628e-01, -1.5261e-01, -3.4204e-02, -1.9246e-01,\n",
              "           4.5504e-02, -2.0361e-01, -3.0786e-02,  4.6961e-02, -7.4672e-02,\n",
              "           4.0646e-02],\n",
              "         [-4.0082e-01, -6.0021e-01, -4.7897e-01, -4.3289e-01,  1.9617e-02,\n",
              "          -1.9708e-01, -5.2243e-01, -4.9813e-01, -5.8713e-01, -2.5241e-01,\n",
              "           5.9397e-01, -5.5816e-01, -2.6671e-01,  4.6755e-01, -1.5668e-01,\n",
              "           5.6448e-02]], grad_fn=<SelectBackward0>))"
            ]
          },
          "metadata": {},
          "execution_count": 114
        }
      ]
    },
    {
      "cell_type": "markdown",
      "source": [
        "there's a little problem tho"
      ],
      "metadata": {
        "id": "dKahmYxO9LWI"
      }
    },
    {
      "cell_type": "code",
      "source": [
        "query = torch.randn((4, 8, 16))\n",
        "key = torch.randn((4, 8, 16))\n",
        "\n",
        "print(query.var())\n",
        "print(key.var())"
      ],
      "metadata": {
        "colab": {
          "base_uri": "https://localhost:8080/"
        },
        "id": "7MviIC_B85ZP",
        "outputId": "035976ad-a2b4-4833-8b27-7e6bca0f367d"
      },
      "execution_count": 115,
      "outputs": [
        {
          "output_type": "stream",
          "name": "stdout",
          "text": [
            "tensor(0.9601)\n",
            "tensor(0.8890)\n"
          ]
        }
      ]
    },
    {
      "cell_type": "code",
      "source": [
        "qk = key @ query.transpose(-2, -1)\n",
        "print(qk.var())"
      ],
      "metadata": {
        "colab": {
          "base_uri": "https://localhost:8080/"
        },
        "id": "By5GzZm79Vob",
        "outputId": "9458f242-fbe0-4c3a-b978-aca16bf86dea"
      },
      "execution_count": 116,
      "outputs": [
        {
          "output_type": "stream",
          "name": "stdout",
          "text": [
            "tensor(14.1292)\n"
          ]
        }
      ]
    },
    {
      "cell_type": "markdown",
      "source": [
        "HUGE difference in variance, and when variance is high, means the difference between the values is huge. Since we'll apply softmax on this, if the values are very imbalanced, there'll be a huge imbalance in the weight assigned to other nodes, esp when the network is still untrained.\n",
        "\n",
        "The paper proposes dividing the multiplication by the square root of head size, let's try it."
      ],
      "metadata": {
        "id": "G4-T_jSe9cfm"
      }
    },
    {
      "cell_type": "code",
      "source": [
        "qk = key @ query.transpose(-2, -1) * head_size**-0.5\n",
        "print(qk.var())"
      ],
      "metadata": {
        "colab": {
          "base_uri": "https://localhost:8080/"
        },
        "id": "_abuJIVD9b2-",
        "outputId": "e1c1fdd3-675a-4d34-a4d6-77093e5fd4a7"
      },
      "execution_count": 117,
      "outputs": [
        {
          "output_type": "stream",
          "name": "stdout",
          "text": [
            "tensor(0.8831)\n"
          ]
        }
      ]
    },
    {
      "cell_type": "markdown",
      "source": [
        "looks good"
      ],
      "metadata": {
        "id": "R1-WGUgd-B8J"
      }
    },
    {
      "cell_type": "code",
      "source": [
        "# num of attn heads running in parallel\n",
        "n_heads = 8\n",
        "# embedding size\n",
        "# all layer final outputs must match 256\n",
        "n_embd = 256\n",
        "\n",
        "# individual heads are concat at the end\n",
        "head_size = n_embd // n_heads\n",
        "\n",
        "# size of ffn hidden layer\n",
        "hidden_size = 512\n",
        "\n",
        "# total number of stacked transformer blocks\n",
        "n_blocks = 4"
      ],
      "metadata": {
        "id": "5MKXYQYFDYN0"
      },
      "execution_count": 118,
      "outputs": []
    },
    {
      "cell_type": "code",
      "source": [
        "class SingleAttentionHead(nn.Module):\n",
        "\n",
        "    def __init__(self):\n",
        "        super().__init__()\n",
        "        self.Q = nn.Linear(n_embd, head_size, bias=False)\n",
        "        self.K = nn.Linear(n_embd, head_size, bias=False)\n",
        "        self.V = nn.Linear(n_embd, head_size, bias=False)\n",
        "        self.register_buffer('tril', torch.tril(torch.ones(block_size, block_size)))\n",
        "\n",
        "    def forward(self, x):\n",
        "        B, T, C = x.shape\n",
        "        # (B, T, head_size)\n",
        "        queries = self.Q(x)\n",
        "        keys = self.K(x)\n",
        "        values = self.V(x)\n",
        "\n",
        "        wei = keys @ queries.transpose(-2, -1) * head_size ** -0.5\n",
        "        wei = wei.masked_fill(self.tril == 0, float('-inf'))\n",
        "        wei = F.softmax(wei, dim=-1)\n",
        "\n",
        "        x = wei @ values\n",
        "        return x\n",
        "\n",
        "class FFN(nn.Module):\n",
        "\n",
        "    def __init__(self, in_features, out_features, bias=True):\n",
        "        super().__init__()\n",
        "        self.layers = nn.Sequential(\n",
        "            # op: (B, T, hidden_size)\n",
        "            nn.Linear(in_features, hidden_size, bias=bias),\n",
        "            nn.ReLU(),\n",
        "            # op: (B, T, n_embd)\n",
        "            nn.Linear(hidden_size, out_features, bias=bias),\n",
        "            nn.LayerNorm(out_features)\n",
        "        )\n",
        "\n",
        "    def forward(self, x):\n",
        "        out = x + self.layers(x)\n",
        "        return out"
      ],
      "metadata": {
        "id": "s2jpLZClDhIw"
      },
      "execution_count": 119,
      "outputs": []
    },
    {
      "cell_type": "code",
      "source": [
        "class MultiAttentionBlock(nn.Module):\n",
        "\n",
        "    def __init__(self):\n",
        "        super().__init__()\n",
        "        self.heads = [SingleAttentionHead() for _ in range(n_heads)]\n",
        "\n",
        "        self.linear = nn.Linear(n_embd, n_embd)\n",
        "\n",
        "        self.layer_norm = nn.LayerNorm(n_embd)\n",
        "\n",
        "    def forward(self, x):\n",
        "        # each op: (B, T, head_size)\n",
        "        act = [head(x) for head in self.heads]\n",
        "        # op: (B, T, n_embd)\n",
        "        out = x + self.layer_norm(self.linear(torch.concat(act, dim=-1)))\n",
        "\n",
        "        return out\n",
        "\n",
        "class DecoderBlock(nn.Module):\n",
        "    def __init__(self):\n",
        "        super().__init__()\n",
        "\n",
        "        self.multi_attention_block = MultiAttentionBlock()\n",
        "        self.ffn = FFN(n_embd, n_embd)\n",
        "\n",
        "    def forward(self, x):\n",
        "        x = self.ffn(self.multi_attention_block(x))\n",
        "\n",
        "        return x"
      ],
      "metadata": {
        "id": "ple-0ccT-t8z"
      },
      "execution_count": 120,
      "outputs": []
    },
    {
      "cell_type": "code",
      "source": [
        "def positional_embed(seq_len, n_embd):\n",
        "    pe = torch.zeros(seq_len, n_embd)\n",
        "\n",
        "    position = torch.arange(0, seq_len).unsqueeze(1).float()\n",
        "    even = torch.arange(0,n_embd,2).float()\n",
        "\n",
        "    pe[:, 0::2] = torch.sin(position / 10000**(2*even/n_embd))\n",
        "    pe[:, 1::2] = torch.cos(position / 10000**((2*even+1)/n_embd))\n",
        "    return pe"
      ],
      "metadata": {
        "id": "m4W7O68s0nMp"
      },
      "execution_count": 121,
      "outputs": []
    },
    {
      "cell_type": "code",
      "source": [
        "class Decoder(nn.Module):\n",
        "\n",
        "    def __init__(self):\n",
        "        super().__init__()\n",
        "\n",
        "        self.token_embedding_table = nn.Embedding(num_embeddings=vocab_size, embedding_dim=n_embd)\n",
        "        self.position_embedding_table = positional_embed(block_size, n_embd)\n",
        "        # self.lm_head = SingleAttentionHead(head_size)\n",
        "        # self.ffn = FFN(head_size, hidden_size)\n",
        "        # self.attention_block = SingleAttentionBlock(head_size, hidden_size)\n",
        "\n",
        "        # inp: (B, T, n_embd)\n",
        "        # op:  (B, T, n_embd)\n",
        "        # self.multi_head_attn = MultiAttentionBlock()\n",
        "\n",
        "        # self.ffn = FFN(n_embd, n_embd)\n",
        "        # pairs of multi head self attn blocks + ffn in sequence\n",
        "        self.decoder_block = nn.Sequential(*[DecoderBlock() for _ in range(n_blocks)])\n",
        "\n",
        "        self.nn = nn.Linear(n_embd, vocab_size)\n",
        "\n",
        "    def forward(self, idx, targets=None):\n",
        "        B, T = idx.shape\n",
        "\n",
        "        tok_embd = self.token_embedding_table(idx)\n",
        "        pos_embd = self.position_embedding_table\n",
        "\n",
        "        x = tok_embd + pos_embd\n",
        "        # x = self.lm_head(x)\n",
        "        # x = self.ffn(x)\n",
        "        # x = self.attention_block(x)\n",
        "        # residual connections moved to their respective classes\n",
        "        x = self.decoder_block(x)\n",
        "\n",
        "        logits = self.nn(x)\n",
        "\n",
        "        if targets == None:\n",
        "            loss = None\n",
        "        else:\n",
        "            B, T, C = logits.shape\n",
        "\n",
        "            logits = logits.view(B*T, C)\n",
        "            targets = targets.view(-1)\n",
        "            loss = F.cross_entropy(logits, targets)\n",
        "\n",
        "        return logits, loss\n",
        "\n",
        "    def generate(self, idx, max_new_tokens):\n",
        "        for _ in range(max_new_tokens):\n",
        "            # pick only last 8 tokens for next token\n",
        "            idx_next = idx[:, -block_size:]\n",
        "            logits, loss = self(idx_next)\n",
        "            # last time step for each batch and include all embeddings\n",
        "            logits = logits[:, -1, :]\n",
        "\n",
        "            probabilities = F.softmax(logits, dim=1)\n",
        "            # (B, 1)\n",
        "            next_idx = torch.multinomial(probabilities, num_samples=1)\n",
        "            # (B, T+1)\n",
        "            idx = torch.cat((idx, next_idx), dim=1)\n",
        "        return idx"
      ],
      "metadata": {
        "id": "TzP0BSfl-BN4"
      },
      "execution_count": 122,
      "outputs": []
    },
    {
      "cell_type": "code",
      "source": [
        "xb, yb = get_batch('train')"
      ],
      "metadata": {
        "id": "knFr2i4bGBzh"
      },
      "execution_count": 123,
      "outputs": []
    },
    {
      "cell_type": "code",
      "source": [
        "m = Decoder()\n",
        "out, loss = m(xb, yb)\n",
        "print(out.shape)\n",
        "print(out)\n",
        "print(\"Total parameters:\")\n",
        "print(sum([p.nelement() for p in m.parameters()]))\n",
        "\n",
        "print(decode(m.generate(torch.zeros((1,8), dtype=torch.long), max_new_tokens=100)[0].tolist()))"
      ],
      "metadata": {
        "colab": {
          "base_uri": "https://localhost:8080/"
        },
        "id": "Iv5MNj94E109",
        "outputId": "61be6fa7-42de-4ae9-a352-12a9e85734f2"
      },
      "execution_count": 130,
      "outputs": [
        {
          "output_type": "stream",
          "name": "stdout",
          "text": [
            "torch.Size([4096, 65])\n",
            "tensor([[ 1.3846,  0.1480,  2.0639,  ..., -0.9663, -2.5792,  2.2899],\n",
            "        [ 1.3383,  1.5869,  2.9768,  ..., -0.0420, -1.0228, -0.5101],\n",
            "        [ 0.2080, -1.2150,  0.3590,  ...,  0.9509, -1.3939,  0.6124],\n",
            "        ...,\n",
            "        [ 1.4560, -0.1211,  2.1260,  ..., -1.2666, -1.7726,  3.1364],\n",
            "        [ 1.9481,  3.0142, -0.1396,  ..., -1.7446, -1.3527,  1.6952],\n",
            "        [ 0.6928,  0.7442,  1.5399,  ..., -1.7575, -1.3008,  1.1325]],\n",
            "       grad_fn=<ViewBackward0>)\n",
            "Total parameters:\n",
            "1352257\n",
            "\n",
            "\n",
            "\n",
            "\n",
            "\n",
            "\n",
            "\n",
            "\n",
            "vbEbScSbGFGbT\n",
            "v$QVbQCbSSbrS:ZZKSbkSSvFbP,uSv:YuTKWSFCSV:Z,KSScS:Z.CS!M-ZvSKTbSuI-SubqK?v?bSbbkK-:FCS\n"
          ]
        }
      ]
    },
    {
      "cell_type": "code",
      "source": [
        "optimizer = torch.optim.AdamW(m.parameters(), lr=5e-3)"
      ],
      "metadata": {
        "id": "xOJ34uahHkTa"
      },
      "execution_count": 131,
      "outputs": []
    },
    {
      "cell_type": "code",
      "source": [
        "batch_size = 512\n",
        "\n",
        "for steps in range(2500):\n",
        "    xb,yb = get_batch('train')\n",
        "\n",
        "    logits, loss = m(xb,yb)\n",
        "\n",
        "    optimizer.zero_grad(set_to_none=True)\n",
        "    loss.backward()\n",
        "    optimizer.step()\n",
        "    if steps % 100 == 0:\n",
        "        print(f\"Loss at {steps}: {loss.item()}\")"
      ],
      "metadata": {
        "colab": {
          "base_uri": "https://localhost:8080/"
        },
        "id": "T69G9XLvFNuy",
        "outputId": "cf268c05-ca01-4bbe-b551-ce069013adab"
      },
      "execution_count": 132,
      "outputs": [
        {
          "output_type": "stream",
          "name": "stdout",
          "text": [
            "Loss at 0: 6.1375322341918945\n",
            "Loss at 100: 2.451122760772705\n",
            "Loss at 200: 2.356013774871826\n",
            "Loss at 300: 2.2939491271972656\n",
            "Loss at 400: 2.147066116333008\n",
            "Loss at 500: 2.0996806621551514\n",
            "Loss at 600: 2.0396978855133057\n",
            "Loss at 700: 1.9509673118591309\n",
            "Loss at 800: 1.9052704572677612\n",
            "Loss at 900: 1.9128633737564087\n",
            "Loss at 1000: 1.8592967987060547\n",
            "Loss at 1100: 1.8319675922393799\n",
            "Loss at 1200: 1.8313820362091064\n",
            "Loss at 1300: 1.7785439491271973\n",
            "Loss at 1400: 1.792030692100525\n",
            "Loss at 1500: 1.769928216934204\n",
            "Loss at 1600: 1.7452094554901123\n",
            "Loss at 1700: 1.7706327438354492\n",
            "Loss at 1800: 1.7523645162582397\n",
            "Loss at 1900: 1.748564600944519\n",
            "Loss at 2000: 1.751305103302002\n",
            "Loss at 2100: 1.7704108953475952\n",
            "Loss at 2200: 1.7309626340866089\n",
            "Loss at 2300: 1.7437273263931274\n",
            "Loss at 2400: 1.724327564239502\n"
          ]
        }
      ]
    },
    {
      "cell_type": "markdown",
      "source": [
        "training a bit longer bec loss still decreasing"
      ],
      "metadata": {
        "id": "J0jGHlDZWNRx"
      }
    },
    {
      "cell_type": "code",
      "source": [
        "batch_size = 512\n",
        "\n",
        "for steps in range(500):\n",
        "    xb,yb = get_batch('train')\n",
        "\n",
        "    logits, loss = m(xb,yb)\n",
        "\n",
        "    optimizer.zero_grad(set_to_none=True)\n",
        "    loss.backward()\n",
        "    optimizer.step()\n",
        "    if steps % 100 == 0:\n",
        "        print(f\"Loss at {steps}: {loss.item()}\")"
      ],
      "metadata": {
        "colab": {
          "base_uri": "https://localhost:8080/"
        },
        "id": "go5fh-huUYUX",
        "outputId": "02517b8a-6b80-49f8-d915-2d1359561ec4"
      },
      "execution_count": 129,
      "outputs": [
        {
          "output_type": "stream",
          "name": "stdout",
          "text": [
            "Loss at 0: 1.8207427263259888\n",
            "Loss at 100: 1.7284832000732422\n",
            "Loss at 200: 1.7249070405960083\n",
            "Loss at 300: 1.7687430381774902\n",
            "Loss at 400: 1.7452877759933472\n"
          ]
        }
      ]
    },
    {
      "cell_type": "code",
      "source": [
        "estimate_loss()"
      ],
      "metadata": {
        "colab": {
          "base_uri": "https://localhost:8080/"
        },
        "id": "gD7tiX0kHhLF",
        "outputId": "5ac742a6-2eed-4d37-cc6b-2643a851f82f"
      },
      "execution_count": 133,
      "outputs": [
        {
          "output_type": "execute_result",
          "data": {
            "text/plain": [
              "{'train': tensor(1.7195), 'val': tensor(1.8767)}"
            ]
          },
          "metadata": {},
          "execution_count": 133
        }
      ]
    },
    {
      "cell_type": "markdown",
      "source": [
        "* transformer with single attention block, no layer norm, and no ffn: train 2.3442 val: 2.3719\n",
        "* transformer with single attn, layer norm and ffn, no residual connection: train 2.2628 val 2.3023\n",
        "\n",
        "* transformer with multi head attn + linear, layer norm, ffn and residual connection in after multihead attn: train 1.7584 val 1.9072\n",
        "\n",
        "* transformer with multiple stacked attention-ffn blocks!: train 1.65 val 1.82\n",
        "\n",
        "* using sinusoidal positional embedding converges much faster!! train 1.71 val 1.87"
      ],
      "metadata": {
        "id": "fmZZs4jN7cAg"
      }
    },
    {
      "cell_type": "code",
      "source": [
        "print(decode(m.generate(torch.zeros((1,8), dtype=torch.long), max_new_tokens=1000)[0].tolist())[8:])"
      ],
      "metadata": {
        "colab": {
          "base_uri": "https://localhost:8080/"
        },
        "id": "Wfje3woBKECj",
        "outputId": "68d94bf7-8d5c-495e-8f95-4037747a2d31"
      },
      "execution_count": 134,
      "outputs": [
        {
          "output_type": "stream",
          "name": "stdout",
          "text": [
            "QUEEEN EEL:\n",
            "My Goveruo for certoclident return rather, agreeth Good loving from to his poisontess face,\n",
            "Or oo your forbids to embrave other;\n",
            "For I sin to your have\n",
            "that in his no merrose beforewers.\n",
            "\n",
            "Might of this segand to the fault thus that chareful, roef's\n",
            "so to your flowed of you out\n",
            "so, 'to virsueds contenting as fore'er light, if Bountry\n",
            "Clibe bucked to\n",
            "\n",
            "they palighter befter upar good What not\n",
            "To didshod:\n",
            "We shadved despared he have touch Sold,\n",
            "He knows act made\n",
            "sped people, my souse we'll 'tis a powerful.\n",
            "\n",
            "My cause tentey millate kellies, since now, dear! O, Pacians, dog\n",
            "Artiuse the forwert the Duke me authsurden thou sast my an with you to fale shall mong how some detedly\n",
            "Of hath a genelso.\n",
            "\n",
            "ANGELO:\n",
            "I know this shall deind is 'gaons' there most do to selven\n",
            "To dire--day;\n",
            "Be fareels of me,\n",
            "No. Were a my poor for I as trive the fall morse of wretchess fair\n",
            "Ted, but subject on me;\n",
            "'Tis of Gresent my stertess\n",
            "Or that judgment his face,\n",
            "You made!\n",
            "That jog not deat,\n",
            "And vial fayful\n"
          ]
        }
      ]
    },
    {
      "cell_type": "markdown",
      "source": [
        "## positional encoding\n"
      ],
      "metadata": {
        "id": "YKTiysWzj1JL"
      }
    },
    {
      "cell_type": "code",
      "source": [
        "from math import sin, cos"
      ],
      "metadata": {
        "id": "QPBYFT6jKKcY"
      },
      "execution_count": 35,
      "outputs": []
    },
    {
      "cell_type": "code",
      "source": [
        "i = list(range(1,51))\n",
        "pos = list(range(1,9))\n",
        "embeddings = {n:[] for n in pos}\n",
        "embeddings_no_div = {n:[] for n in pos}\n",
        "for p in pos:\n",
        "    for num in i:\n",
        "        if num % 2 == 0:\n",
        "            embed = sin(p)\n",
        "            div_embed = sin(p/10000**(-2*num/512))\n",
        "        else:\n",
        "            embed = cos(p)\n",
        "            div_embed = cos(p/10000**(-2*num/512))\n",
        "        embeddings_no_div[p].append(embed)\n",
        "        embeddings[p].append(div_embed)"
      ],
      "metadata": {
        "id": "ybWAVBpAkKRP"
      },
      "execution_count": 73,
      "outputs": []
    },
    {
      "cell_type": "code",
      "source": [
        "sin(1)"
      ],
      "metadata": {
        "id": "8Po-g-qDuCdx",
        "outputId": "ca469d04-f573-42f5-c3c7-aa1c4363b4ec",
        "colab": {
          "base_uri": "https://localhost:8080/"
        }
      },
      "execution_count": 66,
      "outputs": [
        {
          "output_type": "execute_result",
          "data": {
            "text/plain": [
              "0.8414709848078965"
            ]
          },
          "metadata": {},
          "execution_count": 66
        }
      ]
    },
    {
      "cell_type": "code",
      "source": [
        "import matplotlib.pyplot as plt\n",
        "fig, ax = plt.subplots(1, 2)\n",
        "fig.set_size_inches(20, 5)\n",
        "ax[0].plot(embeddings[2])\n",
        "ax[0].plot(embeddings_no_div[2], label = \"Without division\")\n",
        "# ax[0].plot(embeddings[6])\n",
        "ax[1].plot(embeddings[3])\n",
        "ax[1].plot(embeddings_no_div[3], label = \"without division\")\n",
        "# ax[1].plot(embeddings[5])\n",
        "# plt.plot([e for e in embeddings.values()],label = [f\"Pos{i}\" for i in embeddings.keys()])\n",
        "plt.legend()\n",
        "plt.show()"
      ],
      "metadata": {
        "colab": {
          "base_uri": "https://localhost:8080/",
          "height": 435
        },
        "id": "7UD2u-Hzk6OH",
        "outputId": "700d5bfd-47bf-4a91-ecfc-036e68794374"
      },
      "execution_count": 74,
      "outputs": [
        {
          "output_type": "display_data",
          "data": {
            "text/plain": [
              "<Figure size 2000x500 with 2 Axes>"
            ],
            "image/png": "[encoded data removed]"
          },
          "metadata": {}
        }
      ]
    },
    {
      "cell_type": "code",
      "source": [
        "xb"
      ],
      "metadata": {
        "id": "rQPq2cJDyOH9",
        "outputId": "1f7c0c30-a574-4cb4-9353-a5fbf69f4d4c",
        "colab": {
          "base_uri": "https://localhost:8080/"
        }
      },
      "execution_count": 75,
      "outputs": [
        {
          "output_type": "execute_result",
          "data": {
            "text/plain": [
              "tensor([[31, 43, 41, 53, 52, 42,  1, 25],\n",
              "        [61, 52,  1, 41, 46, 53, 47, 41],\n",
              "        [ 1, 51, 63,  1, 50, 47, 43, 45],\n",
              "        [58, 46, 43, 43,  1, 58, 53,  1],\n",
              "        [44, 47, 56, 43, 12,  0, 17, 42],\n",
              "        [ 0, 28, 13, 33, 24, 21, 26, 13],\n",
              "        [43, 47, 60, 43,  5, 57,  1, 47],\n",
              "        [44, 39, 41, 43,  6,  0, 32, 46],\n",
              "        [ 1, 60, 47, 53, 50, 43, 52, 58],\n",
              "        [39, 52, 52, 43, 57, 57,  6,  1],\n",
              "        [33, 25, 14, 17, 30, 24, 13, 26],\n",
              "        [ 8,  0, 31, 47, 56,  6,  1, 58],\n",
              "        [46,  1, 57, 53,  1, 50, 53, 52],\n",
              "        [59, 58,  1, 52, 53, 58,  1, 41],\n",
              "        [57, 58,  1, 46, 43,  1, 58, 46],\n",
              "        [58,  1, 42, 39, 63, 57,  6,  1],\n",
              "        [45, 43, 58,  1, 58, 46, 43, 43],\n",
              "        [57, 58, 63,  8,  0,  0, 35, 13],\n",
              "        [56, 52,  8,  0, 28, 43, 56, 41],\n",
              "        [39,  1, 40, 50, 53, 61,  8,  0],\n",
              "        [58,  1, 58, 46, 53, 59,  1, 58],\n",
              "        [16, 33, 23, 17,  1, 34, 21, 26],\n",
              "        [59,  1, 46, 53, 51, 43,  1, 58],\n",
              "        [47, 52, 42,  0, 37, 53, 59, 56],\n",
              "        [50, 43, 51, 39, 52, 10,  0, 25],\n",
              "        [45,  1, 40, 53, 58, 46,  1, 58],\n",
              "        [ 1, 58, 46, 47, 57,  1, 61, 47],\n",
              "        [53, 52, 57,  1, 56, 53, 39, 56],\n",
              "        [ 1, 58, 46, 53, 59,  1, 61, 39],\n",
              "        [56, 58,  6,  1, 58, 46, 43,  1],\n",
              "        [42,  1, 21,  1, 49, 52, 53, 61],\n",
              "        [43, 61, 57,  1, 53, 44,  1, 22]])"
            ]
          },
          "metadata": {},
          "execution_count": 75
        }
      ]
    },
    {
      "cell_type": "code",
      "source": [
        "torch.arange(0, 5).unsqueeze(1).shape"
      ],
      "metadata": {
        "id": "xk6uMeXiyT_2",
        "outputId": "3c37b3fd-9106-4efc-e369-b1af6547ce70",
        "colab": {
          "base_uri": "https://localhost:8080/"
        }
      },
      "execution_count": 79,
      "outputs": [
        {
          "output_type": "execute_result",
          "data": {
            "text/plain": [
              "torch.Size([5, 1])"
            ]
          },
          "metadata": {},
          "execution_count": 79
        }
      ]
    },
    {
      "cell_type": "code",
      "source": [
        "even = torch.arange(0,n_embd,2).float()\n",
        "even+1"
      ],
      "metadata": {
        "id": "iQgRkv8S0SMX",
        "outputId": "047a6c6f-1900-429d-e4ea-e0559fd8958c",
        "colab": {
          "base_uri": "https://localhost:8080/"
        }
      },
      "execution_count": 81,
      "outputs": [
        {
          "output_type": "execute_result",
          "data": {
            "text/plain": [
              "tensor([  1.,   3.,   5.,   7.,   9.,  11.,  13.,  15.,  17.,  19.,  21.,  23.,\n",
              "         25.,  27.,  29.,  31.,  33.,  35.,  37.,  39.,  41.,  43.,  45.,  47.,\n",
              "         49.,  51.,  53.,  55.,  57.,  59.,  61.,  63.,  65.,  67.,  69.,  71.,\n",
              "         73.,  75.,  77.,  79.,  81.,  83.,  85.,  87.,  89.,  91.,  93.,  95.,\n",
              "         97.,  99., 101., 103., 105., 107., 109., 111., 113., 115., 117., 119.,\n",
              "        121., 123., 125., 127., 129., 131., 133., 135., 137., 139., 141., 143.,\n",
              "        145., 147., 149., 151., 153., 155., 157., 159., 161., 163., 165., 167.,\n",
              "        169., 171., 173., 175., 177., 179., 181., 183., 185., 187., 189., 191.,\n",
              "        193., 195., 197., 199., 201., 203., 205., 207., 209., 211., 213., 215.,\n",
              "        217., 219., 221., 223., 225., 227., 229., 231., 233., 235., 237., 239.,\n",
              "        241., 243., 245., 247., 249., 251., 253., 255.])"
            ]
          },
          "metadata": {},
          "execution_count": 81
        }
      ]
    },
    {
      "cell_type": "code",
      "source": [
        "def positional_embed(seq_len, n_embd):\n",
        "    pe = torch.zeros(seq_len, n_embd)\n",
        "\n",
        "    position = torch.arange(0, seq_len).unsqueeze(1).float()\n",
        "    even = torch.arange(0,n_embd,2).float()\n",
        "\n",
        "    pe[:, 0::2] = torch.sin(position / 10000**(2*even/n_embd))\n",
        "    pe[:, 1::2] = torch.cos(position / 10000**((2*even+1)/n_embd))\n",
        "    return pe"
      ],
      "metadata": {
        "id": "_JZsPX1wltOu"
      },
      "execution_count": 82,
      "outputs": []
    },
    {
      "cell_type": "code",
      "source": [
        "positional_embed(8,8)"
      ],
      "metadata": {
        "id": "fVS4zFu20cYn",
        "outputId": "279c8564-ba1c-4f60-9e53-d48b39f91828",
        "colab": {
          "base_uri": "https://localhost:8080/"
        }
      },
      "execution_count": 83,
      "outputs": [
        {
          "output_type": "execute_result",
          "data": {
            "text/plain": [
              "tensor([[ 0.0000e+00,  1.0000e+00,  0.0000e+00,  1.0000e+00,  0.0000e+00,\n",
              "          1.0000e+00,  0.0000e+00,  1.0000e+00],\n",
              "        [ 8.4147e-01,  9.5042e-01,  9.9998e-03,  9.9999e-01,  1.0000e-04,\n",
              "          1.0000e+00,  1.0000e-06,  1.0000e+00],\n",
              "        [ 9.0930e-01,  8.0658e-01,  1.9999e-02,  9.9998e-01,  2.0000e-04,\n",
              "          1.0000e+00,  2.0000e-06,  1.0000e+00],\n",
              "        [ 1.4112e-01,  5.8275e-01,  2.9995e-02,  9.9995e-01,  3.0000e-04,\n",
              "          1.0000e+00,  3.0000e-06,  1.0000e+00],\n",
              "        [-7.5680e-01,  3.0114e-01,  3.9989e-02,  9.9992e-01,  4.0000e-04,\n",
              "          1.0000e+00,  4.0000e-06,  1.0000e+00],\n",
              "        [-9.5892e-01, -1.0342e-02,  4.9979e-02,  9.9988e-01,  5.0000e-04,\n",
              "          1.0000e+00,  5.0000e-06,  1.0000e+00],\n",
              "        [-2.7942e-01, -3.2080e-01,  5.9964e-02,  9.9982e-01,  6.0000e-04,\n",
              "          1.0000e+00,  6.0000e-06,  1.0000e+00],\n",
              "        [ 6.5699e-01, -5.9944e-01,  6.9943e-02,  9.9976e-01,  7.0000e-04,\n",
              "          1.0000e+00,  7.0000e-06,  1.0000e+00]])"
            ]
          },
          "metadata": {},
          "execution_count": 83
        }
      ]
    },
    {
      "cell_type": "code",
      "source": [],
      "metadata": {
        "id": "5VH00MGj0ejC"
      },
      "execution_count": null,
      "outputs": []
    }
  ]
}