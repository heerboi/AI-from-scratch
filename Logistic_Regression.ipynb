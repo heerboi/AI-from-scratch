{
  "nbformat": 4,
  "nbformat_minor": 0,
  "metadata": {
    "colab": {
      "name": "Logistic Regression.ipynb",
      "provenance": [],
      "authorship_tag": "ABX9TyOckrF0nqOMai5yINOsX8qW"
    },
    "kernelspec": {
      "name": "python3",
      "display_name": "Python 3"
    },
    "language_info": {
      "name": "python"
    }
  },
  "cells": [
    {
      "cell_type": "code",
      "metadata": {
        "id": "vPziTorODOc3"
      },
      "source": [
        "def plot_sigmoid(min, max):\n",
        "    import matplotlib.pyplot as plt \n",
        "    import numpy as np \n",
        "\n",
        "    z = np.linspace(min, max, 100) \n",
        "    def sigmoid(z):\n",
        "        return 1/(1 + np.exp(-z))\n",
        "\n",
        "    a = sigmoid(z)\n",
        "    plt.plot(z, a) \n",
        "    plt.xlabel(\"z\") \n",
        "    plt.ylabel(\"sigmoid(z)\")"
      ],
      "execution_count": null,
      "outputs": []
    },
    {
      "cell_type": "code",
      "metadata": {
        "colab": {
          "base_uri": "https://localhost:8080/",
          "height": 279
        },
        "id": "GWUW-6eI7Vup",
        "outputId": "3638167a-c6d0-40cf-f976-b2648b191c32"
      },
      "source": [
        "plot_sigmoid(-10, 10)"
      ],
      "execution_count": null,
      "outputs": [
        {
          "output_type": "display_data",
          "data": {
            "image/png": "[encoded data removed]",
            "text/plain": [
              "<Figure size 432x288 with 1 Axes>"
            ]
          },
          "metadata": {
            "needs_background": "light"
          }
        }
      ]
    },
    {
      "cell_type": "code",
      "metadata": {
        "id": "Scr6WfuZ7lNq"
      },
      "source": [
        "import numpy as np\n",
        "def cross_entropy_loss(y_true, y_pred):\n",
        "    \"\"\"\n",
        "    INPUTS:\n",
        "    y_true -> m x 1 dimensional vector\n",
        "    y_pred -> m x 1 dimensional vector\n",
        "\n",
        "    OUTPUTS:\n",
        "    loss -> scalar\n",
        "    \"\"\"\n",
        "    loss = (-1 / m) * (y_true.T.dot(y_pred) + (1 - y_true).T.dot(1 - y_pred))\n",
        "    return loss"
      ],
      "execution_count": 2,
      "outputs": []
    },
    {
      "cell_type": "code",
      "metadata": {
        "id": "r4aQ9kUHQGI5"
      },
      "source": [
        "def sigmoid(arr):\n",
        "    \"\"\"\n",
        "    Apply sigmoid function to each value in given vector.\n",
        "    \n",
        "    INPUTS:\n",
        "    arr -> matrix/vector\n",
        "\n",
        "    OUTPUTS:\n",
        "    arr -> sigmoid applied to arr\n",
        "    \"\"\"\n",
        "\n",
        "    arr = 1 / (1 + np.exp(-arr))\n",
        "    return arr"
      ],
      "execution_count": 3,
      "outputs": []
    },
    {
      "cell_type": "code",
      "metadata": {
        "id": "G6KvBif0RTTg"
      },
      "source": [
        ""
      ],
      "execution_count": null,
      "outputs": []
    }
  ]
}